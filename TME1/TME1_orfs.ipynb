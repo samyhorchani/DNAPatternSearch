{
  "cells": [
    {
      "cell_type": "markdown",
      "metadata": {
        "id": "7OM9MVTO0jzX"
      },
      "source": [
        "# TME 1 : Prédiction de gènes - Détection de gènes candidats\n",
        "\n",
        "Le but de ce TME est d’annoter les régions dans le génome qui correspondent à des gènes. Nous allons prendre en compte les différents éléments qui définissent un gène pour pouvoir déterminer les candidats à des régions codantes : phases ouvertes de lecture, propriétés statistiques du code génétique, et comparer les résultats avec l’annotation qui est disponible. \n",
        "Nous nous baserons sur le génome de _E. coli_ et ses annotations.\n"
      ]
    },
    {
      "attachments": {},
      "cell_type": "markdown",
      "metadata": {
        "id": "cQeEBXxUF9A5"
      },
      "source": [
        "**Nom etudiant 1 :*Samy HORCHANI - 28706765*\n",
        "\n",
        "**Nom etudiant 2 :*Ossama ELLIETHY - 28712429*"
      ]
    },
    {
      "cell_type": "markdown",
      "metadata": {
        "id": "QTgZfPwE0jzc"
      },
      "source": [
        "### A) Mise en route,  télécharger et preparer les données"
      ]
    },
    {
      "cell_type": "markdown",
      "metadata": {
        "id": "db238O2w0jzd"
      },
      "source": [
        "<b>Question 1)</b> Adapter les commandes du TME précédent pour télécharger le génome de _E. coli_ ainsi que ses annotations"
      ]
    },
    {
      "cell_type": "markdown",
      "metadata": {
        "id": "4TRTpTg90jze"
      },
      "source": [
        "\n",
        "ftp://ftp.ncbi.nlm.nih.gov/genomes/all/GCF/000/026/345/GCF_000026345.1_ASM2634v1/GCF_000026345.1_ASM2634v1_genomic.fna.gz\n",
        "\n",
        "ftp://ftp.ncbi.nlm.nih.gov/genomes/all/GCF/000/026/345/GCF_000026345.1_ASM2634v1/GCF_000026345.1_ASM2634v1_feature_table.txt.gz\n"
      ]
    },
    {
      "cell_type": "code",
      "execution_count": 1,
      "metadata": {
        "id": "6zJGsrRa0jze"
      },
      "outputs": [],
      "source": [
        "import urllib.request\n",
        "#Utliser la fonction urllib.request.urlretrieve(path)"
      ]
    },
    {
      "cell_type": "code",
      "execution_count": null,
      "metadata": {
        "id": "_BxtDpKN46Ku"
      },
      "outputs": [],
      "source": [
        "%%bash\n",
        "wget ftp://ftp.ncbi.nlm.nih.gov/genomes/all/GCF/000/026/345/GCF_000026345.1_ASM2634v1/GCF_000026345.1_ASM2634v1_genomic.fna.gz"
      ]
    },
    {
      "cell_type": "code",
      "execution_count": null,
      "metadata": {
        "id": "1yCPBPfX0jzg"
      },
      "outputs": [],
      "source": [
        "%%bash\n",
        "wget ftp://ftp.ncbi.nlm.nih.gov/genomes/all/GCF/000/026/345/GCF_000026345.1_ASM2634v1/GCF_000026345.1_ASM2634v1_feature_table.txt.gz\n"
      ]
    },
    {
      "cell_type": "markdown",
      "metadata": {
        "id": "PFCOUdML0jzh"
      },
      "source": [
        "<b>Question 2)</b> Decompresser les fichiers"
      ]
    },
    {
      "cell_type": "code",
      "execution_count": 1,
      "metadata": {
        "id": "P1QGNVKK0jzh"
      },
      "outputs": [],
      "source": [
        "import gzip\n",
        "import shutil"
      ]
    },
    {
      "cell_type": "code",
      "execution_count": null,
      "metadata": {
        "id": "9iaqnOLF0jzi"
      },
      "outputs": [],
      "source": [
        "%%bash\n",
        "gunzip -d GCF_000026345.1_ASM2634v1_genomic.fna.gz"
      ]
    },
    {
      "cell_type": "code",
      "execution_count": 16,
      "metadata": {
        "id": "I6pdCTwB0jzj"
      },
      "outputs": [],
      "source": [
        "%%bash\n",
        "gunzip -d GCF_000026345.1_ASM2634v1_feature_table.txt.gz"
      ]
    },
    {
      "cell_type": "markdown",
      "metadata": {
        "id": "ErLw46WB0jzk"
      },
      "source": [
        "<b>Question 3)</b> Exécuter le code ci-dessous qui va créer un dictionnaire pour représenter le code genetique. Vous avez également deux jeu de séquences pour tester les prochaines fonctions."
      ]
    },
    {
      "cell_type": "code",
      "execution_count": 2,
      "metadata": {
        "id": "3_O42GrW0jzk"
      },
      "outputs": [],
      "source": [
        "# Dictionnaire codons -> acides aminés. Les codons stops sont représentés\n",
        "# avec le caractère \"*\"\n",
        "CODEGENETIQUE = {\n",
        "    \"TTT\": \"F\", \"TTC\": \"F\",\"TTA\": \"L\",\"TTG\": \"L\",\"TCT\": \"S\",\"TCC\": \"S\",\"TCA\": \"S\",\"TCG\": \"S\",\"TAT\": \"Y\",\"TAC\": \"Y\",\n",
        "    \"TAA\": \"*\",\"TAG\": \"*\",\"TGT\": \"C\",\"TGC\": \"C\",\"TGA\": \"*\",\"TGG\": \"W\",\"CTT\": \"L\",\"CTC\": \"L\",\"CTA\": \"L\",\"CTG\": \"L\",\n",
        "    \"CCT\": \"P\",\"CCC\": \"P\",\"CCA\": \"P\",\"CCG\": \"P\",\"CAT\": \"H\",\"CAC\": \"H\",\"CAA\": \"Q\",\"CAG\": \"Q\",\"CGT\": \"R\",\"CGC\": \"R\",\n",
        "    \"CGA\": \"R\",\"CGG\": \"R\",\"ATT\": \"I\",\"ATC\": \"I\",\"ATA\": \"I\",\"ATG\": \"M\",\"ACT\": \"T\",\"ACC\": \"T\",\"ACA\": \"T\",\"ACG\": \"T\",\n",
        "    \"AAT\": \"N\",\"AAC\": \"N\",\"AAA\": \"K\",\"AAG\": \"K\",\"AGT\": \"S\",\"AGC\": \"S\",\"AGA\": \"R\",\"AGG\": \"R\",\"GTT\": \"V\",\"GTC\": \"V\",\n",
        "    \"GTA\": \"V\",\"GTG\": \"V\",\"GCT\": \"A\",\"GCC\": \"A\",\"GCA\": \"A\",\"GCG\": \"A\",\"GAT\": \"D\",\"GAC\": \"D\",\"GAA\": \"E\",\"GAG\": \"E\",\n",
        "    \"GGT\": \"G\",\"GGC\": \"G\",\"GGA\": \"G\",\"GGG\": \"G\"\n",
        "}\n",
        "\n",
        "# Utiliser les sequences TESTSEQ et TESTSEQCLEAN pour tester vos fonctions\n",
        "TESTSEQ = \"ATGAAACGCATTAGCMMCACCATTACCACCACCATCACCATTACCACAGKTAACGGTGCGGGCTGA\"\n",
        "TESTSEQCLEAN = \"ATGAAACGCATTAGCACCACCATTACCACCACCATCACCATTACCACAGGTAACGGTGCGGGCTGA\""
      ]
    },
    {
      "cell_type": "markdown",
      "metadata": {
        "id": "_-vDgNrv0jzm"
      },
      "source": [
        "### B) Annotation des phases ouvertes de lecture et traduction en séquence protéique\n",
        "\n",
        "<b>Question 1)</b> Parfois dans les génomes (représentés par des fichiers numériques), nous trouvons des nucléotides qui n'ont pas été correctement identifiés par la machine de séquençage. Certains instruments nous restreignent les possibilités à un sous-ensemble de nucléotides. Ecrire une fonction `remplace_non_identifies` qui remplace les nucléotides non identifiés par une des possibilités listées ci-dessous de façon aléatoire.<br>\n",
        "\n",
        "R = G,A (purine)<br>\n",
        "Y = T,C (pyrimidine)<br>\n",
        "K = G,T (céto)<br>\n",
        "M = A,C (amino)<br>\n",
        "S = G,C (obligations solides)<br>\n",
        "W = A,T (Les liaisons faibles)<br>\n",
        "B = G,T,C (tous sauf A)<br>\n",
        "D = G,A,T (tous sauf C)<br>\n",
        "H = A,C,T (tous sauf G)<br>\n",
        "V = G,C,A (tous sauf T)<br>\n",
        "N = A,G,C,T (any)<br>\n",
        "X = A,G,C,T (any)<br>\n",
        "\n"
      ]
    },
    {
      "cell_type": "code",
      "execution_count": 3,
      "metadata": {
        "id": "4S-H90IV0jzn"
      },
      "outputs": [],
      "source": [
        "import doctest # C’est pour pouvoir utiliser doctest.testmod() et tester les fonctions\n",
        "import random"
      ]
    },
    {
      "cell_type": "code",
      "execution_count": 4,
      "metadata": {
        "id": "iGxQjxVA0jzn"
      },
      "outputs": [
        {
          "data": {
            "text/plain": [
              "'C'"
            ]
          },
          "execution_count": 4,
          "metadata": {},
          "output_type": "execute_result"
        }
      ],
      "source": [
        "random.choice(['A', 'C', 'T', 'G'])"
      ]
    },
    {
      "cell_type": "code",
      "execution_count": 27,
      "metadata": {
        "id": "ACYGljKf0jzo"
      },
      "outputs": [
        {
          "name": "stdout",
          "output_type": "stream",
          "text": [
            "**********************************************************************\n",
            "File \"__main__\", line 19, in __main__.__liste_orfs\n",
            "Failed example:\n",
            "    sorted(liste_orfs('AAATGATGTAATAGTGTTTTGATTAGGGCAT'))\n",
            "Exception raised:\n",
            "    Traceback (most recent call last):\n",
            "      File \"/Users/samyhorchani/opt/anaconda3/lib/python3.9/doctest.py\", line 1336, in __run\n",
            "        exec(compile(example.source, filename, \"single\",\n",
            "      File \"<doctest __main__.__liste_orfs[0]>\", line 1, in <module>\n",
            "        sorted(liste_orfs('AAATGATGTAATAGTGTTTTGATTAGGGCAT'))\n",
            "    NameError: name 'liste_orfs' is not defined\n",
            "**********************************************************************\n",
            "File \"__main__\", line 8, in __main__.liste_orfs_sens\n",
            "Failed example:\n",
            "    sorted(liste_orfs_sens('AAATGATGTAATAGTGTTTTGATTAGGGCAT'))\n",
            "Expected:\n",
            "    ['ATGATGTAA', 'GTGTTTTGA']\n",
            "Got:\n",
            "    ([], [])\n",
            "    ([4], [6])\n",
            "    ([], [])\n",
            "    ['GTGTTTTGA']\n",
            "**********************************************************************\n",
            "2 items had failures:\n",
            "   1 of   1 in __main__.__liste_orfs\n",
            "   1 of   1 in __main__.liste_orfs_sens\n",
            "***Test Failed*** 2 failures.\n"
          ]
        },
        {
          "data": {
            "text/plain": [
              "'ATGAAACGCATTAGCACCACCATTACCACCACCATCACCATTACCACAGGTAACGGTGCGGGCTGA'"
            ]
          },
          "execution_count": 27,
          "metadata": {},
          "output_type": "execute_result"
        }
      ],
      "source": [
        "##### Question 1\n",
        "def remplace_non_identifies(seq: str):\n",
        "    \"\"\"\n",
        "    Remplace les nucléotides non identifiés par une des possibilités de façon aléatoire.\n",
        "    entrée seq: sequence ayant peut-etre des nucleotides non identifiés\n",
        "    sortie    : sequence (nettoyé) sans nucléotides non identifiés \n",
        "    \n",
        "    \"\"\"\n",
        "    options = {\n",
        "        \"R\": [\"G\", \"A\"],\n",
        "        \"Y\": [\"T\", \"C\"],\n",
        "        \"K\": [\"G\", \"T\"],\n",
        "        \"M\": [\"A\", \"C\"],\n",
        "        \"S\": [\"G\", \"C\"],\n",
        "        \"W\": [\"A\", \"T\"],\n",
        "        \"B\": [\"G\", \"T\", \"C\"],\n",
        "        \"D\": [\"G\", \"A\", \"T\"],\n",
        "        \"H\": [\"A\", \"C\", \"T\"],\n",
        "        \"V\": [\"G\", \"C\", \"A\"],\n",
        "        \"N\": [\"A\", \"G\", \"C\", \"T\"],\n",
        "        \"X\": [\"A\", \"G\", \"C\", \"T\"]\n",
        "    }\n",
        "    seq_clean = \"\"\n",
        "    for nucleotide in seq:\n",
        "        if(nucleotide in options.keys()):\n",
        "            seq_clean = seq_clean + random.choice(options[nucleotide])\n",
        "        else:\n",
        "            seq_clean = seq_clean + nucleotide\n",
        "    return seq_clean\n",
        "\n",
        "\n",
        "doctest.testmod()\n",
        "\n",
        "remplace_non_identifies(TESTSEQ)"
      ]
    },
    {
      "cell_type": "markdown",
      "metadata": {
        "id": "QSEvMd6o0jzo"
      },
      "source": [
        "<b>Question 2)</b> Ecrire une fonction `listecodon` qui renvoie une liste de codons pour une séquence passée en paramètre. Par exemple, si on passe la séquence ``AACGTGGCA`` comme paramètre votre fonction doit renvoyer ``[‘AAC’, ‘GTG’, ‘GCA’]``. Si la longueur de la séquence n'est pas un multiple de 3 on ne tiendra pas compte des 1 ou 2 nucléotides restant à la fin.\n"
      ]
    },
    {
      "cell_type": "code",
      "execution_count": 6,
      "metadata": {
        "id": "WU87_kH40jzo"
      },
      "outputs": [],
      "source": [
        "#Pour avoir une aide sur la documentation de python\n",
        "#?range"
      ]
    },
    {
      "cell_type": "code",
      "execution_count": 30,
      "metadata": {
        "id": "CzvgrhiY0jzp"
      },
      "outputs": [
        {
          "name": "stdout",
          "output_type": "stream",
          "text": [
            "**********************************************************************\n",
            "File \"__main__\", line 19, in __main__.__liste_orfs\n",
            "Failed example:\n",
            "    sorted(liste_orfs('AAATGATGTAATAGTGTTTTGATTAGGGCAT'))\n",
            "Exception raised:\n",
            "    Traceback (most recent call last):\n",
            "      File \"/Users/samyhorchani/opt/anaconda3/lib/python3.9/doctest.py\", line 1336, in __run\n",
            "        exec(compile(example.source, filename, \"single\",\n",
            "      File \"<doctest __main__.__liste_orfs[0]>\", line 1, in <module>\n",
            "        sorted(liste_orfs('AAATGATGTAATAGTGTTTTGATTAGGGCAT'))\n",
            "    NameError: name 'liste_orfs' is not defined\n",
            "**********************************************************************\n",
            "File \"__main__\", line 8, in __main__.liste_orfs_sens\n",
            "Failed example:\n",
            "    sorted(liste_orfs_sens('AAATGATGTAATAGTGTTTTGATTAGGGCAT'))\n",
            "Expected:\n",
            "    ['ATGATGTAA', 'GTGTTTTGA']\n",
            "Got:\n",
            "    ([], [])\n",
            "    ([4], [6])\n",
            "    ([], [])\n",
            "    ['GTGTTTTGA']\n",
            "**********************************************************************\n",
            "2 items had failures:\n",
            "   1 of   1 in __main__.__liste_orfs\n",
            "   1 of   1 in __main__.liste_orfs_sens\n",
            "***Test Failed*** 2 failures.\n"
          ]
        }
      ],
      "source": [
        "# Question 2\n",
        "def listecodon(seq:str):\n",
        "    \"\"\"\n",
        "    Renvoie une liste de codons pour une séquence passée en paramètre.\n",
        "    entrée seq : sequence de nucléotides\n",
        "    sortie     : list de codons de la sequence d'entrée\n",
        "\n",
        "    Si la longueur de la séquence n'est pas un multiple de 3 elle ne tiendra pas \n",
        "    compte des 1 ou 2 nucléotides restant à la fin.\n",
        "    \n",
        "    >>> listecodon('AAACCC')\n",
        "    ['AAA', 'CCC']\n",
        "    >>> listecodon('AAACC')\n",
        "    ['AAA']\n",
        "    >>> listecodon('AAAC')\n",
        "    ['AAA']\n",
        "    \"\"\"\n",
        "    listecodon = []\n",
        "    codon= \"\"\n",
        "    for nucleotide in seq:\n",
        "        codon = codon + nucleotide\n",
        "        if len(codon) == 3:\n",
        "            listecodon.append(codon)\n",
        "            codon = \"\"\n",
        "        \n",
        "    return listecodon\n",
        "\n",
        "doctest.testmod()\n",
        "\n",
        "assert listecodon(TESTSEQCLEAN) == [\n",
        "    'ATG', 'AAA', 'CGC', 'ATT', 'AGC', 'ACC', 'ACC', 'ATT', 'ACC', 'ACC',\n",
        "    'ACC', 'ATC', 'ACC', 'ATT', 'ACC', 'ACA', 'GGT', 'AAC', 'GGT', 'GCG',\n",
        "    'GGC', 'TGA']"
      ]
    },
    {
      "cell_type": "markdown",
      "metadata": {
        "id": "KPjayFLC0jzp"
      },
      "source": [
        "<b>Question 3)</b> Ecrire une fonction `reversecompl` qui renvoie le brin complémentaire d’une séquence passée en paramètre. Par exemple, si on passe la séquence ``AACGTGGCA`` comme paramètre votre fonction doit renvoyer ``TGCCACGTT``.\n"
      ]
    },
    {
      "cell_type": "code",
      "execution_count": 8,
      "metadata": {
        "id": "4vAcdo0b0jzq"
      },
      "outputs": [
        {
          "name": "stdout",
          "output_type": "stream",
          "text": [
            "TGCCACGTT\n"
          ]
        }
      ],
      "source": [
        "# Question 3\n",
        "def reversecompl(seq:str):\n",
        "    \"\"\"Renvoie le brin complémentaire d’une séquence.\n",
        "    entrée seq : sequence de nucléotides (brin sens)\n",
        "    sortie     : sequence de nucléotides (brin complementaire)\n",
        "    >>> reversecompl('AACGTGGCA')\n",
        "    'TGCCACGTT'\n",
        "    \"\"\"\n",
        "    compl = {'A': 'T', 'C': 'G', 'G': 'C', 'T':'A'}\n",
        "    seq_to_list = list(seq)\n",
        "    seq_to_list.reverse()\n",
        "    seq_reversecompl = \"\"\n",
        "    for i in seq_to_list:\n",
        "        seq_reversecompl = seq_reversecompl + compl[i]\n",
        "\n",
        "    return seq_reversecompl\n",
        "\n",
        "\n",
        "assert reversecompl(TESTSEQCLEAN) == \"TCAGCCCGCACCGTTACCTGTGGTAATGGTGATGGTGGTGGTAATGGTGGTGCTAATGCGTTTCAT\""
      ]
    },
    {
      "cell_type": "markdown",
      "metadata": {
        "id": "VxmjK5xnBCiY"
      },
      "source": [
        "<b>Question 4-a)</b> Ecrire une fonction `trouve_positions_orfs` qui etant donnée une liste de codon retourne les positions (start, stop) de cadre ouverts de la liste des codons, c'est à dire la séquence commençant par un des codons start: ``ATG``, ``GTG``, ``TTG`` (``ATG`` est le plus fréquent) et finissant par un des codons stop : ``TAA``, ``TAG``, ``TGA``.\n",
        "\n",
        "Note : si plusieurs start sont trouvés dans la liste de codons, l'orf débute par conventions au start le plus en amont. <br>\n"
      ]
    },
    {
      "cell_type": "code",
      "execution_count": 34,
      "metadata": {
        "id": "5QpFNQtFB_iY"
      },
      "outputs": [
        {
          "name": "stdout",
          "output_type": "stream",
          "text": [
            "**********************************************************************\n",
            "File \"__main__\", line 19, in __main__.__liste_orfs\n",
            "Failed example:\n",
            "    sorted(liste_orfs('AAATGATGTAATAGTGTTTTGATTAGGGCAT'))\n",
            "Exception raised:\n",
            "    Traceback (most recent call last):\n",
            "      File \"/Users/samyhorchani/opt/anaconda3/lib/python3.9/doctest.py\", line 1336, in __run\n",
            "        exec(compile(example.source, filename, \"single\",\n",
            "      File \"<doctest __main__.__liste_orfs[0]>\", line 1, in <module>\n",
            "        sorted(liste_orfs('AAATGATGTAATAGTGTTTTGATTAGGGCAT'))\n",
            "    NameError: name 'liste_orfs' is not defined\n",
            "**********************************************************************\n",
            "File \"__main__\", line 8, in __main__.liste_orfs_sens\n",
            "Failed example:\n",
            "    sorted(liste_orfs_sens('AAATGATGTAATAGTGTTTTGATTAGGGCAT'))\n",
            "Expected:\n",
            "    ['ATGATGTAA', 'GTGTTTTGA']\n",
            "Got:\n",
            "    ['GTGTTTTGA']\n",
            "**********************************************************************\n",
            "2 items had failures:\n",
            "   1 of   1 in __main__.__liste_orfs\n",
            "   1 of   1 in __main__.liste_orfs_sens\n",
            "***Test Failed*** 2 failures.\n"
          ]
        },
        {
          "data": {
            "text/plain": [
              "TestResults(failed=2, attempted=7)"
            ]
          },
          "execution_count": 34,
          "metadata": {},
          "output_type": "execute_result"
        }
      ],
      "source": [
        "def trouver_positions_orfs(codons:list):\n",
        "    \"\"\"Retourne les positions de cadre ouverts de la liste des codons.\n",
        "    entrée codons: liste de codons\n",
        "    sortie       : liste de positions [start] et [stop] de cadre ouverts\n",
        "    \n",
        "    >>> trouver_positions_orfs(['ATG', 'AAA', 'ATG', 'ATT', 'TAG', 'ATG', 'ACC', 'ATT', 'ACC', 'ACC', 'ACC', 'ATC', 'ACC', 'ATT', 'ACC', 'ACA', 'GGT', 'AAC', 'TGA', 'GGT', 'GCG', 'GGC'])\n",
        "    ([0, 5], [4, 18])\n",
        "    \"\"\"\n",
        "    starts = [i for i, codon in enumerate(codons) if codon in {'ATG', 'GTG', 'TTG'}] #positions de tous les starts dans codons\n",
        "    stops =  [i for i, codon in enumerate(codons) if codon in {'TAA', 'TAG', 'TGA'}] #positions de tous les stops  dans codons\n",
        "\n",
        "   \n",
        "    orf_starts = [] #renvoie la liste de positions de codons start\n",
        "    orf_stops = []  #renvoie la liste de positions de codons stop, les deux liste ont la meme taille et sont de pair start/stop \n",
        "    i = 0\n",
        "    j = 0\n",
        "\n",
        "    while i < len(starts) and j < len(stops):\n",
        "        depart = starts[i]\n",
        "        while j<len(stops) and stops[j]<depart:\n",
        "            j = j+1\n",
        "        if j<len(stops):\n",
        "            orf_starts.append(depart)\n",
        "            orf_stops.append(stops[j])\n",
        "            while i<len(starts) and starts[i]<stops[j]:\n",
        "                i=i+1   \n",
        "    return (orf_starts, orf_stops)\n",
        "doctest.testmod()"
      ]
    },
    {
      "cell_type": "code",
      "execution_count": 10,
      "metadata": {
        "id": "Lh6_xWu-9Niq"
      },
      "outputs": [
        {
          "data": {
            "text/plain": [
              "([0, 5], [4, 18])"
            ]
          },
          "execution_count": 10,
          "metadata": {},
          "output_type": "execute_result"
        }
      ],
      "source": [
        "trouver_positions_orfs(['ATG', 'AAA', 'ATG', 'ATT', 'TAG', 'ATG', 'ACC', 'ATT', 'ACC', 'ACC', 'ACC', 'ATC', 'ACC', 'ATT', 'ACC', 'ACA', 'GGT', 'AAC', 'TGA', 'GGT', 'GCG', 'GGC'])"
      ]
    },
    {
      "cell_type": "markdown",
      "metadata": {
        "id": "LOnkgyEC0jzq"
      },
      "source": [
        "<b>Question 4-b)</b> Ecrire une fonction `liste_orfs` qui retourne la liste de tous les cadres ouverts de lectures, c'est à dire les séquence commençant par un des codons start: ``ATG``, ``GTG``, ``TTG`` (``ATG`` est le plus fréquent) et finissant par un des codons stop : ``TAA``, ``TAG``, ``TGA``. Vous renverrez les séquences pour les 6 phases de lecture (3 pour le brin sens et 3 pour le brin complémentaire). Ces séquences sont nommées séquences CDS (pour _CoDing Sequences_ en anglais) et les phases ouvertes de lecture ORFS (pour _Open Reading Frame_). <br>\n",
        "\n",
        "**Note 1**: Coder d'abord la fonction `liste_orfs_sens` qui retourne la liste de trois cadres ouverts de lectures du brin sens. Pour retourver la liste de trois cadres ouverts de lectures du brin complementaire, vous pouvez combiner les deux fonctions `reversecompl` et `liste_orfs_sens`\n",
        "\n",
        "**Note 2**: Vous pouvez utiliser les fonctions precedents tels que `listecodon` et `trouver_position_orfs`\n",
        "\n",
        "\n"
      ]
    },
    {
      "cell_type": "code",
      "execution_count": 43,
      "metadata": {
        "id": "2xB-LoI_0jzq"
      },
      "outputs": [
        {
          "data": {
            "text/plain": [
              "['ATGATGTAA', 'GTGTTTTGA']"
            ]
          },
          "execution_count": 43,
          "metadata": {},
          "output_type": "execute_result"
        }
      ],
      "source": [
        "# Question 4\n",
        "\n",
        "def liste_orfs_sens(seq:str):\n",
        "    \"\"\"\n",
        "    Liste tous les cadres ouverts de lectures du brin sens.\n",
        "    entrée : sequence de nucléotides \n",
        "    sortie : liste contenant tous les cadres ouverts de lectures\n",
        "    >>> sorted(liste_orfs_sens('AAATGATGTAATAGTGTTTTGATTAGGGCAT'))\n",
        "    ['ATGATGTAA', 'GTGTTTTGA']\n",
        "    \"\"\"\n",
        "    orfs = []\n",
        "\n",
        "    #seq_comp = reversecompl(seq)\n",
        "    phase1 = trouver_positions_orfs(listecodon(seq))\n",
        "    #print(listecodon(seq))\n",
        "    #print(cadre1)\n",
        "    phase2 = trouver_positions_orfs(listecodon(seq[1:]))\n",
        "    #print(listecodon(seq[1:]))\n",
        "    #print(cadre2)\n",
        "    phase3 = trouver_positions_orfs(listecodon(seq[2:]))\n",
        "    #print(listecodon(seq[2:]))\n",
        "    #print(cadre3)\n",
        "    if phase1[0] < phase1[1]:\n",
        "        a,b = phase1\n",
        "        orfs.append(''.join(listecodon(seq)[a[0]:b[0]+1]))\n",
        "    if phase2[0] < phase2[1]:\n",
        "        a,b = phase2\n",
        "        orfs.append(''.join(listecodon(seq[1:])[a[0]:b[0]+1]))\n",
        "    if phase3[0] < phase3[1]:\n",
        "        a,b = phase3\n",
        "        orfs.append(''.join(listecodon(seq[2:])[a[0]:b[0]+1]))\n",
        "    \n",
        "\n",
        "    return orfs\n",
        "\n",
        "\n",
        "sorted(liste_orfs_sens(\"AAATGATGTAATAGTGTTTTGATTAGGGCAT\"))\n",
        "\n",
        "\n",
        "#doctest.testmod()"
      ]
    },
    {
      "cell_type": "code",
      "execution_count": 36,
      "metadata": {
        "id": "LOpsWzuI0jzs"
      },
      "outputs": [
        {
          "data": {
            "text/plain": [
              "['ATGCGCATTAGCACCACCTGA', 'ATGACCATCACCATTACCACATGA']"
            ]
          },
          "execution_count": 36,
          "metadata": {},
          "output_type": "execute_result"
        }
      ],
      "source": [
        "TestSequence = \"AAAATGCGCATTAGCACCACCTGAATTACATGACCATCACCATTACCACATGAAACGGTGCGGGC\"\n",
        "liste_orfs_sens(TestSequence)\n"
      ]
    },
    {
      "cell_type": "markdown",
      "metadata": {
        "id": "64cnu90R0jzs"
      },
      "source": [
        "Comparer vos resultats avec ceux de la fonction ci-dessus qui utilise Regular Expression"
      ]
    },
    {
      "cell_type": "code",
      "execution_count": 37,
      "metadata": {
        "id": "CI5yrmsR0jzs"
      },
      "outputs": [],
      "source": [
        "import re"
      ]
    },
    {
      "cell_type": "code",
      "execution_count": 38,
      "metadata": {
        "id": "mmtiYC9c0jzs"
      },
      "outputs": [
        {
          "data": {
            "text/plain": [
              "['ATGATGTAA', 'GTGTTTTGA']"
            ]
          },
          "execution_count": 38,
          "metadata": {},
          "output_type": "execute_result"
        }
      ],
      "source": [
        "[\n",
        "    match.group()\n",
        "    for match in re.finditer('((ATG|GTG|TTG)((?!TAA|TAG|TGA)([ACTG][ACTG][ACTG]))*(TAA|TAG|TGA))',\n",
        "                             'AAATGATGTAATAGTGTTTTGATTAGGGCAT')\n",
        "]"
      ]
    },
    {
      "cell_type": "code",
      "execution_count": 39,
      "metadata": {
        "id": "lZlihwkq0jzt"
      },
      "outputs": [
        {
          "data": {
            "text/plain": [
              "['ATGATGTAA', 'GTGTTTTGA']"
            ]
          },
          "execution_count": 39,
          "metadata": {},
          "output_type": "execute_result"
        }
      ],
      "source": [
        "def __liste_orfs_sens(seq):\n",
        "    \"\"\"Retourne la liste des cadres ouverts de lecture, sens 5' vers 3'.\n",
        "    entrée : sequence de nucléotides \n",
        "    sortie : liste contenant tous les cadres ouverts de lectures\n",
        "    \"\"\"\n",
        "    return [\n",
        "        match.group() for match in re.finditer(\n",
        "            '((ATG|GTG|TTG)((?!TAA|TAG|TGA)([ACTG][ACTG][ACTG]))*(TAA|TAG|TGA))',\n",
        "            seq)\n",
        "    ]\n",
        "\n",
        "\n",
        "def __liste_orfs(seq):\n",
        "    \"\"\"\n",
        "    Retourne la liste de tous les cadres ouverts de lectures.\n",
        "    entrée : sequence de nucléotides\n",
        "    sortie : liste des cadres ouverts de lecture\n",
        "        \n",
        "    >>> sorted(liste_orfs('AAATGATGTAATAGTGTTTTGATTAGGGCAT'))\n",
        "    ['ATGATGTAA', 'GTGTTTTGA']\n",
        "    \"\"\"\n",
        "    liste = __liste_orfs_sens(seq)\n",
        "    #liste.extend(__liste_orfs_sens(reversecompl(seq)))\n",
        "    return liste\n",
        "\n",
        "sorted(__liste_orfs_sens('AAATGATGTAATAGTGTTTTGATTAGGGCAT'))\n",
        "#doctest.testmod()\n",
        "#['ATGATGTAA', 'GTGTTTTGA']"
      ]
    },
    {
      "cell_type": "code",
      "execution_count": 40,
      "metadata": {
        "id": "Ejn8vywF0jzt"
      },
      "outputs": [
        {
          "data": {
            "text/plain": [
              "['ATGCGCATTAGCACCACCTGA', 'ATGACCATCACCATTACCACATGA']"
            ]
          },
          "execution_count": 40,
          "metadata": {},
          "output_type": "execute_result"
        }
      ],
      "source": [
        "__liste_orfs(TestSequence)"
      ]
    },
    {
      "cell_type": "code",
      "execution_count": null,
      "metadata": {},
      "outputs": [],
      "source": []
    }
  ],
  "metadata": {
    "colab": {
      "provenance": []
    },
    "kernelspec": {
      "display_name": "base",
      "language": "python",
      "name": "python3"
    },
    "language_info": {
      "codemirror_mode": {
        "name": "ipython",
        "version": 3
      },
      "file_extension": ".py",
      "mimetype": "text/x-python",
      "name": "python",
      "nbconvert_exporter": "python",
      "pygments_lexer": "ipython3",
      "version": "3.9.7"
    },
    "vscode": {
      "interpreter": {
        "hash": "cef9e2b4c364baabfda15b57ec6274b302f775f833d985ad9811ea9d6fb2d0d9"
      }
    }
  },
  "nbformat": 4,
  "nbformat_minor": 0
}
