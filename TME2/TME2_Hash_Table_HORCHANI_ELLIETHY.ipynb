{
 "cells": [
  {
   "cell_type": "markdown",
   "metadata": {
    "id": "rvIXzvLp90be"
   },
   "source": [
    "Nom Etudiant 1: Samy HORCHANI - 28706765\n",
    "<br>\n",
    "Nom Etudiant 2: Ossama ELLIETHY - 28712429"
   ]
  },
  {
   "cell_type": "markdown",
   "metadata": {
    "id": "MoRHY5QImaqy"
   },
   "source": [
    "# TME 4 : Projet Detection de motifs - Hash Table\n",
    "\n",
    "Nous allons développer des algorithmes pour chercher de motifs dans les données de ChipSeq de C. glabrata.\n",
    "Pour commencer nous allons d'abord produire des données artificielles qui nous permettront de tester rapidement nos algorithmes. Ensuite nous allons chercher les motifs dans C. glabrata et analyser les résultats.\n",
    "\n",
    "## Partie A : Recherche de pattern (motifs) identiques\n"
   ]
  },
  {
   "cell_type": "markdown",
   "metadata": {
    "id": "bmMkaXpwmaq9"
   },
   "source": [
    "1\\. Faites une fonction pour générer aléatoirement des séquences artificielles, puis générer t=10 séquences de n=41 nucléotides chacune. Toutes les lettres peuvent être équiprobables pour la génération des séquences."
   ]
  },
  {
   "cell_type": "code",
   "execution_count": 2,
   "metadata": {
    "id": "c8RaBfm0maq-"
   },
   "outputs": [
    {
     "name": "stdout",
     "output_type": "stream",
     "text": [
      "['AGGCCACG', 'CGTAGAAA', 'CGCTAAGT']\n"
     ]
    }
   ],
   "source": [
    "import random\n",
    "\n",
    "nuc = ('A', 'C', 'G', 'T')\n",
    "\n",
    "t=10 #nombre de sequences\n",
    "n=41 #longueur des sequences\n",
    "\n",
    "#Pour un simple teste\n",
    "t=3 #nombre de sequences\n",
    "n=8 #longueur des sequences\n",
    "\n",
    "def generateRandomSequence(n:int, upper=False):\n",
    "    \"\"\"\n",
    "    Genere une séquence nucléotidique aléatoire \n",
    "    entrée n : longueur de la sequence\n",
    "    entrée upper : bool, si True les nucléotides seront minuscule, False majuscule\n",
    "    sortie sequence : une séquence nucléotidique aléatoire \n",
    "    \"\"\"\n",
    "    sequence = \"\"\n",
    "\n",
    "    for i in range(n):\n",
    "        sequence = sequence + random.choice(nuc)\n",
    "    \n",
    "\n",
    "    if(upper):\n",
    "        sequence.lower() # en se fiant à la description de la fonct qui indique que upper == True veut dire que les nuc seront en minuscule ? \n",
    "\n",
    "    return sequence\n",
    "\n",
    "def generateRandomSequences(n:int, t:int):\n",
    "    \"\"\"\n",
    "    Genere plusieurs séquences nucléotidiques aléatoires \n",
    "    entrée n : longueur des sequences\n",
    "    entrée t : nombre de sequences\n",
    "    sortie sequences : liste de sequences nucléotidiques aléatoires \n",
    "    \"\"\"\n",
    "    sequences = []\n",
    "\n",
    "    for i in range(t):\n",
    "        sequences.append(generateRandomSequence(n))\n",
    "        \n",
    "    return sequences\n",
    "    \n",
    "seqs = generateRandomSequences(n, t)\n",
    "\n",
    "print (seqs)\n"
   ]
  },
  {
   "cell_type": "markdown",
   "metadata": {
    "id": "PcesMqoNmarD"
   },
   "source": [
    "2\\. Nous allons maintenant implanter dans les séquences artificielles generés avant un motif de taille `k`=9 à des positions aléatoires (choisies uniformément le long de la séquence). \n",
    "Bonus : on considère une proportion ``f``=0.9 de séquences qui possèdent le motif."
   ]
  },
  {
   "cell_type": "code",
   "execution_count": 3,
   "metadata": {
    "id": "7lVbiVK7marF"
   },
   "outputs": [
    {
     "name": "stdout",
     "output_type": "stream",
     "text": [
      "\n",
      "Sequences de base: ['AGGCCACG', 'CGTAGAAA', 'CGCTAAGT']\n",
      "\n",
      "Modified sequences: ['CAGAGGCCACG', 'CGTCAGAGAAA', 'CGCCAGTAAGT']\n"
     ]
    }
   ],
   "source": [
    "# taille des motifs k = 9\n",
    "k = 3 \n",
    "# frequences d'occurences des motifs f = 0.9 \n",
    "f = 0.9 # Pour le bonus\n",
    "\n",
    "import random\n",
    "\n",
    "def implantMotifs(motifs:str,  sequences:list, f=1):\n",
    "    \"\"\"\n",
    "    Insérer un motif dans des positions aléatoires des séquences\n",
    "    entrée motifs : motif qui va être implanté dans les séquences\n",
    "    entrée f : fréquence d'implantation si 1 toutes les sequences contiendra un motif\n",
    "    entrée séquences : liste de sequences\n",
    "    sortie modified_sequences: liste de séquences ayant le motif implanté\n",
    "    \"\"\"\n",
    "    modified_sequences = []\n",
    "    for seq in sequences :\n",
    "        new_seq = list(seq)\n",
    "        new_seq.insert(random.randint(0,len(seq)-1), motifs)\n",
    "        new_seq = ''.join(new_seq)\n",
    "        modified_sequences.append(str(new_seq))\n",
    "    \n",
    "    \n",
    "    return modified_sequences\n",
    "\n",
    "def insertMotif(sequence, motif, position):\n",
    "    return sequence[:position] + motif + sequence[position:]\n",
    "\n",
    "# Generate motifs\n",
    "def generateMotifs(k, nM):\n",
    "    return [generateRandomSequence(k, False) for rs in range(nM)]\n",
    "\n",
    "\n",
    "motif = generateRandomSequence(3, True)\n",
    "\n",
    "\n",
    "motif_implanted_seqs = implantMotifs(motif,  seqs, f)\n",
    "print(\"\\nSequences de base:\", seqs)\n",
    "print (\"\\nModified sequences:\", motif_implanted_seqs)\n",
    "\n",
    "\n",
    "\n"
   ]
  },
  {
   "cell_type": "markdown",
   "metadata": {
    "id": "xiIkrujLmarJ"
   },
   "source": [
    "3\\. Faites une fonction pour chercher les $m$ motifs de taille $k$ les plus fréquents dans l'ensemble des séquences. Tester cette fonction sur un l'ensemble de séquences avec le motif implanté génère dans les questions précédentes. Faite aussi une fonction qu'affiche les $top$ motifs les plus fréquents. "
   ]
  },
  {
   "cell_type": "code",
   "execution_count": 4,
   "metadata": {
    "id": "LPsYkRG1marK",
    "scrolled": true
   },
   "outputs": [
    {
     "name": "stdout",
     "output_type": "stream",
     "text": [
      "{'TAA': 3, 'AAG': 1, 'AGT': 1, 'GTA': 1, 'TAT': 2, 'ATA': 1, 'CTA': 1, 'ATC': 1}\n",
      "{'TAA': 3, 'TAT': 2}\n"
     ]
    }
   ],
   "source": [
    "def searchMotifs(k:int, sequences:list):\n",
    "    \"\"\"\n",
    "    Cherche les motifs de taille k dans un ensemble de séquences\n",
    "    entrée k : taille du motif\n",
    "    entrée séquences : liste de sequences\n",
    "    sortie motifs: dictionnaire de motifs, clé=motif, valeur = fréquence d'observation\n",
    "    >>>searchMotifs(3, ['TAAGTAA', 'TATAA', 'CTATC'])\n",
    "    {'TAA': 3, 'AAG': 1, 'AGT': 1, 'GTA': 1, 'TAT': 2, 'ATA': 1, 'CTA': 1, 'ATC': 1}\n",
    "    \"\"\"\n",
    "    \n",
    "    motifs  = {}\n",
    "    for seq in sequences:\n",
    "        for i in range(len(seq) - k+1):\n",
    "            mot = seq[i:i+k]\n",
    "            if mot in motifs: \n",
    "                motifs[mot] = motifs[mot] + 1\n",
    "            else:\n",
    "                motifs[mot] = 1\n",
    "\n",
    "    return motifs\n",
    "\n",
    "def getTopMotifs(motifs:dict(), top:int):\n",
    "    \"\"\"\n",
    "    renvoyer les top motifs le plus frequent\n",
    "    entrée motifs: dictionnaire de motifs, clé=motif, valeur = fréquence d'observation\n",
    "    entrée top : les top plus frequent \n",
    "    sortie motifsfreq: dictionnaire contenant les top motifs les plus fréquents, clé=motif, valeur = fréquence d'observation\n",
    "    >>>getTopMotifs({'TAA': 3, 'AAG': 1, 'AGT': 1, 'GTA': 1, 'TAT': 2, 'ATA': 1, 'CTA': 1, 'ATC': 1}, 2)\n",
    "    {'TAA': 3, 'TAT': 2}\n",
    "    \"\"\"\n",
    "\n",
    "    motifsSort = sorted(motifs, reverse=True,key=motifs.get)\n",
    "    \n",
    "    motifsfreq  = {key_value : motifs[key_value] for key_value in motifsSort[:top]}\n",
    "\n",
    "    return motifsfreq\n",
    "\n",
    "\n",
    "\n",
    "motifsFound = searchMotifs(3, ['TAAGTAA', 'TATAA', 'CTATC'])\n",
    "print (motifsFound)\n",
    "#{'TAA': 3, 'AAG': 1, 'AGT': 1, 'GTA': 1, 'TAT': 2, 'ATA': 1, 'CTA': 1, 'ATC': 1}\n",
    "topMotifs = getTopMotifs(motifsFound, 2)\n",
    "print (topMotifs)\n",
    "#{'TAA': 3, 'TAT': 2}"
   ]
  },
  {
   "cell_type": "markdown",
   "metadata": {
    "id": "G8Hw-Zj6marM"
   },
   "source": [
    "4\\. Quell est la complexité de votre algorithme?"
   ]
  },
  {
   "attachments": {},
   "cell_type": "markdown",
   "metadata": {
    "id": "3uvvJvCKmarN"
   },
   "source": [
    "<font color='blue'>\n",
    "searchMotifs : O(en(sequences)*(len(seq) - k+1))\n",
    "    \n",
    "    \n",
    "getTopMotifs : O(top)\n",
    "</font>"
   ]
  },
  {
   "cell_type": "markdown",
   "metadata": {
    "id": "H8HebyHumarO"
   },
   "source": [
    "5\\. Certains motifs sont reverse complémentaires. Implanter des motifs reverse complémentaires dans les séquences déjà générés et en suite chercher ces motifs. Attention: vous devez réutiliser les fonctions développés précédemment, pas besoin de définir des nouvelles fonctions. "
   ]
  },
  {
   "cell_type": "code",
   "execution_count": 5,
   "metadata": {
    "id": "O_zGqHAFmarO"
   },
   "outputs": [
    {
     "name": "stdout",
     "output_type": "stream",
     "text": [
      "ATTATACCTA\n",
      "TAGGTATAAT\n"
     ]
    }
   ],
   "source": [
    "\n",
    "def reversecompl(seq):\n",
    "    compl = {'A': 'T', 'C': 'G', 'G': 'C', 'T':'A'}\n",
    "    res = ''\n",
    "    for index in range(len(seq)):\n",
    "        res += compl[seq[index].upper()]\n",
    "    return res[::-1]\n",
    "\n",
    "def reversecompl_list(sequences):\n",
    "    res = []\n",
    "    for sequence in sequences:\n",
    "        res.append(reversecompl(sequence))\n",
    "    return res\n",
    "\n",
    "motif = generateRandomSequence(10,False)\n",
    "print(motif)\n",
    "reversed = reversecompl(motif)\n",
    "print(reversed)\n"
   ]
  },
  {
   "cell_type": "markdown",
   "metadata": {
    "id": "RyUhiM2XmarQ"
   },
   "source": [
    "\n",
    "## Partie B : Recherche de motifs identiques sur vos données"
   ]
  },
  {
   "cell_type": "markdown",
   "metadata": {
    "id": "qjjE5tq9marQ"
   },
   "source": [
    "1\\. Le fichier \"C_glabrata_1000bp_only.fasta\" contiens les séquences régulatrices pour tous les gènes de votre organisme. Nous avons pris les 1000bp en amont du codon start. Chercher les 50 motifs de taille 7 les plus fréquents dans les deux brim de votre génome."
   ]
  },
  {
   "cell_type": "code",
   "execution_count": 6,
   "metadata": {
    "id": "-r1ASCFYmarR"
   },
   "outputs": [
    {
     "name": "stdout",
     "output_type": "stream",
     "text": [
      "10599\n"
     ]
    },
    {
     "data": {
      "text/plain": [
       "{'AAAAAAA': 8385,\n",
       " 'TTTTTTT': 7658,\n",
       " 'ATATATA': 3096,\n",
       " 'ATTTTTT': 2970,\n",
       " 'AAAAAAT': 2960,\n",
       " 'TATATAT': 2796,\n",
       " 'AAAAATT': 2469,\n",
       " 'AATTTTT': 2457,\n",
       " 'GAAAAAA': 2417,\n",
       " 'AAAGAAA': 2417,\n",
       " 'AAAATTT': 2308,\n",
       " 'AAATTTT': 2305,\n",
       " 'TATTTTT': 2292,\n",
       " 'TTTTTTC': 2291,\n",
       " 'AAGAAAA': 2243,\n",
       " 'TATATAA': 2198,\n",
       " 'AAAAATA': 2188,\n",
       " 'TTTATTT': 2164,\n",
       " 'TTTCTTT': 2159,\n",
       " 'TGAAAAA': 2152,\n",
       " 'TTATTTT': 2134,\n",
       " 'TTTTATT': 2110,\n",
       " 'AAAAGAA': 2079,\n",
       " 'TTTTCTT': 2052,\n",
       " 'TTTTTCA': 1977,\n",
       " 'CAAAAAA': 1964,\n",
       " 'ATATAAA': 1946,\n",
       " 'AAAATAA': 1940,\n",
       " 'TTCTTTT': 1912,\n",
       " 'ATATATT': 1904,\n",
       " 'AATATAT': 1898,\n",
       " 'AATAAAA': 1889,\n",
       " 'AAATAAA': 1880,\n",
       " 'AGAAAAA': 1864,\n",
       " 'TTTTTAT': 1862,\n",
       " 'CTTTTTT': 1861,\n",
       " 'AAAAAAG': 1853,\n",
       " 'AATAATA': 1824,\n",
       " 'TTTTTTA': 1813,\n",
       " 'TTTTTTG': 1807,\n",
       " 'TTTTTCT': 1804,\n",
       " 'AAATATA': 1797,\n",
       " 'ATATTTT': 1781,\n",
       " 'ATAAAAA': 1780,\n",
       " 'TATATTT': 1771,\n",
       " 'TTATATA': 1734,\n",
       " 'TATTATT': 1729,\n",
       " 'AAAATAT': 1702,\n",
       " 'AAAAAGA': 1669,\n",
       " 'TAAAAAA': 1652}"
      ]
     },
     "execution_count": 6,
     "metadata": {},
     "output_type": "execute_result"
    }
   ],
   "source": [
    "import time\n",
    "\n",
    "k=7\n",
    "feq=10\n",
    "top= 50\n",
    "genome = \"C_glabrata_1000bp_only.fasta\"\n",
    "\n",
    "\n",
    "\n",
    "def readFasta(fastaFileName):\n",
    "    \"\"\"\n",
    "    Read a fasta file\n",
    "    entrée fastaFileName: nom du fichier fasta\n",
    "    sortie sequences: liste contenant toutes les sequences du fichier\n",
    "    \"\"\"\n",
    "    sequence = []\n",
    "    file = open(genome, \"r\")\n",
    "    sequence = []\n",
    "    for s in file:\n",
    "        if s[0] != \">\":\n",
    "            sequence.append(s.strip().upper())\n",
    "    return sequence\n",
    "\n",
    "sequences   = readFasta(genome)\n",
    "\n",
    "\n",
    "print(len(sequences))\n",
    "sequences = readFasta(\"C_glabrata_1000bp_only.fasta\")\n",
    "motifs = searchMotifs(7, sequences)\n",
    "getTopMotifs(motifs, 50)\n",
    "\n",
    "\n",
    "\n"
   ]
  },
  {
   "cell_type": "markdown",
   "metadata": {
    "id": "0e5fdIztmarS"
   },
   "source": [
    "2\\. Quel sont les trois motifs de taille 7 les plus frequents? Pensez vous que ces motifs correspondent à de facteur de transcription connus? Justifier votre reponse."
   ]
  },
  {
   "attachments": {},
   "cell_type": "markdown",
   "metadata": {
    "id": "8Zyhn6-PmarS"
   },
   "source": [
    "<font color='blue'>\n",
    "'AAAAAAA', 'TTTTTTT','ATATATA'. Il est peu probable que ce soit des facteurs de trabsmissions connus car ce sont des simple répétitions du même nucléotide qui n'ont pas forcement de signification biologique.\n",
    "</font>"
   ]
  },
  {
   "cell_type": "markdown",
   "metadata": {
    "id": "NVUbnuGDmarT"
   },
   "source": [
    "3\\. BONNUS: Le motif TGATTCAT correspond au facteur de transcription Gcn4 qui est trés suivant trouvé dans le genome de levures. Est-ce que vous avez trouvé ce motif? Si oui avec quel frequence?"
   ]
  },
  {
   "attachments": {},
   "cell_type": "markdown",
   "metadata": {},
   "source": [
    "<font color='blue'>\n",
    "S'il s'agit du motif \"TGATTCAT\" comme dans la consigne, non, nous ne le trouvons pas, mais s'il s'agit du motif \"TGATTCA\" comme dans la cellule en dessous alors oui, nous le trouvons avec une fréquence de 591 à la position 4818 de notre dictionnaire.\n",
    "\n",
    "</font>"
   ]
  },
  {
   "cell_type": "code",
   "execution_count": 7,
   "metadata": {
    "id": "ZeMVGLjVmarT"
   },
   "outputs": [
    {
     "data": {
      "text/plain": [
       "(591, 4818)"
      ]
     },
     "execution_count": 7,
     "metadata": {},
     "output_type": "execute_result"
    }
   ],
   "source": [
    "motifGcn4 = ['TGATTCA']\n",
    "\n",
    "def searchGivenMotif(motifsTrouve, motifSpecifique):\n",
    "    \"\"\"\n",
    "    Cherche une liste de motifs specifiques dans un dictionaire de motifs trouvés\n",
    "    entrée motifsTrouve : dictionnaire de motifs, clé=motif, valeur = fréquence d'observation\n",
    "    entrée motifSpecifique: un motif specifique à chercher\n",
    "    sortie frequence : la frenquence du motif\n",
    "    sortie ranking : dans quelle position le motif a été trouvé\n",
    "    \"\"\"\n",
    "    frequence = 0; ranking = 0\n",
    "\n",
    "    pos = 0\n",
    "    \n",
    "    for key in motifsTrouve:\n",
    "        if key == motifSpecifique:\n",
    "            frequence = motifsTrouve[key]\n",
    "            ranking = pos\n",
    "            break\n",
    "        pos = pos + 1\n",
    "    \n",
    "\n",
    "    return frequence, ranking\n",
    "\n",
    "sequences = readFasta(\"C_glabrata_1000bp_only.fasta\")\n",
    "motifs = searchMotifs(7, sequences)\n",
    "\n",
    "searchGivenMotif(motifs, motifGcn4[0])\n",
    "\n"
   ]
  },
  {
   "cell_type": "markdown",
   "metadata": {
    "id": "Ibm0Eja2marU"
   },
   "source": [
    "4\\. Les motifs peu complexes (avec par exemple 5, 6 ou 7 fois la même lettre) sont courants dans les génomes, ils n'ont généralement pas de signification biologique. Dans le context de ce projet, vous pouvez eliminer aussi les motifis ayant deux lettre repetés, comme par exemple AGAGAGA. Faites une fonction pour éliminer les motifs peu complexes, _i. e._ qui ont au moins $m$ fois la même lettre ou qui ont deux lettre consecutive répétés. Dans quel position vous trouver Gcn4 apres enlever les motifs peu complexes?</font>. "
   ]
  },
  {
   "cell_type": "code",
   "execution_count": 8,
   "metadata": {
    "id": "cFkaqI39marU"
   },
   "outputs": [
    {
     "name": "stdout",
     "output_type": "stream",
     "text": [
      "{'AAATAAAA': 2, 'AAGTACA': 1, 'GAGAGAG': 1}\n"
     ]
    },
    {
     "data": {
      "text/plain": [
       "{'AAGTACA': 1}"
      ]
     },
     "execution_count": 8,
     "metadata": {},
     "output_type": "execute_result"
    }
   ],
   "source": [
    "def removeLowComplexe(motifs, m=5):\n",
    "    \"\"\"\n",
    "    Eleve les motifs peu complexe ayant \n",
    "    entrée motifs: dictionnaire de motifs, clé=motif, valeur = fréquence d'observation\n",
    "    sortie motifsClean: dictionnaire de motifs sans les motifs peu complexe.\n",
    "    \"\"\"\n",
    "    motifsClean = {}\n",
    "    suppr=False\n",
    "    for key in motifs:\n",
    "        for i in range (len(key)):\n",
    "            cpt=key.count(key[i])\n",
    "            if cpt>=m:\n",
    "                suppr=True\n",
    "            if(i+3< len(key)):\n",
    "                if key[i]==key[i+2] and key[i+1]==key[i+3]:\n",
    "                    suppr=True     \n",
    "        if not (suppr):\n",
    "            motifsClean[key] = motifs[key]\n",
    "        suppr=False  \n",
    "\n",
    "    return motifsClean\n",
    "\n",
    "test = {\"AAATAAAA\" : 2, \"AAGTACA\" : 1, \"GAGAGAG\" : 1}\n",
    "print(test)\n",
    "removeLowComplexe(test)\n",
    "\n"
   ]
  },
  {
   "cell_type": "markdown",
   "metadata": {
    "id": "MrAPyMcPmarV"
   },
   "source": [
    "5\\. Le fichier \"Sequence_by_Peaks_G*.fasta\" contiens les regions de peak trouvé par ChipSeq, qui contient probablement le Facteur de Transcription que nous cherchons. Apliquer les fonctions precedents pour chercher les 3 motifs les plus fréquents dans les deux brim. Il faut bien evidement enlever les motifs peu complexe."
   ]
  },
  {
   "cell_type": "code",
   "execution_count": 9,
   "metadata": {
    "id": "wIHGDtXDmarW"
   },
   "outputs": [
    {
     "name": "stdout",
     "output_type": "stream",
     "text": [
      "Recherche de motifs de taille  8 ...\n",
      "\n",
      "\n",
      "Les 3 motifs les plus fréquents sur les deux brins sont :  {'CTCATCGC': 1769, 'GCGATGAG': 1769, 'CGATGAGC': 1614}\n"
     ]
    }
   ],
   "source": [
    "k=8\n",
    "feq=5\n",
    "top= 30\n",
    "\n",
    "\n",
    "fasta_file = \"Sequence_by_Peaks_1.fasta\"\n",
    "sequences = readFasta(fasta_file)\n",
    "brincompl = reversecompl_list(sequences)\n",
    "brin1_et_brin2 = sequences + brincompl\n",
    "\n",
    "\n",
    "print(\"Recherche de motifs de taille \", k, \"...\\n\" )\n",
    "motifs=searchMotifs(k,brin1_et_brin2)\n",
    "\n",
    "motifsClean = removeLowComplexe(motifs)\n",
    "\n",
    "#top_motifs=getTopMotifs(motifsClean,top)\n",
    "print(\"\\nLes 3 motifs les plus fréquents sur les deux brins sont : \", getTopMotifs(motifsClean, 3))"
   ]
  },
  {
   "cell_type": "markdown",
   "metadata": {
    "id": "MEBziFExmarX"
   },
   "source": [
    "6\\. Ulitser la base YEASTRACT : http://www.yeastract.com/formsearchbydnamotif.php pour chercher les motifs. \n",
    "Avez vous une indication pour le facteur de transcription impliqué ?\n"
   ]
  },
  {
   "cell_type": "code",
   "execution_count": null,
   "metadata": {
    "id": "ORwePIySLfa9"
   },
   "outputs": [],
   "source": []
  }
 ],
 "metadata": {
  "colab": {
   "provenance": []
  },
  "kernelspec": {
   "display_name": "Python 3 (ipykernel)",
   "language": "python",
   "name": "python3"
  },
  "language_info": {
   "codemirror_mode": {
    "name": "ipython",
    "version": 3
   },
   "file_extension": ".py",
   "mimetype": "text/x-python",
   "name": "python",
   "nbconvert_exporter": "python",
   "pygments_lexer": "ipython3",
   "version": "3.9.13"
  },
  "vscode": {
   "interpreter": {
    "hash": "cef9e2b4c364baabfda15b57ec6274b302f775f833d985ad9811ea9d6fb2d0d9"
   }
  }
 },
 "nbformat": 4,
 "nbformat_minor": 1
}
