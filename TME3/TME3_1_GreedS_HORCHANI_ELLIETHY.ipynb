{
  "cells": [
    {
      "cell_type": "markdown",
      "metadata": {},
      "source": [
        "<font color='lightblue'>Nom Etudiant 1: ELLIETHY Ossama 28712429\n",
        "<br>\n",
        "Nom Etudiant 2: HORCHANI Samy 28706765 </font>"
      ]
    },
    {
      "attachments": {},
      "cell_type": "markdown",
      "metadata": {
        "id": "981-NdKA_huf"
      },
      "source": [
        "# TME 3.1 : Greedy Profile Motif Search\n",
        "\n",
        "\n",
        "## Recheche de pattern (motifs) en utilisant les algoritmes randomisés\n",
        "\n",
        "Les algorithmes randomisés prendre des décisions aléatoire plutôt que déterministes.\n",
        "l'algorithme s'exécute différemment à chaque fois. Ils sont couramment utilisés dans situations où aucun algorithme exact et rapide est connu. Nous allons d'abord implémenter l'algorithm Greedy Profile Motif Search.\n"
      ]
    },
    {
      "cell_type": "markdown",
      "metadata": {
        "id": "5z3a_1W0_huk"
      },
      "source": [
        "1\\. Nous allons réutiliser les fonctions du precedent pour générer `t` séquences artificielles de taille `n`, et implanter dans chaque séquence un motif de taille `k` à des positions aléatoires avec `v` substitutions choisies aléatoirement. Nous allons faire varier le motifs dans 50% de cas."
      ]
    },
    {
      "cell_type": "code",
      "execution_count": 2,
      "metadata": {
        "id": "6UbcF5N2_hul"
      },
      "outputs": [],
      "source": [
        "import random\n",
        "import numpy as np\n",
        "\n",
        "nuc = ('A', 'C', 'G', 'T')\n",
        "\n",
        "k=5 #taille de motif\n",
        "v=1 #nb de positions variable dans le motif\n",
        "t=3 #nb de sequences\n",
        "n=80 #longuer des sequence\n",
        "f= 0.5 #frequence de variation du motif.\n"
      ]
    },
    {
      "cell_type": "code",
      "execution_count": 3,
      "metadata": {
        "id": "IplKLaGL_hun"
      },
      "outputs": [
        {
          "name": "stdout",
          "output_type": "stream",
          "text": [
            "['GGCTCCATGCCcagtGCCATTATCGTTCATCTCATCTACGTGGAAGTAGCGCTATGTACGAATAGTCGAAGACGTACCGT', 'TCACAATCAGATCTGACCCGTAACACTGTATTAACAAGAGATACCTGGTAGTGTTTTCTgtgtcTGTCGGTGCTCTTCAT', 'TACTAGAATGGTTCCGATTTCACTCCATGCGGTTTCAACCGACACATGATCACGAGGTCCCAGCATCCTTctCcgGCCAG']\n",
            "['GGCTCCATGCCCAGTGCCATTATCGTTCATCTCATCTACGTGGAAGTAGCGCTATGTACGAATAGTCGAAGACGTACCGT', 'TCACAATCAGATCTGACCCGTAACACTGTATTAACAAGAGATACCTGGTAGTGTTTTCTGTGTCTGTCGGTGCTCTTCAT', 'TACTAGAATGGTTCCGATTTCACTCCATGCGGTTTCAACCGACACATGATCACGAGGTCCCAGCATCCTTCTCCGGCCAG']\n"
          ]
        }
      ],
      "source": [
        "from math import floor\n",
        "\n",
        "def insertMotif(sequence, motif, position): #repris du tme 2\n",
        "    return sequence[:position] + motif + sequence[position:]\n",
        "\n",
        "def generateRandomSequence(n, upper=True):\n",
        "    \"\"\"\n",
        "    Génère une séquence nucléotidique aléatoire \n",
        "    entrée n : longueur de la sequence\n",
        "    entrée upper : bool, si True les nucléotides seront en majuscule, False minuscule\n",
        "    sortie sequence : une séquence nucléotidique aléatoire \n",
        "    \"\"\"\n",
        "    sequence = \"\"\n",
        "    \n",
        "    for i in range(n):\n",
        "        s = random.choice(nuc)\n",
        "\n",
        "        if(upper):\n",
        "            sequence = sequence + s.upper()\n",
        "        else:\n",
        "            sequence = sequence + s.lower()\n",
        "\n",
        "    return sequence\n",
        "\n",
        "def modifierMotif(motif, nbpos,  upper=True):\n",
        "    \"\"\"\n",
        "    Modifie nbpos positions d'un motif aléatoirement \n",
        "    entrée motif: motif à modifier\n",
        "    entrée nbpos: nombre de positions\n",
        "    entrée upper : bool, si True les nucléotides modifiés seront majuscule, False minuscule\n",
        "    sortie motifM: motif modifié\n",
        "    \"\"\"\n",
        "    motifM = list(motif)\n",
        "\n",
        "    pos_modifie = []\n",
        "    for i in range(nbpos):\n",
        "        random_pos = random.randint(0,len(motifM)-1)\n",
        "\n",
        "        while(random_pos in pos_modifie):\n",
        "            random_pos = random.randint(0,len(motifM)-1)\n",
        "        \n",
        "        pos_modifie.append(random_pos) #sauvegarde de la position pour pas la modifier 2 fois\n",
        "        random_nuc = random.choice(nuc)\n",
        "\n",
        "        while(random_nuc == motif[random_pos]): #pour pas implanter le meme motif \n",
        "            random_nuc = random.choice(nuc)\n",
        "\n",
        "        if(upper):\n",
        "            motifM[random_pos] = random_nuc.upper()\n",
        "        else:\n",
        "            motifM[random_pos] = random_nuc.lower()\n",
        "            \n",
        "    return \"\".join(motifM)\n",
        "\n",
        "#tester la fonction modifierMotif\n",
        "#print (modifierMotif(\"acg\", 2))\n",
        "\n",
        "\n",
        "def implantMotifVar(k, v, t, n, f):\n",
        "    \"\"\"\n",
        "    Génère des séquences aléatoires et les implante des motifs variables (un motif par séquence)\n",
        "    entrée k: taille du motif\n",
        "    entrée v: nombre de variations\n",
        "    entrée t : nombre de séquences \n",
        "    entrée n : longueur des séquences\n",
        "    entrée f : frequence de variation du motif.\n",
        "    sortie DNA : matrice de dimension txn avec les motifs implantés\n",
        "    REMARQUE : La taille totale des séquences plus motif doit être égal à t, pensez à générer de séquence aléatoire de taille t-k pour pouvoir implanter un motif de taille k\n",
        "    \"\"\"\n",
        "    motif = generateRandomSequence(k, False)\n",
        "    sequences = []\n",
        "    \n",
        "    for i in range(t):\n",
        "\n",
        "        seq = generateRandomSequence(n-k)\n",
        "        motif = generateRandomSequence(k, False) #pour mieux visualiser les motifs implantés on les inserts en minuscule\n",
        "        #print(\"seq = \" + seq)\n",
        "        #print(motif)\n",
        "        if random.uniform(0.0, 1.0) < f:\n",
        "            motif = modifierMotif(motif, v)\n",
        "        #print(motif)\n",
        "        \n",
        "        sequences.append(insertMotif(seq, motif, random.randint(0, len(seq)-1)))\n",
        "\n",
        "    return sequences\n",
        "\n",
        "adn = implantMotifVar(k, v, t, n, f)\n",
        "print (adn)\n",
        "\n",
        "adn  = [s.upper() for s in adn]\n",
        "print (adn)"
      ]
    },
    {
      "cell_type": "markdown",
      "metadata": {
        "id": "NoPjFWpM_huq"
      },
      "source": [
        "2\\. Faire une fonction pour sélectionner des positions de départ aléatoirement `s = (s1, …,st)`.\n"
      ]
    },
    {
      "cell_type": "code",
      "execution_count": 4,
      "metadata": {
        "id": "WwUeYNeJ_hur"
      },
      "outputs": [
        {
          "name": "stdout",
          "output_type": "stream",
          "text": [
            "n = 80 k = 5\n",
            "\n",
            "[57, 36, 14]\n"
          ]
        }
      ],
      "source": [
        "#creating vector s\n",
        "#Get t random positions from 0 to n - k\n",
        "def generateRandomS(sequences, k):\n",
        "\t\"\"\"\n",
        "\tGénère un vecteur de position aléatoires\n",
        "\tentrée sequences: matrice de dimension txn contenant les sequences\n",
        "\tentrée k: taille du motif\n",
        "\tsortie s: vecteur de position aléatoires, une position par séquence\n",
        "  REMARQUE les positions doivent être inférieur à n-k, ou n est la taille de sequence\n",
        "\t\"\"\"\n",
        "\ts = []\n",
        "\n",
        "\tfor seq in sequences:\n",
        "\t\tif (len(seq) - k) > 0:\n",
        "\t\t\tpos= random.randint(0, len(seq)-k-1)\n",
        "\t\t\ts.append(pos)\n",
        "\n",
        "\treturn s\n",
        "\n",
        "s = generateRandomS(adn, k)\n",
        "print(\"n = \"+ str(n) + \" k = \" + str(k) +\"\\n\")\n",
        "print (s)"
      ]
    },
    {
      "cell_type": "markdown",
      "metadata": {
        "id": "vwTv0oVD_hut"
      },
      "source": [
        "3\\. Extraire les motifs en utilisant le vecteur `s`, et construire un profile (matrice de fréquence). \n"
      ]
    },
    {
      "cell_type": "code",
      "execution_count": 5,
      "metadata": {
        "id": "GMC6y17y_hut"
      },
      "outputs": [
        {
          "name": "stdout",
          "output_type": "stream",
          "text": [
            "ADN : ['GGCTCCATGCCCAGTGCCATTATCGTTCATCTCATCTACGTGGAAGTAGCGCTATGTACGAATAGTCGAAGACGTACCGT', 'TCACAATCAGATCTGACCCGTAACACTGTATTAACAAGAGATACCTGGTAGTGTTTTCTGTGTCTGTCGGTGCTCTTCAT', 'TACTAGAATGGTTCCGATTTCACTCCATGCGGTTTCAACCGACACATGATCACGAGGTCCCAGCATCCTTCTCCGGCCAG'] s = [57, 36, 14] k = 5\n",
            "['ACGAA', 'AGAGA', 'CGATT']\n",
            "nuc = ('A', 'C', 'G', 'T')\n",
            "[[2. 0. 2. 1. 2.]\n",
            " [1. 1. 0. 0. 0.]\n",
            " [0. 2. 1. 1. 0.]\n",
            " [0. 0. 0. 1. 1.]]\n"
          ]
        }
      ],
      "source": [
        "#extract sequences from seqs\n",
        "def extractSeqs(s, seqs, k):\n",
        "    \"\"\"\n",
        "    Extraire les motifs des séquences à l'aide de positions s\n",
        "    entrée s: vecteur contenant les positions de départs\n",
        "    entrée seqs: matrice de dimension txn contenant les séquences\n",
        "    entrée k: taille du motif\n",
        "    sortie motifs: liste de motifs de taille k extrait des séquences\n",
        "    \"\"\"\n",
        "    motifs = []\n",
        "    for i in range(len(seqs)):\n",
        "        sq = seqs[i]\n",
        "        ind = s[i]\n",
        "        motifs.append(sq[ind:ind + k])\n",
        "\n",
        "    return motifs\n",
        "        \n",
        "motifs = extractSeqs(s, adn, k)\n",
        "print(\"ADN : \" + str(adn) + \" s = \" + str(s) + \" k = \" + str(k))\n",
        "print (motifs )\n",
        "\n",
        "\n",
        "#Construire un profile = matrice de fréquence\n",
        "def profile(motifs, k, nuc):\n",
        "    \"\"\"\n",
        "    Construire une matrice de fréquence de dimension k x |nuc|\n",
        "    entrée motifs: liste de motifs\n",
        "    entrée k: taille du motif\n",
        "    entrée nuc: alphabet\n",
        "    sortie MF: matrice de fréquence\n",
        "    \"\"\"\n",
        "    q = len(nuc)\n",
        "    PWM = np.zeros((q, k))\n",
        "\n",
        "    for mot in motifs:\n",
        "        for i in range (k):\n",
        "            indLigne = nuc.index(mot[i]) #indiceLigne\n",
        "            PWM[indLigne,i]=PWM[indLigne,i]+1\n",
        "\n",
        "    \n",
        "  \n",
        "    return PWM\n",
        "MF = profile(motifs, k, nuc)\n",
        "print(\"nuc = \" + str(nuc))\n",
        "print(MF)"
      ]
    },
    {
      "cell_type": "markdown",
      "metadata": {
        "id": "zIw6koU2_huu"
      },
      "source": [
        "4\\. Transformer la matrice de fréquence en PWM. Il faut diviser chaque élément par la somme de ses colonnes."
      ]
    },
    {
      "cell_type": "code",
      "execution_count": 6,
      "metadata": {
        "id": "wOH5mbkA_huv"
      },
      "outputs": [
        {
          "name": "stdout",
          "output_type": "stream",
          "text": [
            "[[0.66666667 0.         0.66666667 0.33333333 0.66666667]\n",
            " [0.33333333 0.33333333 0.         0.         0.        ]\n",
            " [0.         0.66666667 0.33333333 0.33333333 0.        ]\n",
            " [0.         0.         0.         0.33333333 0.33333333]]\n"
          ]
        }
      ],
      "source": [
        "def generatePWM(MF):\n",
        "  \"\"\"\n",
        "  Transforme la matrice de fréquence en PWM\n",
        "  entrée MF: matrice de fréquence\n",
        "  sortie PWM: matrice de probabilité (poids positions)\n",
        "  \"\"\"\n",
        "  PWM = MF\n",
        "\n",
        "  nbligne = len(MF)\n",
        "  nbcolonne = len(MF[0])\n",
        "  sommes = [] #contient la somme de chaque colonne\n",
        "\n",
        "  for i in range(nbcolonne): \n",
        "    s = 0 #tmp qui sauvegarde la somme de chaque colonne\n",
        "    for j in range(nbligne):\n",
        "      s = s + MF[j][i]\n",
        "    sommes.append(s)\n",
        "\n",
        "  for i in range(nbligne):\n",
        "    for j in range(nbcolonne):\n",
        "      PWM[i][j]=MF[i][j]/sommes[j]\n",
        "\n",
        "  return PWM\n",
        "\n",
        "PWM = generatePWM(MF)\n",
        "\n",
        "print(PWM)"
      ]
    },
    {
      "cell_type": "markdown",
      "metadata": {
        "id": "ThOfxUGq_huw"
      },
      "source": [
        "5\\. Faire une fonction pour calculer la probabilité d'un motif de taille `k` selon une PWM.\n"
      ]
    },
    {
      "cell_type": "code",
      "execution_count": 7,
      "metadata": {
        "id": "ZUNbTtum_huw"
      },
      "outputs": [
        {
          "name": "stdout",
          "output_type": "stream",
          "text": [
            "0.0\n"
          ]
        }
      ],
      "source": [
        "def probability(PWM, motif):\n",
        "    \"\"\"\n",
        "    Calcul la probalité d'un motif selon PWM\n",
        "    entrée PWM: matrice de probabilité (poids positions)\n",
        "    entrée motif: motif\n",
        "    sortie prob: probalité Prob(motif|PWM)\n",
        "    \"\"\"\n",
        "    prob = 1\n",
        "\n",
        "    nuc = ('A', 'C', 'G', 'T')\n",
        "\n",
        "    for colonne in range(len(motif)):\n",
        "        indLigne = nuc.index(motif[colonne]) #indiceLigne\n",
        "        prob = prob * PWM[indLigne,colonne]\n",
        "    \n",
        "    return prob\n",
        "\n",
        "prob = probability(PWM, \"AAAAA\")\n",
        "print (prob)"
      ]
    },
    {
      "cell_type": "markdown",
      "metadata": {
        "id": "aqLjmxrx_hux"
      },
      "source": [
        "6\\. Faire une fonction pour calculer le pMostProbkmer d'une séquence, voir un exemple dans les slides de cours."
      ]
    },
    {
      "cell_type": "code",
      "execution_count": 8,
      "metadata": {
        "id": "-_GDK4mQ_huy"
      },
      "outputs": [
        {
          "name": "stdout",
          "output_type": "stream",
          "text": [
            "0\n"
          ]
        }
      ],
      "source": [
        "def pMostProbkmer(PWM, k, sequence):\n",
        "    \"\"\"\n",
        "    calcul la position du k-mer le plus probable dans la séquence\n",
        "    entrée PWM: matrice de probabilité (poids positions)\n",
        "    entrée k: taille du motif\n",
        "    entrée sequence: séquence nucleotidique\n",
        "    sortie s: la position la plus probable \n",
        "    \"\"\"\n",
        "    maxProb = 0\n",
        "    s = 0 # position du k-mer le plus probable dans la sequence\n",
        "\n",
        "    for i in range(len(sequence) - k+1):\n",
        "        tmp = probability(PWM,sequence[i:i+k]) #fenetre glissante sur le meme principe que la fonction searchMotif du tme 2 Hashtable\n",
        "        if tmp > maxProb:\n",
        "            maxProb = tmp\n",
        "            s = i\n",
        "    return s\n",
        "\n",
        "s = pMostProbkmer(PWM, k, \"GCCGGCCCAA\")\n",
        "print (s)"
      ]
    },
    {
      "cell_type": "markdown",
      "metadata": {
        "id": "QwXuMhNn_huy"
      },
      "source": [
        "7\\. Faire une fonction pour obtenir les nouvelles positions de départ `s = (s1, …,st)`, c’était à dire les positions qui contiens les k-mer le plus probables."
      ]
    },
    {
      "cell_type": "code",
      "execution_count": 9,
      "metadata": {
        "id": "G3neuRM9_huz"
      },
      "outputs": [
        {
          "name": "stdout",
          "output_type": "stream",
          "text": [
            "[57, 36, 4]\n"
          ]
        }
      ],
      "source": [
        "def getNewS(PWM, k, sequences):\n",
        "    \"\"\"\n",
        "    Trouve les nouvelles positions des k-mer le plus probables\n",
        "    entrée PWM: matrice de probabilité (poids positions)\n",
        "    entrée k: taille du motif\n",
        "    entrée sequence: séquence nucleotidique\n",
        "    sortie s: vecteur avec les positions les plus problables\n",
        "    \"\"\"\n",
        "\n",
        "    s = []\n",
        "    for seq in sequences:\n",
        "          s.append(pMostProbkmer(PWM, k, seq))\n",
        "\n",
        "    return s\n",
        "\n",
        "ns = getNewS(PWM, k, adn)\n",
        "print (ns)"
      ]
    },
    {
      "cell_type": "markdown",
      "metadata": {
        "id": "WoETBPxq_huz"
      },
      "source": [
        "8\\. La condition d’arrêt de l'algorithme est le non changement de la matrice de fréquence d'une itération à l'autre, \n",
        "faire une fonction pour comparer deux matrices et détecter le changement. \n",
        "Faire aussi une fonction pour obtenir le score d'une matrice de fréquence : la somme de max de chaque colonne"
      ]
    },
    {
      "cell_type": "code",
      "execution_count": 10,
      "metadata": {
        "id": "NUDOYB6A_hu0"
      },
      "outputs": [
        {
          "name": "stdout",
          "output_type": "stream",
          "text": [
            "0 [57, 36, 4]\n",
            "3.0\n",
            "False\n"
          ]
        }
      ],
      "source": [
        "def changeProfile(P1, P2):\n",
        "    \"\"\"\n",
        "    Compare deux matrice\n",
        "    entrée P1: matrice de fréquence\n",
        "    entrée P2: matrice de fréquence\n",
        "    sortie: True si les matrices sont différents, False au contraire\n",
        "    \"\"\"\n",
        "    nbLigne=min(len(P1),len(P2))\n",
        "    nbColonne=min(len(P1[0]),len(P2[0]))\n",
        "\n",
        "    #if(len(P1)!=len(P2) or len(P1[0]) != len(P2[0])): #si elle ne font pas la même taille, elles sont forcement differente (jsp si faut tester ça), inutile si on suppose quelle font tjr la meme\n",
        "        #return True \n",
        "    \n",
        "    nbligne = min(len(P1),len(P2))\n",
        "    nbcol = min(len(P1[0]),len(P2[0]))\n",
        "\n",
        "    for l in range(nbligne):\n",
        "        for c in range(nbcol):\n",
        "            if P1[l,c] != P2[l,c]:\n",
        "                return True\n",
        "   \n",
        "    return False\n",
        "\n",
        "def getScore(MF, k):\n",
        "    \"\"\"\n",
        "    Renvoie le score de MF, la somme des max de chaque colonne\n",
        "    entrée MF: matrice de fréquence\n",
        "    entrée k: taille du motif\n",
        "    sortie sc: score\n",
        "    \"\"\"\n",
        "    sc = 0\n",
        "    nbLigne = len(MF)\n",
        "    nbColonne = len(MF[0])\n",
        "\n",
        "    for c in range(nbColonne):\n",
        "        max = 0\n",
        "        for l in range(nbLigne):\n",
        "            if MF[l, c] > max:\n",
        "                max = MF[l, c]\n",
        "        #print(max)\n",
        "        sc = sc + max\n",
        "    \n",
        "    return sc\n",
        "\n",
        "ns = getNewS(PWM, k, adn)\n",
        "print (s, ns)\n",
        "\n",
        "sc = getScore(MF, k)\n",
        "print (sc)\n",
        "\n",
        "MFtest1=np.array([[0, 0, 0, 0, 0],[0, 0, 0, 0, 0],[0, 0, 0, 0, 0],[0, 0, 0, 0, 0]])\n",
        "MFtest2=np.array([[0, 0, 0, 0, 0],[0, 0, 0, 0, 0],[0, 0, 0, 0, 0],[0, 0, 0, 0, 0]])\n",
        "\n",
        "print(changeProfile(MFtest1, MFtest2))\n",
        "\n",
        "#print(MF)\n"
      ]
    },
    {
      "cell_type": "markdown",
      "metadata": {
        "id": "QhO7GPfn_hu0"
      },
      "source": [
        "9\\. Implementer l'algorithme ``GreedyProfileMotifSearch`` en utilisant les fonctions precedentes. \n",
        "BONUS: Pour ameliorer la performance vous pouvez abandonner les positions qui génèrent des motifs peu complexes."
      ]
    },
    {
      "cell_type": "code",
      "execution_count": 11,
      "metadata": {
        "id": "s3wvHQUp_hu0"
      },
      "outputs": [
        {
          "name": "stdout",
          "output_type": "stream",
          "text": [
            "['GGCTCCATGCCCAGTGCCATTATCGTTCATCTCATCTACGTGGAAGTAGCGCTATGTACGAATAGTCGAAGACGTACCGT', 'TCACAATCAGATCTGACCCGTAACACTGTATTAACAAGAGATACCTGGTAGTGTTTTCTGTGTCTGTCGGTGCTCTTCAT', 'TACTAGAATGGTTCCGATTTCACTCCATGCGGTTTCAACCGACACATGATCACGAGGTCCCAGCATCCTTCTCCGGCCAG']\n",
            "['TTATC', 'TCACA', 'CTAGA']\n"
          ]
        }
      ],
      "source": [
        "def GreedyProfileMotifSearch(sequences, k):\n",
        "    \"\"\"\n",
        "    Implémente l'algorithme GreedyProfileMotifSearch \n",
        "\t  entrée sequences: matrice de dimension txn contenant les séquences \n",
        "\t  entrée k : taille du motif \n",
        "    sortie s : vecteur de positions de départ ayant le meilleur motif \n",
        "    sortie bestScore : le score associé à s\n",
        "    \"\"\"\n",
        "    s = generateRandomS(sequences, k)\n",
        "    bestScore = 0\n",
        "    \n",
        "    nuc = ('A', 'C', 'G', 'T')\n",
        "    \n",
        "    motifs=extractSeqs(s, sequences, k) #Liste des motifs plus probable\n",
        "    MF=profile(motifs, k, nuc) #Détermine le Profile/MF\n",
        "    PWM=generatePWM(MF) #Détermine la matrice de proba associée\n",
        "    score =getScore(MF,k) #Score associé à la MF courante déterminer par les motifs les plus probables(P-most probable k-mers) jusqu'à présent obtenue\n",
        "    \n",
        "    #Variables temporaires pour les itérations\n",
        "    tmpS=getNewS(PWM, k, sequences)\n",
        "    tmpMotifs=extractSeqs(tmpS, sequences, k)\n",
        "    tmpMF=profile(tmpMotifs, k, nuc)\n",
        "    \n",
        "    while score>bestScore:\n",
        "        bestScore= score\n",
        "        \n",
        "        if (changeProfile(MF, tmpMF)): #Profil sont différents\n",
        "            #Cas bestscore < score : on continue l'algo\n",
        "            if getScore(tmpMF,k) > bestScore:\n",
        "                \n",
        "                #Màj des paramètres liés au motif les plus probables de nos séquances\n",
        "                bestScore=getScore(tmpMF,k)\n",
        "                motifs=tmpMotifs\n",
        "                MF=tmpMF\n",
        "                PWM=generatePWM(MF) #Génère une new matrice de proba pour déterminer une nouvelle matrice de position\n",
        "    \n",
        "                #Anticipation de la prochaine itération en mettant à jour les variables temporaires\n",
        "                tmpS=getNewS(PWM, k, sequences)\n",
        "                tmpMotifs=extractSeqs(tmpS, sequences, k)\n",
        "                tmpMF=profile(tmpMotifs, k, nuc)\n",
        "                score=getScore(tmpMF,k)\n",
        " \n",
        "            #cas score < bestscore\n",
        "            else :\n",
        "                break\n",
        "        \n",
        "        else: #Profil ont pas change on stop l'algo entre 2 itérations\n",
        "            break\n",
        "              \n",
        "    \n",
        "    return s, bestScore\n",
        "\n",
        "print (adn)\n",
        "s, bestScore = GreedyProfileMotifSearch(adn, k)   \n",
        "motifs = extractSeqs(s, adn, k)\n",
        "print (motifs)\n",
        "        "
      ]
    },
    {
      "cell_type": "markdown",
      "metadata": {
        "id": "xvo0wA0R_hu1"
      },
      "source": [
        "10\\. Avez vous trouvez le motif implanté? Rexécuter l’algorithme plusieurs fois pour le trouver. "
      ]
    },
    {
      "cell_type": "markdown",
      "metadata": {
        "id": "tQw_6g6I_hu1"
      },
      "source": [
        "Reponse:"
      ]
    },
    {
      "cell_type": "markdown",
      "metadata": {
        "id": "hFC52cFb_hu1"
      },
      "source": [
        "11\\. Vous avez certainement observer que l’algorithme ne produire pas toujours la même sortie et que les résultats dépendent de la sélection aléatoire des positions de départ `s`. Pour augmenter nous chances de retrouvez les bons motifs, nous allons implémenter une version itérative ``GreedyProfileMotifSearchIte`` \n",
        "qui a chaque fois sauvegarde `s` et le score du profile associé à `s`, après `I` itération, l’algorithme renvoie le vecteur `s` ayant le plus grand score."
      ]
    },
    {
      "cell_type": "code",
      "execution_count": 12,
      "metadata": {
        "id": "RN4HsjUX_hu2"
      },
      "outputs": [
        {
          "name": "stdout",
          "output_type": "stream",
          "text": [
            "{13.0: [66, 44, 71], 10.0: [62, 41, 51], 12.0: [7, 62, 1], 11.0: [57, 5, 63], 14.0: [40, 69, 23]}\n",
            "{13.0: ['CGAAG', 'CTGGT', 'TCCGG'], 10.0: ['TAGTC', 'TACCT', 'ACGAG'], 12.0: ['TGCCC', 'TCTGT', 'ACTAG'], 11.0: ['ACGAA', 'ATCAG', 'CATCC'], 14.0: ['TGGAA', 'GTGCT', 'TCCAT']}\n"
          ]
        }
      ],
      "source": [
        "def GreedyProfileMotifSearchIte(sequences, k, It):\n",
        "    \"\"\"\n",
        "    Implémente l'algorithme GreedyProfileMotifSearch iteratif\n",
        "\t  entrée séquences: matrice de dimension txn contenant les séquences\n",
        "\t  entrée k: taille du motif \n",
        "    entrée It: nombre d'iterations\n",
        "    sortie positions: dictionnaire clé=score, valeur= vecteur s \n",
        "    sortie consensus: dictionnaire clé=score, valeur= sequence consensus du motif\n",
        "    \"\"\"\n",
        "    \n",
        "    pos = {}\n",
        "    consensus = {}\n",
        "    for i in range(It):\n",
        "        (s, bestScore) = GreedyProfileMotifSearch(sequences, k)\n",
        "        pos[bestScore]=s\n",
        "        consensus[bestScore]=extractSeqs(s, sequences, k)\n",
        "   \n",
        "    return pos, consensus\n",
        "\n",
        "\n",
        "s, consensus = GreedyProfileMotifSearchIte(adn, k, 50)\n",
        "\n",
        "print (s)\n",
        "print (consensus)"
      ]
    },
    {
      "cell_type": "code",
      "execution_count": 13,
      "metadata": {
        "id": "S7DtjmxjCyQ-"
      },
      "outputs": [
        {
          "name": "stdout",
          "output_type": "stream",
          "text": [
            "['TGGAA', 'GTGCT', 'TCCAT']\n",
            "['CGAAG', 'CTGGT', 'TCCGG']\n"
          ]
        }
      ],
      "source": [
        "#Affiche les sequence consensus de top motifs\n",
        "def printTopFMotifsScore(consensus, top):\n",
        "\n",
        "    motifsSort = sorted(consensus.keys())\n",
        "    motifsSort.reverse()\n",
        "    for i in range(top):\n",
        "      print (consensus[motifsSort[i]])\n",
        "\n",
        "printTopFMotifsScore(consensus, 2)\n",
        "\n",
        "\n"
      ]
    },
    {
      "cell_type": "markdown",
      "metadata": {
        "id": "js7TuAsB_hu2"
      },
      "source": [
        "12\\. Tester algorithme  ``GreedyProfileMotifSearchIte`` sur vos données de chipSeq. N'oubliez pas de chercher les motifs dans le brin complémentaire et faire un merge de résultats."
      ]
    },
    {
      "cell_type": "code",
      "execution_count": 14,
      "metadata": {
        "id": "8um7xWi4URGv"
      },
      "outputs": [],
      "source": [
        "\n",
        "def reverseComplement(seq):\n",
        "    seq_dict = {'A':'T','T':'A','G':'C','C':'G'}\n",
        "    return \"\".join([seq_dict[base] for base in reversed(seq)])"
      ]
    },
    {
      "cell_type": "code",
      "execution_count": 25,
      "metadata": {
        "id": "-M8y_sOS_hu3"
      },
      "outputs": [
        {
          "name": "stdout",
          "output_type": "stream",
          "text": [
            "CTTCCCCAAGCCCAAGCCCAAGCCCAATGGCGTATTATCCTGAACTTCCCAGCCGAGCCCCTAGGCCCCCCCCCCACCCG 174 8\n",
            "['GGGTAGCC', 'AAACCAGT', 'AGAAAAAA', 'TACGTTCT', 'AAAAATTA', 'TTGAAATG', 'AAATTAAA', 'CTAATAAA', 'GCCCAAGC', 'TGGCCCAG', 'CGGGTACA', 'GGACGAGT', 'GAGGTCGG', 'GTGAGCAT', 'GGGATGGA', 'AAGAGAAA', 'CCCAATTG', 'TCAGAGAG', 'TCTTCCAT', 'TCTGCAAG', 'TGGAAGGA', 'GAGCTACC', 'TTTGCACC', 'CGCAGGAT', 'AATTATGT', 'GCGTCTAA', 'AGACACCT', 'CACCACTA', 'TAGAAGGA', 'AATGCGTG', 'TAGCGTAG', 'AAGTAGAG', 'GAAACAAA', 'ACATCCCG', 'CAGTGGTG', 'ATTATTCC', 'GTTTCTCC', 'AGAATGCT', 'CAGATTCT', 'AGAAAAAG', 'GAAGAGGG', 'ATAACCTT', 'CAGAATGC', 'GCAAGTTG', 'TGGGGGTA', 'TCCATGAT', 'GTGATGGA', 'GAGCACAC', 'ACGCTACA', 'TCAACGGT', 'CTACTCCT', 'AAAGATTG', 'GATGTTAT', 'CATTACCT', 'TCTTGGCA', 'CTAAAAAT', 'GTTGCATT', 'ATGGTGCT', 'GGTAGGCC', 'ACAAAGTC', 'AGAAATGG', 'TCAGTGTC', 'GGAAGCTA', 'GGCATTGT', 'TAGAGACA', 'AAATTGCT', 'TATGAGTT', 'GTTATTGA', 'TACATAGT', 'TAGGAACA', 'CTGTTAGC', 'GACAAAAT', 'AACTACGA', 'TCTATCCC', 'TGATATAA', 'CACAGAGA', 'GTAGAGGA', 'AAATCTGG', 'TATAGTTG', 'TGTGCTGT', 'GGGGAAAT', 'TAGCAAGT', 'TTATCACT', 'TCTGTGTC', 'TTCTCAGT', 'CACGGGGA', 'CTCCCGGT', 'GATTCACC', 'ACACCAGC', 'TTAGTGGT', 'CCGTGTGT', 'CAAGAGTA', 'ATTTCTCT', 'TGTACGAT', 'AGTTGAAC', 'TCCCTTTT', 'GTAGTTGT', 'TTCATTTT', 'ACTGCTAT', 'CACACGGG', 'CCCCCCAG', 'AAAATTTC', 'GGATGTAT', 'TTTGGGCT', 'TACAGACC', 'GAGCGGTA', 'TGCCGGGT', 'CACGCACA', 'CACCAGCG', 'TACTAAAT', 'ACATCTTA', 'TGAACAAA', 'CTGCTGGT', 'CAAACAGG', 'AGCTGCAG', 'TAAACTAA', 'CATTCCTT', 'TTTTATCA', 'AATCTCGT', 'TTTTCACT', 'GAAAAATA', 'CCTATAGG', 'TACTGCTA', 'CTTTCCTT', 'GAAAAATA', 'AAATAAAT', 'CTAGGTAT', 'GAACCATC', 'CCCTCGGA', 'TGTCTCAC', 'GTATCCCC', 'ATGACGTG', 'CTACGCTT', 'GAACGAAT', 'TGTGAGGC', 'TGAAAGGA', 'GATTGAAA', 'CTCTTCTG', 'TATTTCGT', 'TACAGTCC', 'ATGTGCTT', 'AGTATATT', 'AAAAAAAA', 'CGTGCAAT', 'TCATAGAA', 'GTTCTTTG', 'ATAAATTG', 'ATGGGATT', 'TCTCTCAA', 'GGGGGAGG', 'TTTTTTAT', 'CCTCCCGC', 'CGGCGATT', 'GTTAGAAT', 'GTATTACT', 'ATTCTTGA', 'AACAGTTA', 'ATAGCTCT', 'TTAATTAG', 'AAGTTTAT', 'TGTAATTG', 'TAATGGCT', 'AATTAATA', 'CTATTATC', 'GAATTACA', 'ATATTAAA', 'TTATATTT', 'GATATTTA', 'GTTTTATT', 'TTCTTCTT', 'AAACAAGC', 'CAATTTGG', 'AATATTCT', 'AGATCGTG', 'AAGGCAAG', 'TTTGAAGT', 'ATTAGCAA', 'AAAACACA', 'TAAAGAGC', 'TTTCTAAT', 'ATGAGCTT', 'TGGGGTAG', 'TCGGCTGG', 'GACCTTGG', 'TTTGTAGC', 'AAGCAGCC', 'AACGTCTC', 'TCAGCCAT', 'CCTATTCT', 'AGCTTCTC', 'TCTTTTCA', 'TCTTTCCC', 'GATTTACG', 'GTGTGTAC', 'TAGACAGA', 'ACAGGAAT', 'TCGATAGC', 'GCATCCTG', 'ATATACAT', 'ACGTGCAT', 'TAAAACTA', 'ACAATCCA', 'ATAAAATG', 'TTTCCCTT', 'TCCATATC', 'AATCGCGT', 'TTATAGAA', 'AAAATTGA', 'GAGGGCCC', 'ATATGTAA', 'CTTCTTTC', 'TTCTTTCT', 'AATGGAAG', 'GTGTTCCT', 'CCTCTTCG', 'GGAAGATA', 'TGCATTCT', 'TCAGTTTC', 'AGCACTTT', 'GGTTGTAG', 'GGCCTGCA', 'CGCCTGTT', 'ATCCATGA', 'TCAACAGC', 'GGAAGTAC', 'ACTAATTC', 'AAATAATA', 'AGACCATT', 'AGAGAGAG', 'GCGTGATT', 'GTGATAGC', 'CCTTATGG', 'AATCATTT', 'AGACTTTG', 'TACCATTT', 'AATACTGC', 'CCGTGTAG', 'GTCGAAGC', 'CTCATTCG', 'TACTGTAG', 'ATCTCTGA', 'GTCAACCC', 'TATATTTT', 'CCAGAATA', 'TGGGGAGA', 'GTGTATTT', 'GGGAGTGA', 'CATTTTCA', 'TGCTCTAC', 'CTCTGTGT', 'TGTGTGAT', 'AAGCAAGG', 'GCAAATAT', 'TTGGAGAC', 'CTGGAAAA', 'CTTGCTAC', 'GACCGCAC', 'CCACGAGG', 'GAAGAACA', 'GGATTGTT', 'GACGAGGG', 'TCCCGGTG', 'GATGGCTG', 'GAGAGCGG', 'TTCGCCAT', 'AAAAATTA', 'TTGCTCTG', 'TGATAAAG', 'CCTTCTGT', 'TTCACAGA', 'TCACCATC', 'TCAATTCA', 'AAAATGAT', 'GGGATACT', 'GGGTTGAG', 'CTTTTTTG', 'AAGTGAGA', 'ATACTCAA', 'GTACCCAA', 'CCCATGCA', 'ACCCATGT', 'TGGATGTG', 'AATATCTC', 'GACACGCA', 'GGAGTAAG', 'GTAGTTTT', 'TGAACTTT', 'AACAAGAT', 'ATTGCCAA', 'AAAGTGTA', 'TCTGTTTA', 'TAAAATGA', 'ACTACAGT', 'ACGTGCAG', 'GACAATGA', 'TTGAAAGA', 'CACTTGAA', 'AAGATAGA', 'TTTTGCAT', 'TTTATTTC', 'AGGTGCTA', 'TACAGCTC', 'ATCACTCG', 'CACAGAAT', 'GCTAGTTA', 'TGAAACAA', 'CACTGGAA', 'CTCCCCCT', 'CTACATAG', 'CCTTTCAG', 'GTTTCAAT', 'TTCGCAGT', 'AGAATAAC', 'AATATGCA', 'AGCATACA', 'ACTACTCA', 'TTTCATCG', 'CATTGCAC', 'TGTTCTAT', 'TGGCAAAG', 'TTATACAG', 'CAAATATT', 'TACAGCTG', 'TGTCCACG', 'GGTGAAGG', 'ATCGCGGG', 'CACCCCAA', 'TCCACAGA', 'TCAAAGGT', 'GGAGAAGG', 'ATACAAGT', 'GAGCTATA', 'AATAAGGA', 'TCAACCAT', 'TAATAAAG', 'AAAGAGAA', 'TACAAAAG', 'TAGCTGAA', 'GTAATTCT', 'ATGTTTAA', 'TAGCTGGT', 'TCATTCAG', 'TAAAATAG', 'GAAGAAGA', 'AAATAATA', 'TCAGAAAT', 'TTTGCTGA', 'AAAAAATG']\n",
            "['ACCCATTA', 'ACTTCAAA', 'AAAAATGA', 'ATTTAAAA', 'CCTGCTTC', 'TTAGAAAA', 'TGGTTTAA', 'AATCCTTT', 'ATGGCGTA', 'TGATACCC', 'GGTACAAG', 'GAGTCGCA', 'GTATGTGC', 'TGGCTGAT', 'ATTGTGGG', 'TTGGATAA', 'TGTGAAAA', 'TGTGTGTG', 'AGCGTGCA', 'GTACTTCT', 'AACATCTT', 'GGGTTAAA', 'GCTATCGA', 'GGATGCAT', 'CGTGATAT', 'AAAATATT', 'TCATTAGT', 'ATCAAGAT', 'ATGCCTGG', 'GAAGAGTT', 'GTGATATG', 'AAAAGGAT', 'TACCATTT', 'AATAGTAC', 'AGTGGTGA', 'ACATTATT', 'GGAAAATG', 'ATGCTTCT', 'GAGTTCGA', 'CTCGGTGT', 'TTTGTCTG', 'AATTGATA', 'AAAACTGA', 'GGGAAACT', 'GGGTAGTG', 'GAAGGTTA', 'CGGTTACT', 'CCACTCAA', 'CAAAATTA', 'CGATGACG', 'TGCTGGCC', 'ACCAAAGC', 'TGGTAAGA', 'AGAAACAA', 'ATGTGTGC', 'AACTTTCG', 'CATGCTAT', 'ATCTAGCA', 'ACGGAAAT', 'TAGGATCT', 'CGATTTAT', 'ATTAATAC', 'ACACGGAA', 'ACTTCGCT', 'CGAATGAG', 'ACATTAAA', 'ACAATCAG', 'TCCGAAGA', 'AATCAAGA', 'CGTCCCCC', 'AAAATATA', 'TAAGGGGG', 'GAACAACA', 'CTAATTAT', 'AAGAACTC', 'ACACAGAG', 'GAAGTCTG', 'AGGAGGGT', 'TATATTTG', 'CTGTGTTG', 'CTCCCCGG', 'GGTGGGGT', 'GTCAGCCC', 'CTGTGTCA', 'TCACTGTT', 'ACACCAGG', 'GCACGTTG', 'CATGTGGG', 'GGAAGAAA', 'TCGCCACG', 'GAAAAAAA', 'AAGCCAAG', 'AGGCATTT', 'GTACTTTA', 'GGAGACAG', 'CTGTGAAA', 'AAATTATC', 'TGTCATCA', 'ATTTCTGT', 'CACAAAGC', 'TAGATCTC', 'ATCACTTC', 'TTAGGGTG', 'ATTGAGTA', 'TTGGGTAC', 'GGGCATGT', 'TGGGGATG', 'GCACATGC', 'AGTTCTCC', 'TATCAATG', 'CTGGCCCT', 'TATAATTA', 'CAGAAGAA', 'TTTTGGGC', 'GAGCTGCA', 'TATCATTC', 'GGTTTTCA', 'TTATCAAA', 'TCTTGTTC', 'TTCACTAT', 'GGGTGCAG', 'CTTTTTCT', 'GTATCTTT', 'ATCTTCTT', 'CCACTTCC', 'AAATAAAT', 'CCAATCAC', 'ACCATCCC', 'ATCTTGTT', 'CTGTACGT', 'GCGATCCC', 'CCCCCCCT', 'CAGTGGGG', 'AGGGGGAG', 'TGTTCAAG', 'TCTTATCG', 'CGAGTTAT', 'ATCCCGTA', 'AAGTGGAG', 'CAACAATG', 'TTATTGAA', 'TAAATAGA', 'TTGAAAAT', 'ACGATAAC', 'AATATACA', 'TCTTAAGG', 'TTTTTCTT', 'TAAGAGAT', 'TTCAGCTG', 'AGTAGAAA', 'CCATTTTC', 'GGCTCTTT', 'CGGCGATT', 'CTGTGGAG', 'CGTATTAC', 'TTCTCCAC', 'CCATTATC', 'TTGGATCT', 'TTTATGTT', 'GTATTTAT', 'GTACCTTT', 'TATCTTAG', 'CAAATTAA', 'CCAAGCCT', 'TATTTATT', 'CATATAAA', 'ATGTGATG', 'TATTGGAT', 'AAGATCTA', 'TTTTGAGA', 'TGCTTTTT', 'TAAAAGGT', 'TATTCTTC', 'TTTTCATC', 'GGCAAGGG', 'GGCACTGG', 'TCATTTTT', 'TTAAATTA', 'GAAGCAGG', 'TCTTCCAC', 'CCATTTTT', 'GATGAAAG', 'TGGGCTTG', 'TATATTCC', 'TAGCTTGT', 'CCACAACT', 'CTCACGAA', 'CCGCCGCA', 'GAACAAAG', 'GAAATTCG', 'CATGTAAG', 'TTCCCCCC', 'ACTTAACC', 'AGTTCTTT', 'ATTAAGAT', 'TCACATCT', 'TATGGTGC', 'AAAGGTAT', 'ACGCACAA', 'AATGGAAT', 'GTCTTCTC', 'TTCTTGCT', 'TTCCATAA', 'CGCATTTT', 'TGCATCTC', 'TTTTTATT', 'CTGCTTTG', 'GCGTAACC', 'CTCCGAGG', 'ATTTTCAG', 'AAACATTT', 'TTCTTCTT', 'AAAAATGG', 'TGTTCCTT', 'TCGATATT', 'ATTTGACA', 'GGGATATT', 'CAACTTGC', 'GTTCCAAA', 'ACTCTTAT', 'TTGGCCTG', 'AGTGGTGC', 'ATGATTAT', 'TGGTGGAC', 'ACCATGAA', 'TTCGGCTT', 'ATATTCAG', 'AAGATGTA', 'CAACTTCT', 'CGCTCTTA', 'GCAAATGC', 'ATGGAGAG', 'GTATAACA', 'TTTTGAAG', 'TACCATTT', 'GAGACACT', 'AGGCTTAC', 'AAAGAATT', 'CCTCATTC', 'TCTACTGT', 'GGTGCTCA', 'ATAACAAC', 'TGTAGATG', 'CTTTGTGC', 'TCTTATTT', 'CTCGTCAA', 'GTCGTCGT', 'AAATATTA', 'ACATAGGT', 'TTTTAGAG', 'TCTCCTCT', 'AGATTTTC', 'CAACTATA', 'AACAATAC', 'ACATGTGG', 'CACCGCAC', 'AACGGAGC', 'CACGAGGG', 'AGAACAGT', 'GAGCGAGG', 'GGGTTGGG', 'GAATCCCG', 'ATTGATGG', 'ACTAATTC', 'GTGTTTGG', 'ACTCTTGG', 'TGCCTATC', 'CACCATGT', 'ACAATAAT', 'AGGGAATT', 'TCGCCACA', 'AATAAAAT', 'AATACACA', 'TGCTTTGT', 'CTTTTGGG', 'TTGTAGAA', 'ATCTCCCA', 'TTTGGTAA', 'TCTTAGCT', 'CATGCCCA', 'CAAATCCA', 'GAACATCT', 'AATCGCTG', 'CGGGACAC', 'AAGAGGAG', 'AGGGGGGG', 'AACCAGCA', 'TCTTGAGC', 'TTGGGTTG', 'GTTCCCTT', 'AAACCAAA', 'GCAGCTTA', 'TCATGCTG', 'AAAGCAGC', 'TTCTTTTC', 'AAGAAAGC', 'GAGAGCTT', 'CCGAGAGA', 'ACCTAAAT', 'CGTCATAA', 'AATTTTCC', 'GGGTTCGC', 'GCTTTTTT', 'AGTGTGAG', 'GCCCCGAA', 'GTAAGTTG', 'TTTGTTAA', 'CTTTCCCC', 'ATAGTAGA', 'GAAAAGAG', 'TCTGACCA', 'GTTAACAC', 'TTCTGTAC', 'TGGTATAA', 'GCACATTT', 'TTAAATCG', 'CCCCATAG', 'TTGATAAT', 'GCCCAAAT', 'ATACACTG', 'TGAACAAA', 'TATGCGCT', 'GAAGGTTG', 'CTGGTATT', 'GGAATGTT', 'GATGCAGT', 'CCACCCCA', 'GAGAGAGA', 'GGTTCATT', 'AGAAGGTA', 'CTTTGTAG', 'GATCCAAA', 'AGGAATCA', 'TCAACCAT', 'AATTCAAT', 'CAGAGAAG', 'AAATTAAA', 'GCTTGGAT', 'AAATAAAT', 'AAACATAG', 'AAATTACT', 'CAATAGAT', 'AATTTATC', 'TACAACAC', 'AGACATAA', 'TGTTTGAA', 'AAGTGACT', 'GAAAAAAT']\n",
            "['TTTCTTTT', 'GTATATAA', 'AAAAATGA', 'TAAAAAAA', 'CAACAAAA', 'AAAAAAAG', 'AGAAAATG', 'ATCAGAAA', 'GCCCAAGC', 'TGACCTGG', 'CGGGTACA', 'CGAGTCGC', 'CTACGCGC', 'CCGGGACG', 'GTGAATAT', 'GGGAAAAG', 'GGTGTTCA', 'GGGGAAAG', 'ATTTTGGT', 'GAAAGAAC', 'TACTAGGG', 'AGGTTTCA', 'CATTACCA', 'TGAGAATA', 'TTAATTAT', 'ATGCACGT', 'TGTGGATA', 'AAGATGGA', 'TTTAGAGG', 'AGAGGGCC', 'AGACTGTC', 'AAGTAGAG', 'CATTTTGT', 'TTAATAGT', 'AGGGGCGG', 'GATACATT', 'GAAAATGT', 'TCTCAGAA', 'TCAGATTA', 'CACAGAAG', 'AGAATATC', 'GGACGCAG', 'AGCAGCTT', 'AAATTTGT', 'TTGGAACC', 'AGAGTATT', 'CAAAGGGT', 'ACTCAAGC', 'AAAATAAA', 'AACCTGAG', 'CCGCTACT', 'CTTTATCT', 'TATTACAT', 'TCATTACC', 'TCTCTTGG', 'TCCCGATA', 'CTATGAAT', 'CTTTCTCT', 'TCATGTTA', 'AAAGGAAC', 'TTATAGTG', 'CTCAGCGT', 'TACACGGA', 'CTGCCTTC', 'ACTAGAGA', 'AAGAACAA', 'CACAGGTG', 'CACCGTTT', 'CGAGACTG', 'GTCCCCCC', 'ACATTTCT', 'GACGGTAG', 'TACAACTA', 'CATTTAAT', 'AAATATTG', 'GAGAACCA', 'TCCCTGAA', 'TTTTGTAT', 'GTACTCGT', 'TGATCTTG', 'TTTTTCCA', 'CAAGTAGC', 'TTCCCGCA', 'TTGGTCTG', 'GCTTCTAT', 'AATCAATT', 'GCGCACGT', 'GACCCCCC', 'ATTCATTT', 'CGCTGTGG', 'CTCTCTTC', 'TGTGGACT', 'TTTCTGTG', 'AGTTGGGC', 'GGGGGGAG', 'AATACGTA', 'ATTATATT', 'TCATCATT', 'TCATTTTA', 'AAGGCACC', 'ACCCCCAG', 'AAAGAAAT', 'TTTTTTTG', 'GTGTGTGA', 'CGGGCATA', 'CGTATGTG', 'ACATGCTG', 'TCCACACG', 'TGCAAATT', 'ATGTACGC', 'ACATCTTA', 'CCCCCTTC', 'AACAACAA', 'GGGCTCAA', 'TCTTTCTG', 'ATTGAATT', 'ACAGATTA', 'TAAGCTGC', 'ATAGCTCT', 'TTCAAGCA', 'AAAAAAAT', 'CAACTGCG', 'CAAAGAAA', 'GTCCTATG', 'TTTAGGTA', 'AAGAAATA', 'ATTGTGGA', 'TACAAACC', 'AAAAAGCC', 'TGTACGTC', 'GCCCAGTA', 'TACAAAAA', 'GCTTGGAG', 'GGAGGGGG', 'GGCAATAA', 'CTTTTCTC', 'GTCAGATT', 'ACCTATGG', 'ATATATTT', 'TTGTAAAA', 'AAATGTGC', 'AAATGCCC', 'AGAGTAAT', 'TAGCTAAA', 'AAAAAAAG', 'AGTGTATC', 'CAAGAAGA', 'ATATTCTA', 'CCTTCTTT', 'AGGGAAGA', 'CCTGCTTT', 'CTCCCGCG', 'GACCCTTG', 'TCTCGATT', 'CATTGATA', 'CACAGTAC', 'TACTTGTA', 'TGTTATAG', 'TTTAATTT', 'GGTTGAGT', 'AGTTGTAA', 'AATGGCTA', 'AATATCTT', 'ATTCAGCT', 'TTACAATT', 'ATAAATAT', 'TTTTATTA', 'CTATTGTA', 'TAGTTTTA', 'TAAGAGGA', 'TTAAAAAC', 'TTAGCAAT', 'CACTTTTG', 'CTCAGATC', 'GGGAAAAG', 'AATACACA', 'TTATGACA', 'TTTAAATT', 'AAATTCAT', 'CCACATTT', 'AAACCAGT', 'GATGAAAG', 'ACGCCATT', 'CGTGACTT', 'TGTAGCTT', 'CAAGCAGC', 'CACGAACT', 'ATCAGCCA', 'GAACAAAG', 'TTTATCGA', 'TCCATTAC', 'GCACTCTC', 'AATACAAG', 'TACTTAAC', 'CCTAGTAC', 'GCATATTA', 'TTATATTA', 'AAGGTATG', 'CGCACAAG', 'CTGAAATG', 'GAACTCTC', 'TTTTTTTT', 'TCCATAAC', 'ACAACTCT', 'CAGAGATA', 'TTTTTATT', 'TCGAAACT', 'AGTACTAT', 'GATCACCA', 'GAAATATG', 'CTTCTTTC', 'TTTCTTCT', 'CCTTGTCA', 'TTTTCTTG', 'TCACCCTC', 'CCCCTGCG', 'TTCTAACA', 'CCTCAGTT', 'CCTTATCC', 'CCAAATGG', 'AAGTAACC', 'CAGCCAAG', 'GCTTTTAA', 'TCAGGTTC', 'GAGGAGAT', 'TTTACCTA', 'TAACATCT', 'CAGGTAAT', 'TAATCAAG', 'ACAAGGAT', 'ATTACGTC', 'ACAAATGC', 'GGTAAATC', 'AAAAGATG', 'ATACAGGA', 'TGAAACGC', 'CTATTTTT', 'TTGAAGGC', 'GTGCGGAT', 'GCAATTTT', 'CTAAGCGT', 'CAATAACA', 'TTTCTCAG', 'AATCTATT', 'ATTGGGGA', 'GTGCATGT', 'ACATCACC', 'ATGCGCAT', 'ATTTGGAT', 'GGGAGGTT', 'TCTATATT', 'ACAATTAA', 'GTACAACT', 'ATTTTGAC', 'ATGACTCT', 'CCCACCGC', 'AATGCGGG', 'GAGGAGAA', 'GAGAAGAA', 'GGATTGTT', 'GTGACGAG', 'GTGAATCC', 'GCTGGTGT', 'CACAGCGA', 'GGGAAGAG', 'TAAGTCCA', 'AACTACTG', 'ATCCGATA', 'TGATCTTG', 'AAGGGAAT', 'CACAGAGA', 'TGACATTA', 'ACAAATGT', 'CAACTGCT', 'TCCGAGAT', 'TTTCTTTT', 'GGTTATCA', 'ACACTTTT', 'GTGCACTA', 'TCCGAGTC', 'CTTGCAAA', 'CATCTGCG', 'TGGTGGCA', 'TTAGTATT', 'CAGTTTTA', 'TCATTTTT', 'AACTGTTA', 'GCTCTTGA', 'TTGTTCGT', 'GTGTATTG', 'AATGGTAT', 'AACAAATG', 'TTTTAAAA', 'GCCTGTAG', 'CAAATGCT', 'AGCAAAAC', 'GAGAGCTT', 'CATAGGAC', 'TTTGGTTA', 'TCTTGGAG', 'TGGATTGA', 'TCGCGTGT', 'CACTCGCA', 'TGTGAGAC', 'AACACGGC', 'AACAAGGG', 'ACTGGAAT', 'CTGTACTT', 'AGAGATTG', 'TCTGCAAC', 'CTGACCAA', 'AGTTCGCA', 'TGTACAGA', 'AATAATAT', 'ATAAAAGC', 'AAATTTAA', 'ACAATTGA', 'ATACTATT', 'CGGGTGCC', 'GTACCTTA', 'TTTATACA', 'AAGAATCT', 'GAAGCCAG', 'GGCTTTCT', 'GTTACCTT', 'AAAACACA', 'AAGGAACT', 'GAGATGGG', 'GGCATGAC', 'AGAACCAC', 'AGTATACC', 'ATGAAAGA', 'ACATAAAT', 'ATCAAATA', 'TAAGATAA', 'TAAACCTA', 'AGGGATAA', 'CTTGATTA', 'GTAATTCT', 'AATATGTT', 'AATAAAAT', 'TGTTACTA', 'CTTAAAAT', 'TTTAAAAG', 'AAAAAGCA', 'GAAAGAAT', 'CTGACAAA', 'ATACTCAC']\n",
            "['GTAGCCAG', 'AATTGTGT', 'GATGAAGA', 'AGAGATGA', 'ACGTTTCT', 'GAAATGTG', 'CATTTAGA', 'ATTCTAAT', 'CCAGCCGA', 'ATAAACTG', 'CTACAAAG', 'TACTGTGT', 'TCGTGAGC', 'GGTCGCCC', 'GTGGGGGA', 'AGCTGCGA', 'AAGGTAGT', 'GTGTGGGG', 'AAAACCGT', 'AAGTACAC', 'GGAAGGAA', 'GTGAGAAC', 'ACCAATAA', 'TTTGAGAA', 'TATGTATA', 'TCAGCTGA', 'AGTGTAGT', 'CACCACTA', 'GGTTATGG', 'CTTCATTG', 'AGACTGTC', 'CTTCCATT', 'GGAGGGCT', 'GACATCCA', 'ATCCTCGG', 'CTGAAAAT', 'TCACCGAG', 'AAGAAGCG', 'CCGCATGA', 'GCAACCGT', 'GAAGAGGG', 'GGTGTCAA', 'CTCATATG', 'GAAAGCAA', 'GGAGGGTT', 'ATTTGCTA', 'AACGGAAT', 'TGGGGATT', 'TACAAAAT', 'AAGAGAGA', 'CCGCTGCT', 'TGTTCTTT', 'AAGCACCT', 'AAAAAAGG', 'TCTTGATT', 'CCAATCTT', 'AATACTAT', 'AATGACCC', 'GTTTGTTT', 'TATCTGTA', 'ATATAAGA', 'TACTATTT', 'CACGGAAT', 'TCAGGTCT', 'TTCCCAAA', 'CAAAGAAG', 'TAACACAG', 'TCTCCGAA', 'ATCTACAT', 'GGCACAAA', 'GAAAATAA', 'TTGAGGAC', 'TGATGTTG', 'TCTCAGAA', 'CAAATATT', 'TACTAATT', 'CATGTGTA', 'ATTACGGC', 'TGTACTTA', 'GCTGTGCT', 'AATCCACA', 'GCGGTGGG', 'CATCGTGC', 'ACTGATCT', 'GTTCACTG', 'CACCAGGC', 'CCCTCCCG', 'ATTCACCG', 'ATGCTATA', 'GTCATTGA', 'TCACTTGC', 'GCTGATCT', 'AGCAAGGA', 'TGGTGAAA', 'TAATAGAG', 'TGGTTTCT', 'GTAAATTA', 'TTCATTTT', 'ACTGCTAT', 'CACACACA', 'ACCCCCAG', 'CACTAACA', 'ACACTGTT', 'TCTTACCA', 'GAAACTAC', 'CACGTATG', 'TGGATTTG', 'TGCAAGCT', 'CCCGTGCA', 'CCCTGGTA', 'CCTTTTTT', 'TATAAGAT', 'GTGCAGAA', 'ATTACCCA', 'ACCCAAAA', 'AAAAACTG', 'ATTAATGC', 'ATTTGTTT', 'ACTGTAGT', 'TCAAACAG', 'AAATTACT', 'TTCTTTCA', 'CTAAGCTC', 'CCTATGTG', 'TAATGCGG', 'GACGTCAC', 'ACTAGGTA', 'GAGAACCA', 'AAAAGCCC', 'CTCACACT', 'GATCCCAG', 'TGCGTAAC', 'AGGACACA', 'GAAGGGAC', 'TATGTAGA', 'GCCAAAAG', 'AGATAGTA', 'ATACCACT', 'TTCTGCCT', 'TTATACCA', 'TAAAAACT', 'ATTCACAT', 'TTCCTATG', 'CGATAACC', 'GAACAGAA', 'ATCTCGTT', 'CTTTGTTC', 'TGGCTTTT', 'GCTCTCTG', 'TACCAGTA', 'TGCAACCC', 'TTTTGGCT', 'GGAGTTTG', 'GATCTCTC', 'CCTTTGAC', 'ACTATTCT', 'AAGACATT', 'CAAAGGTA', 'ATTTTAAT', 'TTCATTAA', 'TATCTTAT', 'CTAATATC', 'ATCCCTTT', 'TAGAATTT', 'TTTAGTAT', 'TTCAAAAA', 'TTTATTAT', 'CTATTAAA', 'AGATCTAT', 'ATTCTTCT', 'TATTATTT', 'AGGTTAGC', 'ACCTCGAA', 'TCGTGTGA', 'AAGGCAAG', 'AAATTGAA', 'TTTTTTCT', 'CTTTATCT', 'AGCATGGA', 'CTTCCACA', 'TTAATTTT', 'TCTTTGAA', 'AGGATAAT', 'GACTTATT', 'CCGCCTGC', 'TGAACCGC', 'CACATACA', 'AGATCAGC', 'CTATAGCA', 'CGCAGCTT', 'TGGGTCCA', 'CACAAACA', 'TGTCAATA', 'CATCAGAA', 'TGTAGACA', 'TTAACCCT', 'TAGCACCC', 'CGGGAACG', 'AGCAAAAA', 'TTAACAGC', 'CAGTTAAA', 'CCATCTTG', 'AAAGAATC', 'ACTCTTCA', 'TCATTGGA', 'GACCCACA', 'CCCCCTCG', 'TGGGTGTA', 'CGTTTCTC', 'GGAATAAT', 'TCTTTCTC', 'CATCCTTC', 'ATGCGGGC', 'AAATGGCA', 'CCTCTTCG', 'GGAAGATA', 'TATGAGAT', 'CCTCAGTT', 'TTCCAAAA', 'TATCAGAA', 'ACCCTTTG', 'AGCTAATA', 'GCTGCACA', 'CGTTGTCA', 'GAGGCCAG', 'TCTGAGAT', 'AAATGCTA', 'ACCATTAA', 'TACAACTT', 'ACGCTCTT', 'TGGTGATA', 'CACCATCA', 'TAACATGA', 'TAGATCCT', 'GTAGTTTC', 'AACGCTGA', 'GTGTAGCT', 'AGTGGTAA', 'GGTTTCTC', 'TAATCTTC', 'CAGCTCCT', 'ACGGTGAT', 'TCTCAGCA', 'GACGGTGC', 'AATGTATA', 'ATCGTCCT', 'CTTGACAA', 'ATGTCGTC', 'TTTGGATA', 'AGGGAGGT', 'TCCTCTAC', 'ATACCAGA', 'GCAAATAT', 'CATATATA', 'CGCTGGGA', 'GAACCCGG', 'TGACAATG', 'AGGGTGCG', 'AGAACAGA', 'TAGAACGC', 'CAACGTGC', 'GGAGGGGG', 'TAGCATGT', 'GAGTTCAA', 'ACACACAC', 'AAAAAAAG', 'CCACAGAA', 'TTCTCTGA', 'TTGTAACC', 'GCGGAAAA', 'CTACAAAA', 'TATCAATT', 'ATCACATG', 'TGTGCAAG', 'TTGAGATC', 'CCATGTGT', 'ACAATCAA', 'AGCTATTT', 'GCCGGTCT', 'CCCATGCA', 'GCAAATCC', 'TGCGTGTG', 'AATGTCCC', 'CAGGGCAT', 'AAGAGAAA', 'TCTTATAC', 'TCTTGAAC', 'AAAACAAG', 'TCACCCAT', 'ATATAATT', 'ATTAATCT', 'AAATGATC', 'TAGCTATC', 'TAGTACAA', 'TGTATTTT', 'CCTAGAAA', 'CGTAGCAG', 'AAGACCAT', 'AAAACCGC', 'CATAAAAA', 'GTAGGTGC', 'TCGCGTGT', 'TGAGCTAT', 'GACAGTGT', 'CTGCAGTT', 'CAAGGGTT', 'CCCCACTG', 'TCCCCCTC', 'CAATATTT', 'GGGAGAAT', 'TGTTTCTT', 'TCTATGCG', 'GAAATATA', 'ACTGTACC', 'GCCCAGGA', 'ACCCAATG', 'AATTGAAT', 'CTAGATGA', 'AATGAAAA', 'CGCGTACC', 'TAAGTCTG', 'ATCAAATA', 'GCTACAGC', 'ACTGTCAT', 'AGTTACGA', 'AAACATCG', 'GGGTCCCC', 'CGAGATGG', 'TTCTCAAT', 'GGTGTCAA', 'ACTGTTTA', 'ATGACATA', 'ACTAATTA', 'ATGAAATA', 'ATTCAATT', 'AATAAATG', 'TACAAAAG', 'GGATAATA', 'TAAATAAC', 'TAGTTCAA', 'TAATTAAT', 'AATGGTAA', 'AACTAAAA', 'TTCTATCA', 'AAATGCTT', 'TTAACTAC', 'AGAATATT', 'ATGATTTT']\n",
            "['GGCTATGT', 'ACCAGTGC', 'GAGATGAA', 'AAAAAACT', 'TCCTGCTC', 'ACAAACCG', 'GTTGTGGA', 'AATAAAAT', 'TATTATCC', 'GGTGACCT', 'ATGGCAGG', 'GAGTCGCA', 'CGCGCTGG', 'CTGATCTG', 'AACTGCTA', 'AGATCGAT', 'AAAGAAAA', 'TGCAGAGG', 'GTATTCAC', 'ACACACAG', 'TCTACAAG', 'CTAGTGGC', 'CATAGTTT', 'TCCCGCAG', 'TTTGCTTG', 'AAGAGTTG', 'ATGAGAGT', 'AAGGAAGC', 'TGGGGGGG', 'CTTCATTG', 'TGTAGTGA', 'TCCATTGA', 'AGTTTCGA', 'GTCGCACA', 'TGACAGTG', 'TATGTACT', 'AAAATGTT', 'TGTTTCTC', 'GTTCGATG', 'ACACAAGA', 'CGAAGCGA', 'AGCTATCT', 'TATTGTTA', 'CAAGTCGA', 'AAAGTGCT', 'ATTTGCTA', 'GTACTGTA', 'ATAAAGGT', 'AAAAGCAA', 'CACCGGCC', 'GATCTCCT', 'GAAAAAAA', 'CATAAAGT', 'GCCCCTTA', 'TTGTAAAA', 'AGCTGTCT', 'TCACCACA', 'CCCATAAG', 'TGTTTGTT', 'TAAATAAA', 'ATATAAGA', 'TTCAGTGT', 'ACACGGAA', 'TAGTCTTA', 'TCCCAAAC', 'AGAACAAA', 'AATTATAT', 'AAGTCTCC', 'GCCGAGAC', 'TTCTGGAA', 'GAAAAACA', 'GTGCCTGG', 'GCCATGGA', 'ATCTCAGA', 'TAGAGCAC', 'AGAGACCA', 'CAACCGGA', 'TTGTATTT', 'TACTCGTA', 'TCCAATTG', 'CCACAGTT', 'AGTACTGT', 'GTGGGGGG', 'CACTGATC', 'CGTTCTTC', 'ATGACTCA', 'ACCCTCAA', 'CGGAATTC', 'ACACCAGC', 'CTTTTCGC', 'GTGTGACT', 'GACTTAGT', 'TAATAATC', 'TTTATCAG', 'AATAGAGA', 'CCCTTTTT', 'ATGGTGAC', 'CTCTTGTA', 'TTTCTGTG', 'CCCCCCCC', 'CCGGAATG', 'ACAAAAAA', 'TTTTTTGA', 'CAAATAGC', 'CGGCTTGG', 'GAGTGTGA', 'AATATGGA', 'AAGCTAAT', 'TGCGAGTT', 'GATCTCTG', 'TTGAATAT', 'CCCCCCCC', 'ATTGTAGT', 'AGGAGATT', 'CTTTCTGA', 'AGGGAACT', 'ATTGTTAC', 'TATCAAAG', 'ATGCAGCA', 'CACGTAGC', 'AAATACAC', 'ATAGAATC', 'ACATATAT', 'ATGTGCTT', 'TTCTCTCA', 'TAAAACTG', 'TTTTATCA', 'ACTGAAAT', 'GCCCTCGG', 'TACGTCAT', 'CAACTGCA', 'CTGTGCGT', 'GTTACAAC', 'GAATGAAC', 'GTTCAAGT', 'TCTTATCG', 'CTATTGGT', 'TAACCTAT', 'TCTTTTTT', 'TATTATTT', 'TATTGATA', 'TATATTCA', 'GACAAGTT', 'GCTAAATG', 'GAAAAAAA', 'TCTTTGTA', 'TTTCTTTC', 'TTTCACTT', 'GATCTAAC', 'AATTAGCA', 'TAACATTC', 'AACTGCAT', 'GTTTGGGG', 'TTTCTGAT', 'TTACTCAT', 'TGCTGATT', 'CAGTTACC', 'TGTCATTT', 'GCTTTAAC', 'GATTATTT', 'CATTATTT', 'TATCTTCT', 'TAGGATTT', 'AGCTACAC', 'AATATTAT', 'TATAAATA', 'TTATTAAT', 'TCTATTGT', 'ATCTATTC', 'TCTTCTTT', 'AAAACAAG', 'AGTAGTTA', 'AATTCAAA', 'ATCTCAGA', 'AAGAAAAC', 'TTATATAC', 'TTAGCAAA', 'TCATCTCT', 'TTGTTGTA', 'CTTTTTTT', 'CTGCTCAT', 'TATTAGAA', 'GGGGGGCC', 'CCACAGAC', 'TCACTTGT', 'GCGACTCG', 'TCGCCGAC', 'CAGCCATG', 'TTCCATCC', 'CTCCCCTC', 'CTTTTCAC', 'ATTCTTTC', 'AAGGATTT', 'TAACATCA', 'CTAGTACT', 'TGGTAGCT', 'TCGATAGC', 'AACGTCAA', 'ATAATTAA', 'ATATTTTT', 'ATTATCCA', 'AGTGGTGT', 'TCGTAGCC', 'CAACTCTT', 'CCTACGCT', 'GAAGGATA', 'CTCTGCTT', 'ATTGAACA', 'TGTACAGT', 'GATTTAAA', 'TTTCTGTT', 'TCTTCTTT', 'AAGATGTA', 'TGTTCTCA', 'AAGGGGAA', 'CTTATCAA', 'CGTTTTTG', 'CTTGCTTT', 'CAAAAAAT', 'GACAGATA', 'AATGTTTT', 'TGTCGCGC', 'TTTATATT', 'GTCAACAG', 'CAGCGGGA', 'GTTTTTTT', 'GTTCTTGA', 'TTTAATTT', 'ACACATGT', 'CAGACAGC', 'TTACGTCA', 'AAAAATTA', 'CGGCCTAC', 'GATGAGAG', 'ATACAGGA', 'ACACTGAA', 'TATTCCGT', 'GTGGTAAG', 'GGGAACAA', 'GTTCTTCT', 'TTATTTCC', 'CCCAAAAC', 'TTTGATAT', 'GTGCTTTG', 'TTTTCTCA', 'GAGCTACC', 'TGTTCTTG', 'CAATGTCG', 'GGTGAAAT', 'AATAATTA', 'CGGTTGTG', 'CTCCTGGA', 'ACTATAAG', 'CATATATA', 'CTCTTCCG', 'TACTGCGC', 'GCTGACAA', 'GGGAAGTT', 'GAACTGAG', 'TGAGTCAT', 'TGTACATT', 'TGGAGGGG', 'GGCTGGTG', 'TCCACAGC', 'TGAGTCAC', 'TTGGCTTT', 'TGCTCTGC', 'AGTACCCA', 'ACTCCCCC', 'AAAGTTTT', 'ACAAAATA', 'TATCAATT', 'AAAACAAA', 'GTTGGTGC', 'TTTCTTTT', 'GAAATTTT', 'ATCAAAAA', 'CTTTTTAT', 'GTTTCTTA', 'CCTCGAAC', 'ATTCGTGC', 'GCATGTGG', 'GTCCCAAT', 'AAGCGGGA', 'AAAAGGTA', 'TCTTATAC', 'CAGCAGGT', 'TAATTTGT', 'CCTGCAGC', 'AAGTGTAT', 'TATGACAA', 'AGCTTATA', 'GCTGCATT', 'ATTATGCT', 'CTGCATTT', 'TATAGGTG', 'TACTCCAC', 'CATGAAGC', 'TTTTGCAT', 'TGGAGAAG', 'ATCCACAA', 'ATGGTTCT', 'AGTCAAGA', 'GTGTGAGA', 'CGGCTACT', 'AAACAAGG', 'TTGTTGTA', 'CCCCCTCT', 'TATTGCCT', 'GACCTTTT', 'TTCTTGGT', 'CTATGCGA', 'AACGAAAT', 'AAAATAAT', 'AGCATACA', 'GGAGGTCC', 'GAACTTGT', 'GCACGTCG', 'TTTTTTCT', 'GATACACT', 'GAACAAAG', 'TATACCGT', 'TAGATCTT', 'TACTGTCA', 'GTTGCAAA', 'ACACAATC', 'CATTGTGT', 'GCTCCACA', 'CGTCAAAG', 'ATCAGCAA', 'TAGACTAT', 'CATATGAA', 'TAATGTAT', 'ACCATGTT', 'AACTAATA', 'CAGAGAAG', 'TAAAATTA', 'AAAACGTA', 'TGTAAATA', 'TTAATATA', 'TCACATAA', 'TACAATAG', 'GATCTTAA', 'TCTTACAA', 'TTTTAAAA', 'CCAAATTG', 'TTTTCAGT', 'TCATTTCC']\n",
            "['AGCTGCTG', 'AATTTTTC', 'AAGTTTAT', 'TAAAAAAA', 'TCCTGCTC', 'TGTGGAAG', 'TAGAGTTG', 'CTTTCAAA', 'CCCAATGG', 'ACCTGGCG', 'CAAAGCTA', 'CTTGCGCG', 'GAGGTCGG', 'CGGGACGT', 'TGAATATT', 'ATCGATAA', 'GTGAAAAG', 'AGAATTCT', 'TTGGTTAA', 'ATGTTAAG', 'AAGAAAGA', 'AACAATTC', 'ATAATATA', 'GAGTTGAT', 'ACGTGAGT', 'TTTGCTTC', 'GGATAATG', 'ACCACTAA', 'GGATGATT', 'GGGAAACC', 'GTATCTCT', 'GTGTGGGT', 'GGGGACGA', 'CATCCACT', 'GCCCTCTG', 'GAAAATAG', 'TTTCTGAG', 'ATGTTTCT', 'GCATGACT', 'AGAACATC', 'GTAGAGAA', 'AAGGTGTC', 'AATCTCAT', 'AACTGAAA', 'CTGAATGG', 'AACCCGGA', 'GGTTACTT', 'ACCACTGA', 'AAAATTAT', 'GACAACGA', 'GTGTTCAT', 'ATTGACAT', 'AAGATGTT', 'AAAAAAGG', 'TTTGAATG', 'AAGCTGTC', 'CGTAATAC', 'ATGGTGCT', 'GGCCGATA', 'AAAGGAAC', 'GCCGCTAC', 'TCAGCGTT', 'CTTAATTG', 'TTATCGTT', 'ACGAATGA', 'ATTAAAAT', 'ATGAGTTG', 'TGGGTTGA', 'ATATATCA', 'TACGGCAC', 'AAGTAATT', 'TGCACGGC', 'TGTTGTCA', 'ACTCTTGA', 'ATATCCAA', 'CATATTGG', 'GATAGATC', 'ATTACGGC', 'TGTTATAT', 'TGTTTGCT', 'TTCCAGAG', 'CAGTGTGC', 'GGTGCGCA', 'GCACCCTC', 'TCTTCTCT', 'AAATGACT', 'CGTCACTA', 'TCCACACT', 'CACCAGCC', 'TGGGAAAG', 'TTGAACCA', 'GTGGACTT', 'GTGGGATA', 'GGGTACTT', 'AGGCAGGG', 'AAAACTTT', 'TGGTATGG', 'CAGATTAA', 'ATTCTCTA', 'AACTTGCA', 'ACCCCCCC', 'CCCACAAA', 'AGGGTGGA', 'GGATAAAA', 'TACAGACC', 'GCATGTGC', 'TGAACATG', 'CACGCACA', 'TGAGCGGT', 'GTGCGTGT', 'TCCCTACA', 'CAAAAACT', 'CTGGTTGT', 'TTATTGAA', 'CAACCCAA', 'AACAATAC', 'TACTAAAC', 'GTGTATTA', 'AGTTTTTT', 'TTTTCACT', 'TGAAAAGA', 'ACAACTGC', 'CTGCTACG', 'TATCTTCT', 'AATACCAC', 'ACTAAAAC', 'GAAAATTG', 'CGCGAACC', 'AGCTCAAT', 'GTCTCACA', 'ACTAGCCC', 'GTATAAAT', 'CCATCAGA', 'AGGGGGAA', 'TTTGTGAG', 'GCCAAAAG', 'TATCTATT', 'AATCCCGT', 'CTTTTTTT', 'TTATTTTA', 'GAAATGTG', 'TATTCACA', 'GTTCCTAT', 'CTTACATC', 'AGAACAGA', 'CTTTGCCA', 'TGATTTCT', 'AACGGTAT', 'CTGGCTTC', 'CGGGGGGA', 'TTATCCAT', 'TCTGGTCG', 'CGGCGATT', 'TCCCATCT', 'GTATTACT', 'TGCACAGT', 'TATATTAT', 'CTTTTTCC', 'TATTTTAA', 'ATTACTAT', 'TTTGTACC', 'TATCTGCT', 'TATCTTAA', 'GCCTACGT', 'TTAGGTTT', 'ACATGGAC', 'ATTTTATT', 'TATTACCA', 'TTATTAGG', 'AAATTCTT', 'CAATTTTT', 'TTTTGCGG', 'AAAATATT', 'TTCATCTC', 'TAATGGGT', 'GAAGTAAG', 'ATCTTCAT', 'TTTCATCT', 'TGTTGTAG', 'ATAAACCG', 'CCAGTGCT', 'AGGGGGGA', 'CTCGGCTG', 'GTCACCTG', 'GCTTTGTA', 'CCGCCGCT', 'CCGACCTC', 'ACCACGTC', 'ACCGAACA', 'CTTCTTTT', 'TGTAAGCC', 'CCTCCAGC', 'GGTTTTAT', 'GCTACTTC', 'GTTCTTTC', 'AGGCATAT', 'TGGTAATG', 'CAAAAGGT', 'AATATCAC', 'GATACGTG', 'ACAATTTA', 'AGTGGTGT', 'TCCATAAC', 'ATTTTGTT', 'GGACAGTC', 'TATTTCTC', 'GTTTCGAA', 'GTATGGGT', 'CGTTTCTC', 'AATATGTA', 'ATATTTCT', 'AAGCATTC', 'CTTGTCAT', 'TTTTCTTG', 'AGGGGAAA', 'GGTTATTC', 'TCCCCCCC', 'CTTGCTTT', 'GCACTTTC', 'TCTTATCA', 'CCCTTTGG', 'GTGCTTGA', 'ATAATTTT', 'AGTCGTTG', 'AGGAGTAG', 'TTTACCTA', 'TCTTGATA', 'TAAAAAGA', 'GTAATCAA', 'TTACGCTC', 'GTGGTGAT', 'AGAGAAAG', 'TTGTTTAA', 'TTTTTATT', 'TACTGTAG', 'TAATCTCG', 'AATTAAGG', 'AAGTGGTA', 'ATTGTCTC', 'TAGTTTAA', 'CACCTGTG', 'AAAACGGT', 'AAACGTGT', 'GGGACGGT', 'GGGGAGAA', 'GCATGTGG', 'TTGACAAC', 'AGACTCAA', 'TACAGTCA', 'AGGGAGGT', 'ATTCAGGG', 'AGAAATAC', 'TACAAGTA', 'CAACACAG', 'GCTGGGAA', 'CACCGCAC', 'GATAACCT', 'GTGACACA', 'AGAATAGA', 'GAACGCCT', 'AGTGACGA', 'CATGAGAC', 'TCCAATTG', 'TGACACAT', 'TTTTTTTT', 'AAATTACT', 'ACAGAAAC', 'CATCGTAC', 'GTTCAACT', 'AAAAGGGA', 'AATATAAT', 'ATTCATAA', 'AAATGATC', 'GGGGATAC', 'AATTTCTT', 'CGGTACCA', 'AAAAAAGT', 'GAGCCCAA', 'TGTATATG', 'GATGCACA', 'ATGTTCAA', 'TTGTGCAT', 'CGCTGGTG', 'TAGTATTT', 'GAATATTC', 'TGTTCATT', 'TTGAACTT', 'CTTGAGCC', 'CTGCAGCT', 'TGTTTTTA', 'ATATATGA', 'AAAACAAA', 'AAAACTGA', 'AAAGCAGC', 'TTTTTCAA', 'AGGTGCCC', 'CCACGGAA', 'CAAGGAAA', 'AACCGCAT', 'AATATGCC', 'TATAATCC', 'TGGCCAGA', 'TAACAAGA', 'GAGACAGT', 'GCTACTGG', 'AAGGGGGG', 'GGTTTTGT', 'TCGTCCCT', 'TGATTATT', 'AATACAAT', 'ATTGTTTC', 'GAGTTCGC', 'GTAACGAA', 'AATATGCA', 'CGTCATTT', 'CATAGGGC', 'ATAGGAAC', 'TACTATTG', 'TGATTTTG', 'AAAGAACG', 'AAAGCAAT', 'AATCCCAT', 'TCTTAAAT', 'TACTGGTA', 'CAGTTACG', 'AACATCGC', 'CCACTACA', 'AATCGAGA', 'CAAAGGTT', 'CAACTATC', 'CATACACT', 'CCAAATGA', 'AGAAATTA', 'ATAATCAT', 'GATGGTAC', 'AGCCATTA', 'GATAAATC', 'CCTTCTTG', 'TGTAAATA', 'AGTTCAAA', 'AATAACTT', 'AAAATGGT', 'AAAACTAA', 'AAGAATTT', 'AATAATAA', 'CAAAATAC', 'TTCGAGGT', 'TACTCACA']\n",
            "['GGTACCCA', 'TTGTGTAT', 'GTATTTAT', 'AGATGAAA', 'TGTTCTTC', 'AAACCGGT', 'AAAATGAG', 'CTACTACC', 'TTCCCAGC', 'GATACCCA', 'CACAAGTG', 'CTGTGTGG', 'GAGCGCGC', 'GGCCGGGA', 'TGGGGGAT', 'AGATCGAT', 'GCGAGGCT', 'AGAGGTGT', 'CATTTCGA', 'ACAAATGA', 'AGATGTAA', 'GTTTCATT', 'TACCAGGG', 'AGAGTTGA', 'TTTGCTTG', 'TGTTTTGC', 'AGTGTAGT', 'ATGGATTG', 'GCTACGAC', 'CTTCCTTC', 'TATGGACG', 'TTATCCTT', 'GCTATACC', 'CTTAATAG', 'GGAGAAAC', 'GACTATGT', 'TCTCACCG', 'AAGAAGCG', 'ACACGTCA', 'GGTGAGAA', 'TAGAGAAT', 'GCAGGGGT', 'GCAGCTTT', 'ACTGAAAA', 'GAGGGTTA', 'GAAGGTTA', 'GGAGTGCA', 'TTGGACCA', 'AAACAGAC', 'ATGGTCCA', 'GTACTTCC', 'CCAAAGCC', 'CCTGTTTG', 'TGGTCTTT', 'TAAAAGTC', 'AAATTTAC', 'TGAATGAT', 'TCTCTCCA', 'CATCATGT', 'AACTTACT', 'GAATGAAA', 'CAGTATTT', 'TACACGGA', 'ATTCTTTC', 'TCCGCACG', 'AAAATTGC', 'GGTGCAAT', 'AGAATTGA', 'GAAATGCC', 'CGGCACAA', 'TACCCAAG', 'CATGCACG', 'TGTTGTCA', 'AAATCTCA', 'CTTGACTG', 'AGAGACCA', 'GTCTGCAT', 'GTATTACG', 'ACTTTTAG', 'CTCCAATT', 'CCCGGTTC', 'TAGCAAGT', 'TATCACTG', 'CACATTCT', 'CTTCTCTG', 'GTTCTAGA', 'ATGTACAC', 'TTCACGGA', 'TATGTTCG', 'GGAATTAG', 'ACACTTTC', 'GGACTTAG', 'TCGCAGAG', 'GACATGGT', 'GGTTACAA', 'GAAATTCC', 'CATTAAAT', 'ATATGTTA', 'TGCTATCA', 'CCCACACA', 'ATCTCAAC', 'ATGGTACC', 'CCTTAGGG', 'AGCTGGAT', 'ATGGTGGA', 'CATCATGA', 'ATGGGTAT', 'CGAGTACA', 'CTGCCACC', 'TCTGTGCG', 'CGCTTGAA', 'CCCCCCCC', 'AACAGTTG', 'AGATTATT', 'ACCCAAAA', 'TGTAAATT', 'CATATATT', 'TATCAAAG', 'TTTTGTTA', 'TATTTTCA', 'ATTGTCAA', 'CCTTCTTT', 'CCGTGGAG', 'TCCTTGGC', 'AAATACCA', 'CACTTCTT', 'TTTATCAA', 'CGCGAACC', 'GTCTTGAC', 'CTGTACGT', 'TAGCCGTG', 'AACCCTTG', 'ACTACGCT', 'CAGATGAA', 'AAAATATT', 'GTTGCAGA', 'TGTGCGAG', 'ACTCTTCT', 'ATTTCTTT', 'AAACTTGG', 'ACTCCTGG', 'AGTATATT', 'TTAGAGTA', 'CATCTAGC', 'GCAAAATC', 'CAGTGTAT', 'TTCTTTGT', 'TTTAAGCG', 'ATCTAACT', 'GGCGGGGG', 'TCCTTCAC', 'CTCAATTT', 'CAGTTCCT', 'ATTGTCTG', 'GAAAACGG', 'ATAGTTGT', 'TATACTTG', 'AGCTCTTA', 'GATTCCTT', 'TTTAAGTT', 'AGTACCTT', 'TAGCTGGT', 'TATTATCT', 'AGCCTACG', 'TGATAATA', 'GCATATAA', 'CCTAGTTT', 'ATATCATA', 'TTAAGATC', 'CTTTATTT', 'CACTGCTT', 'CGGTAATT', 'ATATTCTT', 'GAAATGAA', 'AAAACCCT', 'AAAATTGA', 'ATCTTCAT', 'TCTTTATC', 'ATTCATTT', 'GTGTGGGG', 'CAACTCTA', 'TGATTTTA', 'GCTTGGGG', 'CTTATTCC', 'GTACCCGC', 'CTCCTCCC', 'TTGCACAT', 'CACCACGT', 'TCCTATTC', 'TTCTTTTC', 'TACCTTTT', 'CACCTCTG', 'CTACTGCA', 'AGAGTTTC', 'TACGAGTT', 'TTTAACCC', 'GGTAAATG', 'TCAAACAT', 'AAAATATC', 'CAAAAAAA', 'CTACACTT', 'TAGTGGTG', 'CGTAGCCT', 'GCATTTTG', 'CTACATGC', 'CCCACACT', 'GTATAGCC', 'ATGGGTGT', 'GAGGGCCC', 'AAATATGT', 'TTCTTTCT', 'TTTCTTCT', 'AATGGAAG', 'TGTGCTGG', 'TTACCCGA', 'AGGAAGAT', 'CCCCCCCA', 'CTTTCGAC', 'CCACTACC', 'ATCCATTG', 'TCACAAAG', 'AGTGGTGC', 'TTTATATT', 'GTTGTCAA', 'CGGGAAGT', 'ATTGCGCA', 'TACCATCA', 'CCCTTTTT', 'ATGAGCAC', 'AGTTTTAT', 'AAATGCAA', 'ATATGAAA', 'TAAATCCT', 'TTATTTTT', 'GCAATTTA', 'CGACTTAT', 'ATTAAGGC', 'ACGATAAC', 'GTCTCTAG', 'GCAATTTT', 'TACAGCTC', 'ATTCTCTG', 'ATTTTTCT', 'TCCAGAAT', 'TCTTATTT', 'CGTGCATG', 'GTCATCCA', 'GTCGTCAG', 'TCTTATAC', 'TTAGAGAG', 'ACACATGT', 'TAGTAACT', 'AGCAAATA', 'TTGACATA', 'AAAATGAC', 'AACCCGGA', 'CCCCACCA', 'GGGAAGTT', 'CAGAGAAG', 'GCGAGGGA', 'AACCGGGA', 'CGTGAATC', 'TTTCTTCC', 'TTTCCCGT', 'GGTTCAAG', 'AAAATTAC', 'AAATAGAG', 'CTCTGATA', 'TCCCCCCC', 'AAAGGGAA', 'ACCATCGC', 'AATAATAA', 'ACAGAAAT', 'TTCTTGCG', 'GTCATTCC', 'TTTTTATT', 'GAAACAGT', 'TTTTTATC', 'GTACCCAA', 'CTCGCTGT', 'GTTCATAC', 'TTAGCTTG', 'CAATCGCT', 'CTACTAAA', 'GAGGGCCA', 'CGCATCTT', 'AGCAGGTT', 'AAAACAAG', 'TCACCCAT', 'TGTTTTTA', 'TATATATG', 'AAATGTAA', 'CTGCATTT', 'ACAAGGGC', 'TCACCTGC', 'CAGTTGTG', 'CGTAGCAG', 'TTGCAAGA', 'TTTTTGGT', 'AATTTGCT', 'GTAGGTGC', 'ATATTGGC', 'GCTTTTTT', 'ACAGTGTG', 'TTACAGGC', 'GCAAGGGT', 'CTCCAAGC', 'TTTCCCCC', 'ACATAGTA', 'TTTGGCTT', 'AACGTTAC', 'TGGTATCT', 'TTGCAACC', 'CCCTAATG', 'AAAGCCCA', 'CCATAGGG', 'ACAATTGA', 'TGATGTAA', 'AATGTACC', 'AATTCCAA', 'ACCTGAAC', 'GAATATAC', 'CAGCTGAA', 'CGCCGCCA', 'CCTTAACA', 'CCAGAGCA', 'GCCGCACC', 'GATTGAAT', 'ACGTCAAA', 'CAAAATCA', 'TGGTAACT', 'AGCTATAA', 'AGGAATCA', 'GTAATACC', 'ATAATAAT', 'AACCAGCT', 'AATTAAGA', 'AGGTGTAG', 'ATACTAAA', 'AGTTCAAA', 'AGCAATAA', 'TAAAATGG', 'AAACTAAA', 'TCATCTCA', 'ATGACCAA', 'TAACCTTT', 'TCGAGGTG', 'ACTCACAC']\n",
            "['CCCATTAG', 'GTGCCATG', 'TATTTATG', 'AAAGATAA', 'AATGAATT', 'ACAGTTTA', 'ATTAAAAA', 'CCCCCTCC', 'AACTTCCC', 'CCCAAACG', 'ACAAAGGC', 'GAGGAGCG', 'TCGTTGAG', 'GCGGCTGT', 'AGAGAAGA', 'GAAGGGAT', 'TGGGAACA', 'CTGGAGGG', 'AAAACCGT', 'AAGTAGCG', 'CAAGACAG', 'GAGAACAA', 'ACTCATTA', 'GACGTTCC', 'TAATTATG', 'GCTGATTT', 'AGTGTAGT', 'GCCAAAAA', 'TTTGCATT', 'CCCAACTT', 'GCATGTAG', 'ATTATCCT', 'AGAAGACG', 'AGGTTACG', 'AAGAAGGG', 'AGATACAT', 'GAGAAAGA', 'ACCGAGAA', 'TGAGTGTA', 'CGGTGTCG', 'AAGAGGGT', 'GACGCAGG', 'AATCTCAT', 'GTTGAAAG', 'GGGGAGTT', 'TTATCTGT', 'AAAACATT', 'AGCACCAC', 'CTACAATT', 'GTCCACCA', 'CCCGCTAC', 'AGCCGAAT', 'TTATTACA', 'GGTCTTTG', 'AACCTCTC', 'CGAAAGCT', 'GACGTAAT', 'GGTACTAA', 'TAGGCCGA', 'AACAAAGT', 'GAAAGGTT', 'TTGCAGTA', 'AAAATAGG', 'GTTATCGT', 'AGAAACCG', 'GTAGAAGA', 'AATTATAT', 'AAGTCTCC', 'GAAAAATA', 'CGTCCCCC', 'ATAAGAAA', 'AGGACGGT', 'GTGATGTT', 'AAAATGCG', 'CCAAATAT', 'AACCTCCC', 'AGAAGTCT', 'TTGCTTTT', 'GTTGTACT', 'TTGTATTG', 'TTTTTTCC', 'TTCTGGTG', 'CCTTCGCT', 'TTCCCGCA', 'TTCACTGT', 'AGAACAAT', 'CGCACGTT', 'GATTCACG', 'TATAGACG', 'TCGCCACG', 'CTTGCCAA', 'CTTTTTTT', 'TAGTTTCT', 'TTGTATCG', 'CAGAAGGT', 'TCTGTGAA', 'ATCTCTGT', 'TGTTATGA', 'ACATGTGA', 'AGGCACCA', 'CCCCCCCA', 'CTAACACA', 'GGATGTAT', 'AAATAGCT', 'CTAAGAAA', 'TCGGAGGA', 'GGTATGAA', 'CGCAGATG', 'ACATTGCT', 'CCCTTTTT', 'TTTCTCTT', 'TAAGATGC', 'AACAGTTG', 'ATTATTGA', 'ATGGGTGA', 'ATCATTCA', 'ATTCCTTT', 'ATAAGCTG', 'AATGCAGC', 'AAGCATAA', 'ATTCATTG', 'AGGGCACC', 'GGAGTACT', 'CAATACCG', 'AAACACGG', 'ATATTTAC', 'ATATTGGA', 'GGCCAATA', 'ACACAAAA', 'TCACACTG', 'CGATCCCA', 'AAATACAT', 'AACCATCA', 'ACGAAGGG', 'CTATGTAG', 'AAGGAAAG', 'CCAAGAAA', 'CATAACCT', 'TGTACAGA', 'ATTTTATT', 'AATGTGCT', 'GTATATTC', 'GAGTAATG', 'GCTAAATG', 'AAAAAGAC', 'TTTGGAAT', 'ATAAATTG', 'AAATATTT', 'TCTCTGGC', 'GAAACTAC', 'GCTTTTGC', 'CTAAGATT', 'GTAGTGGA', 'TCTCTGTG', 'ATACTAAT', 'CATATTGC', 'ATTTAATC', 'TTTTTCCA', 'ATTCATAT', 'TAGGTATT', 'GGTACAGC', 'TTATCTGC', 'TTTACTTT', 'TAGAATTT', 'TTATTATT', 'ATTATTTG', 'TATTATAT', 'TTTAGTAA', 'ATTAGGTG', 'TTGTAAGA', 'TATTATTT', 'CAAGTAGT', 'CGAAAGTC', 'TGAAAAAT', 'GGCTACCC', 'TTTGAAGT', 'ACATAAAT', 'TAATTATC', 'GCTAGCAT', 'TTCTAATA', 'TTAAACCA', 'CTGGGGTA', 'GGGCTCGG', 'CCACAGAC', 'GCTTTGTA', 'ACCGCCGC', 'CTCAACGA', 'GAAAAGGT', 'TTCACCTA', 'CTTTGAAA', 'TTTCACAA', 'CCCCCCCC', 'TGAATACA', 'TCATCCGC', 'TACTGTCT', 'TCACATCT', 'GGTAATGA', 'AAAGGTAT', 'AATTAACG', 'ATACGTGC', 'AACTCTCA', 'TGTTTTTT', 'ATCATCCT', 'GCCCTCTT', 'CATATCAC', 'AATCGCGT', 'TCCCCCAC', 'AACAGTAC', 'TGTACAGT', 'AATTTAGT', 'CAGAAACA', 'ATTCTTTT', 'TAATCTGA', 'ACCGAGGA', 'TTCGATAT', 'AAGGAAGA', 'AATGTTTC', 'GTACATTC', 'CACTTTCC', 'TAACCTTC', 'CCATCACA', 'TAACATAC', 'TATAATTT', 'TCGTCATC', 'GACCATGA', 'ACCTACTA', 'TCTTACCA', 'CTTTTTGT', 'AATCAAGA', 'AAGGATAG', 'TAGCATGA', 'GGGTCATT', 'ATGTGAAA', 'TTCCTTTT', 'AGTTTCAT', 'GAGACAAA', 'TGTAGCTT', 'AAACAATG', 'GAACAAGT', 'CAGTGCTT', 'CATATAAT', 'AGGGTTTC', 'TAGATGTG', 'CAGAATAT', 'TCAGGGCT', 'TGTGGGTG', 'GGAGTGAG', 'TTCTGAGA', 'CTAGTTGG', 'GGTTCTCC', 'GATCTATC', 'ATTAACCC', 'TACAGCAA', 'ACATATAT', 'TGGCTCCC', 'CCCACCGC', 'ACCGCACG', 'AGTTCCAA', 'AGAACAGA', 'AACGCCTG', 'GTTGGGTA', 'AATCCCGG', 'ACGAACAT', 'GCGAAAAG', 'TGGCAAGT', 'AAAAAAAA', 'TTAGTAAA', 'GATAAAGT', 'CTCTGTAC', 'GAAAAAAG', 'TACCATAG', 'ATATCAAT', 'AATATAAA', 'CCCGTGTG', 'GAGATCTG', 'ACCATGTG', 'TCCACCCT', 'CTCAATTA', 'CACTACTC', 'CATGATGC', 'TCCATATT', 'TGCATGTG', 'GCACGGGA', 'CGCACAGA', 'CAACCCTA', 'GTAGTTTT', 'TCTTCTGC', 'TCAATAAT', 'CTGCAGCT', 'TGTTTTTA', 'CAATGAAA', 'TTGATAAA', 'ACAAGAGC', 'GTACAAGG', 'CACCTGCA', 'TATAGGTG', 'GCAGTACT', 'GAGAGAAG', 'ATAAAAGG', 'AAAGTAAA', 'AAACAACT', 'TTGGCCAG', 'GATCACTC', 'AATATGAC', 'AGTTGTTG', 'GCACGTCA', 'TCCTGCGC', 'GTTCATCT', 'GAGATTGA', 'AAGAGGGG', 'CAATCTGA', 'ATAGGTTA', 'ACCGTAAC', 'TATGCATT', 'AGTGTATC', 'GTGAATAT', 'CCATAGGA', 'ACACATTT', 'AACACCCA', 'CCTTGTAC', 'CTGAACAA', 'TTATTTGA', 'GCTACAGC', 'ATTTACTG', 'TGGTGAAG', 'AAGATGCA', 'ATCCATTG', 'GAGAGATC', 'TCAATGAG', 'ATGTGGAG', 'TATACCAA', 'AACAATAT', 'AAATAAAC', 'CATGTTTA', 'ACTAATAA', 'ATAGCCAT', 'AGCTAAAG', 'TCTTGAAA', 'GTAATTCT', 'TTAATATA', 'CACATAAA', 'CAATAGAT', 'AAACTAAA', 'GTATTTCC', 'ATATTATG', 'AGAAGGCC', 'AGGAAAAA', 'GATGAAAA']\n",
            "['GCCAGTGA', 'ATATAAAC', 'CATAAGAT', 'TCAATTGT', 'AAAAAAAA', 'GTGGAAGA', 'TAAAAAAT', 'TTCTAATA', 'CCTGAACT', 'ATATAAAC', 'AGGTGATG', 'GGTTCAGC', 'GCAACTCG', 'CCTTTTCT', 'TGGGGGAT', 'GGTGAGGG', 'CGAGGCTT', 'GAAAGAAT', 'CATTTCGA', 'AGGTACTT', 'ATCTTAAT', 'TTCCAGTT', 'TACCAATA', 'AAGTAGTA', 'ATTTCTTT', 'TTTCAGAA', 'GTAGACAC', 'TAAGGAAG', 'TTAGAGGG', 'GTGAAGAG', 'AGGTGTGA', 'ATAAAAAG', 'AAAGCAGA', 'TACATCCC', 'TGGTGATC', 'CGACTATG', 'ATATGTTT', 'ATGTTTCT', 'CCCGCATG', 'ACATCCAG', 'AGGGTGAC', 'AAGGTGTC', 'AAAAACGG', 'GAAAGCAA', 'TGCTGCCC', 'TTTGCTAC', 'CACGATAA', 'GAACAGGC', 'GATATTGT', 'ACTTCAAC', 'GCCATCGG', 'CTCGTGGG', 'AAGATGTT', 'AAAGCCCC', 'GTCTCTTT', 'CTCTATCC', 'CATTTGCA', 'GGTCTTGA', 'GTTTTGGT', 'ATCTTTTA', 'AACTACGA', 'AGTCGAGA', 'CCTTAATT', 'GTCTGCCT', 'AGGACAGA', 'AAAAAAAT', 'ACAGGTGC', 'GAATCACC', 'TTTGCTGA', 'ACAGAATA', 'AGAAAATA', 'ATGGTTGA', 'AAGTACGG', 'TCCCCACT', 'ATTGAAAA', 'CACAGAGA', 'TAGATAGA', 'CGGCAAAG', 'AGTTGTAC', 'ATTGTTTC', 'GGAAATCC', 'TGCAGTGT', 'AATAGAGG', 'GTCTTGGT', 'TTCTATTC', 'ACCCACGG', 'TTGGGAAA', 'GGGACCCC', 'GCCATCAA', 'GCCACGGG', 'ACACTTTC', 'AAAGCCAA', 'TAATCAAA', 'TGTATCGG', 'GGGGGAGT', 'AAGGCCTG', 'GTAGTTGT', 'TCTTGTAT', 'TATCAAAG', 'ACACACAC', 'GAAATTAG', 'AATCACTT', 'ATAATGCT', 'TGTGTGAT', 'AACGATGG', 'GTGAAGGG', 'CGGGTATG', 'GCTAATCC', 'ATTGCTAC', 'CTTCATGC', 'GCTTGTAC', 'ATGAGCTG', 'AAAGTTCA', 'AAGAGCTG', 'AAAAACGA', 'GTTGTAAA', 'ACAGATTA', 'TTATCAAA', 'TTTTTTAA', 'TAGCTGCT', 'ATACACAG', 'TAGAATCA', 'ACTAAGCT', 'TTTCTATC', 'AACCAAAA', 'GACGTCAC', 'GTTGTTTT', 'CCTCTGGC', 'CTCAATGC', 'ACACTGTC', 'TCCCCCCC', 'AAATACAT', 'AATGCACG', 'GGGAAAGT', 'CTCTACTA', 'ATTGTATT', 'TAAGAGAT', 'GTTCTCGC', 'TTCTGCCT', 'CATCATGT', 'AAACTCCC', 'AGTAGTAT', 'TTGATCAA', 'CAATGTTT', 'CATTTGGG', 'GGAATTTA', 'TTCAGGTA', 'ATTTAAGC', 'TCTGGCTT', 'GTGGACAA', 'TTTTGCAA', 'TTTGCTCT', 'AGGGGAGT', 'CATCTCGA', 'TTTGACGT', 'TTGCTGAT', 'AAACAGTT', 'TGTATTAA', 'ATTAGTAT', 'ATTTAAAC', 'TATCTTAT', 'AGCTGGTT', 'TTTAATTT', 'TTCAGCTA', 'ATATTATG', 'TATTTGAA', 'TTAATTAT', 'AACACCAG', 'ATTTTAAG', 'CTTCTTTA', 'TCATAATA', 'GTTAAAAG', 'TTGTCAGC', 'AATGAAAA', 'AGGGTCAC', 'ATTTGAAG', 'CATAAATA', 'TTATCTTT', 'ATTCATTT', 'TATTTTTT', 'TTCCATTT', 'TGGGGTAG', 'GGCTTGGG', 'AGACCTTG', 'GTAGCTTG', 'TTTCAACT', 'GCACATAC', 'GACCGCCG', 'CCATCCCC', 'AGCTTCTC', 'ACTACCTT', 'CCCCCCCC', 'ACTTAACC', 'AGAGTTTC', 'GAGTTCTT', 'ATTACTGG', 'AACTATGG', 'TTTCAAAC', 'TAACGCAC', 'TTTTTTAG', 'AAGGTGTC', 'ATGTTCTC', 'CATAAAAT', 'GTTTCCCT', 'ACATGCAT', 'TGGAAGGA', 'GACAAAAT', 'AGGTAGTG', 'TATGCCCC', 'AAACAAAA', 'TGAGAAAC', 'CTGTTCGC', 'TAATCTGA', 'CACCGAGG', 'GTCTTACC', 'GACACCTT', 'AAAGCTGC', 'AACTTGCT', 'CTTATCCA', 'TGGACAGA', 'TCGTGTCC', 'TCTGTGTG', 'TTATATTG', 'CATCGTCA', 'AGCGGGAG', 'GAGATAAA', 'GCCAAATG', 'TAAGGGGC', 'TAAAGAGA', 'CGAAAGTT', 'TACTTGTC', 'AGAAAGCA', 'TCGGCCTA', 'AGATAAGG', 'CTGTAGCG', 'TTAATCTC', 'CTTCCGTA', 'ATAACAAA', 'TCTCCTCA', 'TAATCTTC', 'TCTCTGAT', 'CTTAGGGT', 'TTTCTCAG', 'TTCTGTTC', 'GTTGTTTT', 'GGGTGTAT', 'TCTTGACA', 'GCGCATTT', 'CTTATATC', 'TTTTGGTT', 'TTTCTCCT', 'CCTGGAAT', 'AAGTACAA', 'CATATATA', 'TGGATTTC', 'TTGGTACT', 'ATAACCTC', 'CAGAGGAG', 'GCAGAAGA', 'ACGCCTGG', 'ACATTGAG', 'TCCCGTGA', 'TACGAACA', 'ACACATCT', 'ACACACAC', 'TTACTGCA', 'ATTAGTAA', 'TTTTCACC', 'CTCTCTAT', 'ACAGAAAC', 'TTTAATGC', 'TGAATGCC', 'TTTGATAA', 'TGTGTGTG', 'ATTTCTTT', 'TGAAGTGA', 'AGTGTTAT', 'TGGATCAC', 'GTGCACTA', 'TGATGCAC', 'TCATACCC', 'TGGAACAT', 'AACTCGCA', 'GTACATTG', 'TAAGATGT', 'AGGGGGGG', 'GAACTTTG', 'AGCTCTTG', 'ATGCTTGT', 'GTGTATTG', 'ATGGTATA', 'TACCCCCA', 'ATCAGAAA', 'ATAGTGAA', 'CTGCATTT', 'CCCGCAGT', 'TAGCAGTA', 'CACATAGG', 'ACCTAAAT', 'CAGCCAAA', 'AACTGTGA', 'TTGGCCAG', 'CCTTGTAA', 'GAGACAGT', 'CGGGGGGG', 'GGGGGCAC', 'CCCCACTG', 'CATCTGTA', 'GTCTACAT', 'TTTGGCTT', 'ACCAATAG', 'GATTGTTA', 'GTACAGAC', 'TATAACAT', 'AGAGGGAG', 'TAAATCGA', 'CGTTTTTT', 'TCCTTGCT', 'TTTTTCTT', 'AGAACTCT', 'AATTTATA', 'AGAATATA', 'TAAATCAA', 'TTCTTCCC', 'AAAATGGT', 'CTTAGAAG', 'CCCAAACT', 'TCAGAAAA', 'ATATTCTC', 'ACAATCAG', 'CTATAATA', 'ATCTATAC', 'AAAATAAA', 'ATACTCAA', 'AATAAAGG', 'GAGAAAGC', 'GTAAAGAT', 'ATTAGGTG', 'ACAATTGT', 'GGAAACAT', 'GGTGAAAT', 'AATGGTAA', 'TAAAATAG', 'GACGTCAT', 'AATGCTTG', 'AATTACCG', 'AGTATATT', 'TCATTTCC']\n",
            "['GGTTTTCT', 'TTGTGTAT', 'ATTTTGCT', 'CGTTCTAA', 'TTTCTGTT', 'ATAAAAAA', 'TAGAAAAT', 'AAAACAAT', 'GGCCCCCC', 'ATAAACTG', 'AGGTGATG', 'CTGTGTGG', 'GTCGGCGA', 'CGGTCGCC', 'AGAAGAAT', 'GATTTGGA', 'GGAACATT', 'GTGTGTGT', 'TAAGTATT', 'GAGACAAA', 'CTCGTACC', 'GAGAACAA', 'GTATTTGC', 'ATGTTTGA', 'TCCTTTGT', 'TTTTGCGT', 'TTTTAACT', 'TGGATTGT', 'ATAGAGGT', 'CCTTCATT', 'ATATGGAC', 'GTCAAGAA', 'CTTCTATA', 'AGTCGCAC', 'GGCGGAGC', 'AGATACAT', 'TATGTTTC', 'CTTCTCAG', 'GACAAGGA', 'TTTCCTCG', 'CGAAGAGG', 'GGTGTCAA', 'GGGAAACA', 'CTGAAAGC', 'TTGGAACC', 'GTCCATGA', 'AAAAACAT', 'ACAGAACA', 'CTACAAAA', 'AACGACTT', 'TGGCCTCC', 'CCTCGTGG', 'TGATGGTA', 'ACAGAAAC', 'CCTCTCTC', 'TAAAACTT', 'CTATGAAT', 'CTCTCCAT', 'TACGTTAA', 'CTTCAAAA', 'AAGAATGA', 'TTTCAGCG', 'CAAATGGT', 'CACTTCGC', 'AATGAGGA', 'AAAAAATG', 'ACGCTTAG', 'TCACCGTT', 'ACCAATCA', 'GGAAAGTT', 'AAGTAATT', 'GGACGATA', 'AACTACGA', 'GTCTCAAA', 'GATTTCAC', 'CCATAAGC', 'AATTACTC', 'TTTAGAAA', 'CTTTTAGT', 'TCGAATGT', 'GAGGGGAA', 'AAGTAGCA', 'ATCACTGT', 'CTTCCCGC', 'ATTCTTCT', 'AGAACAAT', 'TTGGGAAA', 'CCGGGACC', 'TCGTATTA', 'GTGTCATT', 'TGTGTGAC', 'CTAGAGTA', 'CATTTCTC', 'GGTGAAAA', 'ACAAGATC', 'CCTAGATA', 'GGTGACTA', 'TTTGCTCT', 'GTTTTATA', 'CACACACA', 'TCTCAACC', 'TCTACAAA', 'CTGTTGAT', 'TGAGTATA', 'GCATATAC', 'GAGGACTG', 'TTGCAAGC', 'AACAGCGC', 'TTGAGATA', 'GTATCAAT', 'ACCTTTTT', 'CTGCCGTA', 'TAACAGTT', 'TGGAAGTG', 'CATAAAAA', 'AAAACTGG', 'GTTACTAA', 'TCTGTGTA', 'CAGTTTTT', 'CCCTTGTA', 'GCAGCATT', 'CAAATAGA', 'TCCGTGGA', 'GTGCTTCA', 'TTTATTTA', 'AACTGAGA', 'ATTTTATC', 'ACGCGAAC', 'AGCTCAAT', 'CACACTGT', 'ACTAGCCC', 'TTCTGTGC', 'AGTGGGGG', 'GGGGAGGG', 'TGAGGCAA', 'GGTCTTAT', 'CTTATCTA', 'CGAACTCT', 'GGTTGCAA', 'ATACTACA', 'CCTGGGCT', 'CATTGGGT', 'ACAAGTTC', 'ATAGTATC', 'ATAGAACA', 'TACGCGAA', 'GCAGACTT', 'CAAACGGT', 'AGCTCTCT', 'GGAGGGAA', 'TTCACCAT', 'CATCTTCT', 'GATTTTGT', 'TGTGCATT', 'TCATTGAT', 'ACACCTTA', 'GTATGATA', 'TATTCTCT', 'TATGATTC', 'TACTATTT', 'CTTTATTA', 'TATCTTAG', 'TTTAGCTA', 'TGCTATTA', 'ATTTATTT', 'AACTATGT', 'TGATGAAG', 'GAATGATA', 'GCTATTTT', 'TTTATTTT', 'CATTTGCA', 'CTTCTGTA', 'ACCTCGAA', 'ATCGTGTG', 'TGGCTACC', 'TATACCTC', 'ATCTTCAT', 'CACAATTG', 'TAGCTAGC', 'TCAAATGA', 'CATTTTCT', 'TTATTAGA', 'GCTCGGCT', 'TGGGCCAC', 'CCTCACTT', 'GCGACTCG', 'TACACGAG', 'ATCGGGCG', 'TTTTCTAG', 'CTTTTCCC', 'CAATTGGG', 'TCTTTCCC', 'TGCTACTG', 'TCAGTTCT', 'ACGAGTTC', 'TAGCCACT', 'TATATTGG', 'AAGAAGGC', 'ACTCACGT', 'ACGATACG', 'TTACAAGG', 'TGGTGTTT', 'CCAGGCAT', 'GGAAGTTG', 'AATGAAAG', 'AGAGAATC', 'CACGTCTT', 'TCGGGATG', 'ACCACTGT', 'GTACATAG', 'TGTTCGCT', 'GAGATCTT', 'GAAGATGT', 'CTCACCGA', 'GCTTCGCT', 'TCACCCCT', 'GAGATTGC', 'TTCAGCTT', 'CTAGGGCA', 'AATTGCCA', 'TATCGTGT', 'CTGTTCTG', 'ATATCCAT', 'CTCAGGTT', 'GCAGCGGG', 'GGTTTTTT', 'AAACAGGT', 'CATTAAAA', 'TTCTTGCC', 'GGATAGTA', 'TCACTGTG', 'AAAAATTA', 'GTGAAAGG', 'TTTGAAGA', 'ATACTGTA', 'AAATAGTA', 'ACCTATTT', 'TCGAAGCG', 'TTTCTCCT', 'TTTAATCT', 'TGCACCTG', 'AACGGTGA', 'GTTTTGAT', 'CGGGGGGA', 'TTTCTCAG', 'CCGTGCAT', 'CAACATCA', 'GAGATTTG', 'ACAGTCAA', 'GGTTTTAG', 'AGGGATCT', 'TAACTTTG', 'TAAGTACA', 'AACAATAC', 'TCCGACAC', 'ACTTGCTA', 'CAATGCGG', 'GGAAGCCA', 'AACAGTGA', 'CATTTTCC', 'AACGTGCG', 'GTGGAGGG', 'AATAATAC', 'GTACCACT', 'GTGTTTGG', 'AGCGACTG', 'ACCCAATT', 'TCCATTTT', 'CTCTGTAC', 'GTTTTTAT', 'ATTTACAA', 'AATGAATG', 'TGTACTTT', 'GGCTTGTG', 'GATCTGGG', 'CAGAAATT', 'CATCCACC', 'GTAAGAGT', 'ATGCCCGT', 'ACCGCTCG', 'ATATTCAT', 'GGATGTGC', 'CCAATATC', 'ACCAGGGC', 'TGGGAGGG', 'ACACTTCA', 'TCTTCTGC', 'CAATAATC', 'TATGCTTG', 'ACTACCAA', 'AAGGAATG', 'AGAAATAC', 'TTTAAAAA', 'TGCCTGTA', 'TTGACAAT', 'CGCAGTTG', 'AGATACAG', 'ATGTGAAT', 'ACCGCATT', 'AGTGACGT', 'TCCACAAT', 'CCAGAGGT', 'ATCACTCG', 'GATACACA', 'TTACCTGG', 'GGGGGGGC', 'TTGTTGTA', 'TCCACTCG', 'CAAACTGG', 'CTTTTGGC', 'TTTCTTGG', 'ATTCTGTT', 'AAAAAAAG', 'CTAATGGT', 'CATTTAGT', 'GCATTTAA', 'ATCGTTTT', 'TATCCTTG', 'GGGTGCCC', 'TAAGATAC', 'GCAGAAAG', 'TTATGCGC', 'AGAAGCCA', 'CCAAGTAG', 'ACAGTTAC', 'GAGCAAAG', 'GTCCCCAC', 'CTAACGGG', 'CCGTTTTC', 'ACTGTGCA', 'AGTATACC', 'AGTTAATA', 'ATGAATAA', 'TGTTTAAA', 'AGATAATA', 'TAAGATAG', 'TTAAGATA', 'AAAAGAGA', 'AAAATAAT', 'AATATGTT', 'TCACATAA', 'TTACTAAA', 'GAATAACA', 'TAAAGAAG', 'GCTTGTTT', 'ATTACCGC', 'TGAAGGAA', 'TTCATTTC']\n"
          ]
        }
      ],
      "source": [
        "k=8\n",
        "\n",
        "def readFasta(genome, n):\n",
        "    sequence = []\n",
        "    file = open(genome, \"r\")\n",
        "    sequence = []\n",
        "    for s in file:\n",
        "        if s[0] != \">\":\n",
        "            sequence.append(s.strip().upper())\n",
        "    sequenceStr = \"\".join(sequence)\n",
        "    #sequence = [sequenceStr]\n",
        "    sequence = [sequenceStr[i:i+n] for i in range(0, len(sequenceStr), n)]\n",
        "    sequenceRet = [x for x in sequence if x]\n",
        "    return sequenceRet\n",
        "\n",
        "genome = \"Sequence_by_Peaks_9.fasta\"\n",
        "\n",
        "\n",
        "sequencesChip = readFasta(genome, n)\n",
        "t = len(sequencesChip)\n",
        "print (sequencesChip[8], t, k)\n",
        "revSequences = [reverseComplement(m) for m in sequencesChip]\n",
        "\n",
        "sequencesChip = sequencesChip + revSequences\n",
        "s, consensus = GreedyProfileMotifSearchIte(sequencesChip, k, 20)\n",
        "printTopFMotifsScore(consensus, 10)\n"
      ]
    },
    {
      "cell_type": "code",
      "execution_count": null,
      "metadata": {},
      "outputs": [],
      "source": []
    }
  ],
  "metadata": {
    "celltoolbar": "Raw Cell Format",
    "colab": {
      "provenance": []
    },
    "kernelspec": {
      "display_name": "Python 3",
      "language": "python",
      "name": "python3"
    },
    "language_info": {
      "codemirror_mode": {
        "name": "ipython",
        "version": 3
      },
      "file_extension": ".py",
      "mimetype": "text/x-python",
      "name": "python",
      "nbconvert_exporter": "python",
      "pygments_lexer": "ipython3",
      "version": "3.9.13"
    }
  },
  "nbformat": 4,
  "nbformat_minor": 0
}
