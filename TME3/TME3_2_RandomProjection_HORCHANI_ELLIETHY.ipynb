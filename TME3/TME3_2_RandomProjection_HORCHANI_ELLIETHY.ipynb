{
  "cells": [
    {
      "cell_type": "markdown",
      "metadata": {},
      "source": [
        "<font color='lightblue'>Nom Etudiant 1: ELLIETHY Ossama 28712429\n",
        "<br>\n",
        "Nom Etudiant 2: HORCHANI Samy 28706765 </font>"
      ]
    },
    {
      "cell_type": "markdown",
      "metadata": {
        "id": "981-NdKA_huf"
      },
      "source": [
        "# TME 3.2: Projet Detection de motifs\n",
        "\n",
        "\n",
        "## Recheche de pattern (motifs) en utilisant les algoritmes randomisés\n",
        "\n",
        "Les algorithmes randomisés prendre des décisions aléatoire plutôt que déterministes.\n",
        "l'algorithme s'exécute différemment à chaque fois. Ils sont couramment utilisés dans situations où aucun algorithme exact et rapide est connu. Nous allons d'abord implémenter l'algorithm random Projections.\n"
      ]
    },
    {
      "cell_type": "markdown",
      "metadata": {
        "id": "5z3a_1W0_huk"
      },
      "source": [
        "1\\.  Nous allons réutiliser les fonctions du precedent pour générer t séquences artificielles de taille n, et implanter dans chaque séquence un motif de taille k à des positions aléatoires avec v substitutions choisies aléatoirement. Nous allons faire varier le motifs dans 50% de cas."
      ]
    },
    {
      "cell_type": "code",
      "execution_count": 1,
      "metadata": {
        "id": "6UbcF5N2_hul"
      },
      "outputs": [],
      "source": [
        "import random\n",
        "import numpy as np\n",
        "\n",
        "nuc = ('A', 'C', 'G', 'T')\n",
        "\n",
        "k=8 #taille de motif\n",
        "v=1 #nb de positions variable dans le motif\n",
        "t=3 #nb de sequences\n",
        "n=10 #longuer des sequence\n",
        "f= 0.5"
      ]
    },
    {
      "cell_type": "code",
      "execution_count": 2,
      "metadata": {
        "id": "IplKLaGL_hun"
      },
      "outputs": [
        {
          "name": "stdout",
          "output_type": "stream",
          "text": [
            "CcC\n",
            "['aggtcaaaTG', 'cGagaacgTA', 'aattggTaGG']\n",
            "['AGGTCAAATG', 'CGAGAACGTA', 'AATTGGTAGG']\n"
          ]
        }
      ],
      "source": [
        "from math import floor\n",
        "\n",
        "def insertMotif(sequence, motif, position):\n",
        "    return sequence[:position] + motif + sequence[position:]\n",
        "\n",
        "def generateRandomSequence(n, upper=True):\n",
        "    \"\"\"\n",
        "    Génère une séquence nucléotidique aléatoire \n",
        "    entrée n : longueur de la sequence\n",
        "    entrée upper : bool, si True les nucléotides seront en majuscule, False minuscule\n",
        "    sortie sequence : une séquence nucléotidique aléatoire \n",
        "    \"\"\"\n",
        "    sequence = \"\"\n",
        "    \n",
        "    for i in range(n):\n",
        "        s = random.choice(nuc)\n",
        "\n",
        "        if(upper):\n",
        "            sequence = sequence + s.upper()\n",
        "        else:\n",
        "            sequence = sequence + s.lower()\n",
        "\n",
        "    return sequence\n",
        "\n",
        "\n",
        "def modifierMotif(motif, nbpos,  upper=True):\n",
        "    \"\"\"\n",
        "    Modifie nbpos positions d'un motif aléatoirement \n",
        "    entrée motif: motif à modifier\n",
        "    entrée nbpos: nombre de positions\n",
        "    entrée upper : bool, si True les nucléotides modifiés seront majuscule, False minuscule\n",
        "    sortie motifM: motif modifié\n",
        "    \"\"\"\n",
        "    motifM = list(motif)\n",
        "    pos_modifie = []\n",
        "\n",
        "    \n",
        "    for i in range(nbpos):\n",
        "        random_pos = random.randint(0,len(motifM)-1)\n",
        "\n",
        "        while(random_pos in pos_modifie):\n",
        "            random_pos = random.randint(0,len(motifM)-1)\n",
        "\n",
        "        pos_modifie.append(random_pos) #sauvegarde de la position pour pas la modifier 2 fois\n",
        "        random_nuc = random.choice(nuc)\n",
        "\n",
        "        while(random_nuc == motif[random_pos]): #pour pas implanter le meme motif \n",
        "            random_nuc = random.choice(nuc)\n",
        "\n",
        "        if(upper):\n",
        "            motifM[random_pos] = random_nuc.upper()\n",
        "        else:\n",
        "            motifM[random_pos] = random_nuc.lower()\n",
        "        \n",
        "    return \"\".join(motifM)\n",
        "\n",
        "#tester modifMotif\n",
        "print (modifierMotif(\"acg\", 2))\n",
        "\n",
        "\n",
        "def implantMotifVar(k, v, t, n, f):\n",
        "    \"\"\"\n",
        "    Génère des séquences aléatoires et les implante des motifs variables (un motif par séquence)\n",
        "    entrée k: taille du motif\n",
        "    entrée v: nombre de variations\n",
        "    entrée t : nombre de séquences \n",
        "    entrée n : longueur des séquences\n",
        "    entrée f : frequence de variation du motif.\n",
        "    sortie DNA : matrice de dimension txn avec les motifs implantés\n",
        "    REMARQUE : La taille totale des séquences plus motif doit être égal à t, pensez à générer de séquence aléatoire de taille t-k pour pouvoir implanter un motif de taille k\n",
        "    \"\"\"\n",
        "    motif = generateRandomSequence(k, False)\n",
        "    sequences = []\n",
        "    \n",
        "    for i in range(t):\n",
        "\n",
        "        seq = generateRandomSequence(n-k)\n",
        "        motif = generateRandomSequence(k, False) #pour mieux visualiser les motifs implantés on les inserts en minuscule\n",
        "        #print(\"seq = \" + seq)\n",
        "        #print(motif)\n",
        "        if random.uniform(0.0, 1.0) < f:\n",
        "            motif = modifierMotif(motif, v)\n",
        "        #print(motif)\n",
        "        \n",
        "        sequences.append(insertMotif(seq, motif, random.randint(0, len(seq)-1)))\n",
        "        \n",
        "    return sequences\n",
        "\n",
        "adn = implantMotifVar(k, v, t, n, f)\n",
        "print (adn)\n",
        "\n",
        "adn  = [s.upper() for s in adn]\n",
        "print (adn)"
      ]
    },
    {
      "cell_type": "markdown",
      "metadata": {
        "id": "UO-2rHmt_hu3"
      },
      "source": [
        "2\\. Nous allons implémenter l'algorithme ``randomProjection``. D'abord, faites la fonction `getRandomFixePositions` pour générer une projection de p à k, voir un exemple dans les slides de cours. Faire aussi la fonction `generateKey` qui extrait les caractères du motif puis génère une cle qui représente la projection."
      ]
    },
    {
      "cell_type": "code",
      "execution_count": 3,
      "metadata": {
        "id": "72rT-OkS_hu3"
      },
      "outputs": [
        {
          "name": "stdout",
          "output_type": "stream",
          "text": [
            "[1, 2, 3, 6]\n",
            "1236\n"
          ]
        }
      ],
      "source": [
        "def getRandomFixePositions(p, k):\n",
        "    \"\"\"\n",
        "    Genere une projection de p vers k\n",
        "    entrée p: nombre de positions choisi pour la projection \n",
        "    entrée k: nombre de positions du motif original\n",
        "    sortie projection: liste de positions choisi aléatoirement\n",
        "    \"\"\"\n",
        "    projection = []\n",
        "    #count = 0\n",
        "    \n",
        "    for e in range(p):\n",
        "        p= random.randint(0, k-1)\n",
        "        #Pour ne pas avoir à 2 reprises un meme indice\n",
        "        if p in projection: #On doit tirer un nouvel indice aléatoirevement\n",
        "            projConnue = True\n",
        "            while projConnue:\n",
        "                p= random.randint(0, k-1)\n",
        "                if p not in projection:\n",
        "                    projConnue = False\n",
        "        \n",
        "        #Ajout de la projection à la liste\n",
        "        projection.append(p)\n",
        "    \n",
        "    return projection\n",
        "\n",
        "lR = getRandomFixePositions(4, 7)\n",
        "lR.sort()\n",
        "print (lR)\n",
        "\n",
        "def generateKey(projection, motif):\n",
        "    \"\"\"\n",
        "    extrait les caractères du motif et génère la cle de la projection\n",
        "    entrée projection : liste de positions qui represent la projection\n",
        "    entrée motif : motif de taille k\n",
        "    sortie cle : cle de la projection\n",
        "    \"\"\"\n",
        "    cle = \"\"\n",
        "    \n",
        "    for i in (projection):\n",
        "        if i< len(motif):\n",
        "            cle= cle + motif[i]\n",
        "    \n",
        "    return cle\n",
        "\n",
        "key=generateKey(lR, \"01234567\")\n",
        "print(key)"
      ]
    },
    {
      "cell_type": "markdown",
      "metadata": {
        "id": "NK0BhSs1_hu3"
      },
      "source": [
        "3\\. Implémenter l'algorithme ``randomProjection``. Bonnus : Pour ameliorer la performance vous pouvez abandonner les motifs de taille k peu complexes."
      ]
    },
    {
      "cell_type": "code",
      "execution_count": 4,
      "metadata": {
        "id": "yaDXNosb_hu3"
      },
      "outputs": [
        {
          "name": "stdout",
          "output_type": "stream",
          "text": [
            "{'TACG': 1, 'AAGG': 1, 'ACGC': 1, 'CGCA': 1, 'CTAC': 1, 'TCCG': 1, 'CAGC': 1, 'ACCC': 1, 'ACGG': 1, 'CCGC': 1, 'GGCG': 1}\n",
            "{'TACG': ['TTAACGG'], 'AAGG': ['TAACGGC'], 'ACGC': ['AACGGCA'], 'CGCA': ['ACGGCAC'], 'CTAC': ['GCTCACG'], 'TCCG': ['CTCACGC'], 'CAGC': ['TCACGCC'], 'ACCC': ['CACGCCA'], 'ACGG': ['TACCGGC'], 'CCGC': ['ACCGGCC'], 'GGCG': ['CGGCCGT']}\n"
          ]
        }
      ],
      "source": [
        "def islowComplexe(motif, nb):\n",
        "    \"\"\"\n",
        "    Renvoie un boolean pr dire si un motif est peu complex \n",
        "    entrée motifs: motif\n",
        "    sortie motifsClean: boolean\n",
        "    \"\"\"\n",
        "    \n",
        "    SetDesCaractèresComposantsLeMotif = set(motif) #Suppression des doublons du motifs afin d'obtenir un set avec que les différents caractères qui le compose\n",
        "    lenSet = len(SetDesCaractèresComposantsLeMotif)\n",
        "    compteur=0\n",
        "    \n",
        "    if lenSet > 2:#si le motif k admet moins de 3 caractères différents il est ignorer car focément 2 meme lettres répétées ou la meme lettre est répétée plusieur fois à la suite\n",
        "        #Test pour savoir si un mm caractère du motif n'est pas présent plus de nb fois à la suite\n",
        "        for car in SetDesCaractèresComposantsLeMotif :\n",
        "            mot=''\n",
        "            for i in range (nb):\n",
        "                mot=mot+car\n",
        "\n",
        "            for y in range (len(motif)-nb+1):\n",
        "                tmp=motif[y:y+nb]\n",
        "                if mot==tmp:\n",
        "                    return True\n",
        "            \n",
        "            compteur=compteur+1\n",
        "            if compteur == lenSet:\n",
        "                return False         \n",
        "            \n",
        "    return True\n",
        "\n",
        "#motif = 'AATAATC'\n",
        "#res= islowComplexe(motif, 4)\n",
        "#print(res)\n",
        "\n",
        "def randomProjection(k, p, sequences):\n",
        "    \"\"\"\n",
        "    Implémente l'algorithme randomProjection\n",
        "    entrée k : taille du motif\n",
        "    entrée p : nombre de positions de la projection \n",
        "    entrée sequences : matrice de dimension txn contenant les séquences \n",
        "    sortie motifs : dictionaire, cle = projection, valeur= frequence\n",
        "    sortie motifsSeq:  dictionaire, cle = projection, valeur= original motif\n",
        "    \"\"\"\n",
        "    motifs  = {}; motifsSeq  = {}\n",
        "    \n",
        "    p=getRandomFixePositions(p, k)\n",
        "    p.sort()\n",
        "    #print(p)\n",
        "    \n",
        "    for s in sequences:\n",
        "        if len(s)>=k:\n",
        "            for i in range(len(s)-k+1):\n",
        "                motif = s[i:i+k]\n",
        "                #Dés que je tire un motif on met un boolean à vrai ou faux en fct de si le motfi est peu comple ou pas \n",
        "                isLow=islowComplexe(motif, 5)\n",
        "                \n",
        "                #Ensuite si il est peu complex on l'insere pas dans les bucket dans le dico\n",
        "                if not(isLow):\n",
        "                    \n",
        "                    key=generateKey(p, motif)\n",
        "                    if key in motifs.keys() and key in motifsSeq.keys():\n",
        "                        #Si la clé existe déja\n",
        "                            motifs[key]+=1\n",
        "                            motifsSeq[key]=motifsSeq[key]+[motif]\n",
        "                        \n",
        "                    else:\n",
        "                        #Si la clé n'existe pas\n",
        "                        motifs[key]=1\n",
        "                        motifsSeq[key]=[motif]\n",
        "    \n",
        "    \n",
        "    return motifs, motifsSeq\n",
        "\n",
        "#motifsSort = sorted(motifs, reverse=True, key=motifs.get)\n",
        "\n",
        "adnTest = ['TTAACGGCAC', 'GCTCACGCCA', 'TACCGGCCGT']\n",
        "motifsProj, motifsSeq = randomProjection(7, 4, adnTest)\n",
        "print (motifsProj)\n",
        "print (motifsSeq)\n",
        "\n",
        "#motifsProj => {'TACG': 1, 'TCGC': 3, 'AGGA': 1, 'AGCC': 1, 'GCAG': 1, 'CACC': 1, 'CGCA': 1, 'AGGC': 1, 'CGCG': 1, 'CCCT': 1}\n",
        "#motifsSeq => {'TACG': ['TTAACGG'], 'TCGC': ['TAACGGC', 'TCACGCC', 'TACCGGC'], 'AGGA': ['AACGGCA'], 'AGCC': ['ACGGCAC'], 'GCAG': ['GCTCACG'], 'CACC': ['CTCACGC'], 'CGCA': ['CACGCCA'], 'AGGC': ['ACCGGCC'], 'CGCG': ['CCGGCCG'], 'CCCT': ['CGGCCGT']}"
      ]
    },
    {
      "cell_type": "markdown",
      "metadata": {
        "id": "RWMsME8t_hu3"
      },
      "source": [
        "4\\. Avez vous trouvez le motif implanté? Rexécuter l’algorithme plusieurs fois pour augmenter les chances de le trouver. "
      ]
    },
    {
      "attachments": {},
      "cell_type": "markdown",
      "metadata": {
        "id": "gj5RGPey_hu4"
      },
      "source": [
        "reponse: \n",
        "\n",
        "Le motif implémenté a pour clé fixe TCGC associée à la projection car c'est la bucket la plus grande. Trois motifs ont été identifiés dans l'exemple, mais avec des variations pour des positions non projetées.\n",
        "\n",
        "Étant donné que les projections sont aléatoires, la clé TCGC peut être obtenue, mais pas avec les bonnes projections aléatoires pour retrouver le motif avec des variations. Par conséquent, l'algorithme randomProjection doit être exécuté un grand nombre de fois pour obtenir un résultat satisfaisant.\n",
        "\n",
        "D'autres projections permettent tout de même de tirer des conclusions. Par exemple, la bucket la plus grande avec la projection [0, 2, 3, 6] permet d'observer une clé unique ayant la plus grande fréquence, c'est-à-dire 'TACC': 2, ainsi que 'TACC': ['TAACGGC', 'TCACGCC']. Cela donne une idée de l'aspect possible du motif, d'autant plus que ce phénomène se répète pour de nombreuses projections où une unique liste (de taille 2) est plus longue que toutes les autres qui ont une taille de 1."
      ]
    },
    {
      "cell_type": "markdown",
      "metadata": {
        "id": "1DHZjpi4_hu6"
      },
      "source": [
        "5\\. Implémenter la version itérative de l’algorithme ``randomProjection``. "
      ]
    },
    {
      "cell_type": "code",
      "execution_count": 5,
      "metadata": {
        "id": "ku5JseaVqagY"
      },
      "outputs": [],
      "source": [
        "\n",
        "#Construire matrice de fréquence\n",
        "def profile(motifs, k, nuc):\n",
        "    \"\"\"\n",
        "    Construire une matrice de fréquence de dimension k x |nuc|\n",
        "    entrée motifs: liste de motifs\n",
        "    entrée k: taille du motif\n",
        "    entrée nuc: alphabet\n",
        "    sortie MF: matrice de fréquence\n",
        "    \"\"\"\n",
        "    nDict = {nuc[i]: i for i in range(len(nuc))}\n",
        "    q = len(nuc)\n",
        "    PWM = np.ones((q, k))\n",
        "    for col in range(k):\n",
        "        for line in range(len(motifs)):\n",
        "            # try:\n",
        "            nucleotide = motifs[line][col]\n",
        "            # except IndexError:\n",
        "                # print(line, col, motifs)\n",
        "            PWM[nDict[nucleotide]][col] += 1\n",
        "    return PWM\n",
        "\n",
        "def getScore(MF, k):\n",
        "    \"\"\"\n",
        "    Renvoie le score de MF, la somme des max de chaque colonne\n",
        "    entrée MF: matrice de fréquence\n",
        "    entrée k: taille du motif\n",
        "    sortie sc: score\n",
        "    \"\"\"\n",
        "    mf = np.mat(MF)\n",
        "    maxArray = np.max(mf, axis=0)\n",
        "    return np.sum(maxArray)\n"
      ]
    },
    {
      "cell_type": "code",
      "execution_count": 6,
      "metadata": {
        "id": "WkfqvtsT_hu6"
      },
      "outputs": [
        {
          "name": "stdout",
          "output_type": "stream",
          "text": [
            "25.0 ['TAACGGC', 'TCACGCC', 'TACCGGC']\n"
          ]
        }
      ],
      "source": [
        "def randomProjIt(sequences, k, v, nuc, It):\n",
        "    \"\"\"\n",
        "    Implémente l'algorithme randomProjection version iteractive\n",
        "    entrée sequences : matrice de dimension txn contenant les séquences \n",
        "    entrée k : nombre de positions du motif\n",
        "    entrée v : nombre de positions de la projection \n",
        "    entrée nuc : alphabet\n",
        "    entrée It: nombre d'iterations\n",
        "    sortie score : meilleur score\n",
        "    sortie motifs :  liste de motifs associés au meilleur score\n",
        "    \"\"\"\n",
        "    motifss = []; scores = 0\n",
        "    \n",
        "    \n",
        "    for i in range(It):\n",
        "        (motifs, motifsSeq)=randomProjection(k, v, sequences)\n",
        "        keys= motifsSeq.keys()\n",
        "        \n",
        "        for ke in keys:\n",
        "            MF=profile(motifsSeq[ke], k, nuc)\n",
        "            scoretmp=getScore(MF, k)\n",
        "            \n",
        "            if scoretmp> scores:\n",
        "                scores= scoretmp\n",
        "                motifss= motifsSeq[ke]  \n",
        "                \n",
        "    return scores, motifss\n",
        "\n",
        "score, seqsMotif = randomProjIt(adnTest, 7, 4, nuc, 100)\n",
        "\n",
        "print (score, seqsMotif)\n"
      ]
    },
    {
      "cell_type": "markdown",
      "metadata": {
        "id": "JeBaa7f1_hu6"
      },
      "source": [
        "6\\. Tester l'algorithme  ``randomProjection`` sur vos données de chipSeq. N'oubliez pas de chercher les motifs dans le brin complémentaire et faire un merge de résultats. Puis générér le LOGO du motif trouvé."
      ]
    },
    {
      "cell_type": "code",
      "execution_count": 7,
      "metadata": {
        "id": "TqwsXVV7_hu4"
      },
      "outputs": [
        {
          "name": "stdout",
          "output_type": "stream",
          "text": [
            "TACG\n",
            "0 TACG - 1\n",
            "AAGG\n",
            "1 AAGG - 1\n",
            "ACGC\n",
            "2 ACGC - 1\n",
            "CGCA\n",
            "3 CGCA - 1\n",
            "CTAC\n",
            "4 CTAC - 1\n",
            "TCCG\n",
            "5 TCCG - 1\n",
            "CAGC\n",
            "6 CAGC - 1\n",
            "ACCC\n",
            "7 ACCC - 1\n",
            "ACGG\n",
            "8 ACGG - 1\n",
            "CCGC\n",
            "9 CCGC - 1\n"
          ]
        }
      ],
      "source": [
        "def reverseComplement(seq):\n",
        "    seq_dict = {'A':'T','T':'A','G':'C','C':'G'}\n",
        "    return \"\".join([seq_dict[base] for base in reversed(seq)])\n",
        "\n",
        "def complement(seq):\n",
        "    seq_dict = {'A':'T','T':'A','G':'C','C':'G'}\n",
        "    return \"\".join([seq_dict[base] for base in seq])\n",
        "\n",
        "def printTopFMotifsFreq(motifs, m, rev=False):\n",
        "    motifsRet = {}\n",
        "    motifsSort = sorted(motifs, reverse=True, key=motifs.get)\n",
        "    i = 0\n",
        "    while (i < m):\n",
        "        motifPrint = motifsSort[i]\n",
        "        print (motifsSort[i])\n",
        "        if rev:\n",
        "            motifPrint = reverseComplement(motifsSort[i])\n",
        "        print (i, motifPrint, \"-\", motifs[motifsSort[i]])\n",
        "        i = i + 1\n",
        "        \n",
        "printTopFMotifsFreq(motifsProj, 10)\n",
        "#print (motifsSeq['TAGG'])"
      ]
    },
    {
      "cell_type": "code",
      "execution_count": 9,
      "metadata": {
        "id": "_FVlr-KYtsQB"
      },
      "outputs": [
        {
          "name": "stdout",
          "output_type": "stream",
          "text": [
            "CATTTTGATCCATTGTGTGTTAAAGCACAGTGGGACCCAGGAATAGTAGAGAGAAGGAAAGTGGGGGAAGGGTAGCAGTG 399 80 7\n",
            "2356.0 ['TTTCAAA', 'CTTCCAA', 'GTTAAAA', 'CTTCAAA', 'ATTTCAA', 'GTTGTAA', 'GTTAAAA', 'ATTTCAA', 'ATTCAAA', 'ATTAGAA', 'TTTCTAA', 'TTTGCAA', 'TTTGCAA', 'GTTGTAA', 'CTTGAAA', 'ATTACAA', 'CTTTCAA', 'TTTCAAA', 'TTTAGAA', 'TTTACAA', 'CTTAAAA', 'TTTTGAA', 'GTTTGAA', 'TTTGAAA', 'GTTTCAA', 'ATTAGAA', 'GTTCTAA', 'GTTCCAA', 'CTTACAA', 'ATTACAA', 'CTTGCAA', 'GTTTTAA', 'CTTGAAA', 'ATTGCAA', 'CTTGCAA', 'ATTGCAA', 'CTTCTAA', 'ATTCGAA', 'GTTGTAA', 'TTTACAA', 'CTTAAAA', 'CTTAAAA', 'TTTCCAA', 'TTTAGAA', 'CTTAGAA', 'GTTTAAA', 'GTTAAAA', 'GTTGCAA', 'CTTATAA', 'GTTACAA', 'CTTTGAA', 'ATTCTAA', 'TTTGCAA', 'TTTGTAA', 'GTTCAAA', 'ATTTCAA', 'TTTGTAA', 'ATTCAAA', 'ATTAGAA', 'GTTTTAA', 'GTTAGAA', 'ATTGAAA', 'ATTTGAA', 'ATTAGAA', 'CTTAGAA', 'TTTCCAA', 'GTTATAA', 'ATTTGAA', 'CTTGAAA', 'CTTCAAA', 'TTTCCAA', 'ATTGTAA', 'TTTTCAA', 'TTTCAAA', 'CTTCCAA', 'ATTTCAA', 'CTTACAA', 'ATTGAAA', 'TTTCGAA', 'CTTGGAA', 'ATTCGAA', 'ATTCAAA', 'GTTAGAA', 'CTTTCAA', 'CTTATAA', 'ATTACAA', 'CTTGTAA', 'TTTCGAA', 'GTTAAAA', 'GTTGTAA', 'CTTAGAA', 'GTTAGAA', 'GTTCCAA', 'CTTCGAA', 'CTTCTAA', 'CTTCAAA', 'CTTGCAA', 'CTTGGAA', 'CTTCCAA', 'ATTGAAA', 'ATTTCAA', 'TTTGCAA', 'TTTGGAA', 'ATTACAA', 'ATTTCAA', 'GTTACAA', 'CTTAGAA', 'CTTGAAA', 'CTTTCAA', 'TTTTGAA', 'ATTTGAA', 'ATTGTAA', 'ATTGAAA', 'ATTCAAA', 'GTTTGAA', 'TTTGAAA', 'CTTCAAA', 'ATTGTAA', 'CTTAGAA', 'CTTAGAA', 'GTTTAAA', 'TTTGCAA', 'ATTGGAA', 'GTTTTAA', 'GTTCTAA', 'CTTAGAA', 'TTTTCAA', 'TTTCAAA', 'TTTGGAA', 'TTTCCAA', 'CTTCCAA', 'TTTCTAA', 'CTTTTAA', 'GTTTCAA', 'TTTCAAA', 'CTTTCAA', 'TTTCAAA', 'CTTAAAA', 'ATTACAA', 'TTTCCAA', 'GTTCTAA', 'TTTAGAA', 'GTTAAAA', 'TTTCCAA', 'CTTTAAA', 'ATTAGAA', 'ATTTGAA', 'TTTGAAA', 'TTTAGAA', 'GTTTAAA', 'ATTGAAA', 'ATTGAAA', 'CTTCAAA', 'GTTGGAA', 'ATTGAAA', 'ATTGAAA', 'CTTGCAA', 'ATTGAAA', 'ATTTGAA', 'CTTCCAA', 'ATTTGAA', 'CTTCAAA', 'GTTACAA', 'GTTGCAA', 'CTTATAA', 'CTTGAAA', 'GTTGCAA', 'ATTCTAA', 'TTTTCAA', 'ATTTGAA', 'TTTGAAA', 'ATTTCAA', 'TTTCAAA', 'ATTGTAA', 'ATTCAAA', 'CTTTGAA', 'GTTGCAA', 'TTTACAA', 'CTTTCAA', 'TTTTGAA', 'TTTGAAA', 'ATTACAA', 'TTTCCAA', 'TTTACAA', 'CTTCCAA', 'CTTCTAA', 'GTTAAAA', 'TTTCCAA', 'ATTCTAA', 'CTTCTAA', 'TTTCGAA', 'TTTCGAA', 'GTTGTAA', 'ATTCTAA', 'TTTTGAA', 'CTTTGAA', 'GTTTAAA', 'GTTGTAA', 'TTTGCAA', 'TTTAGAA', 'GTTCCAA', 'CTTGAAA', 'GTTAGAA', 'ATTCCAA', 'GTTTCAA', 'TTTCAAA', 'GTTAAAA', 'CTTGTAA', 'ATTGAAA', 'CTTTTAA', 'ATTTCAA', 'TTTCAAA', 'CTTCAAA', 'GTTGAAA', 'TTTTCAA', 'ATTTGAA', 'TTTGAAA', 'CTTTCAA', 'TTTCAAA', 'GTTTTAA', 'CTTCAAA', 'GTTGAAA', 'ATTTGAA', 'TTTGAAA', 'TTTGCAA', 'CTTGTAA', 'GTTTCAA', 'TTTCAAA', 'CTTCTAA', 'TTTTGAA', 'TTTGAAA', 'CTTCCAA', 'ATTTGAA', 'CTTCCAA', 'ATTGTAA', 'TTTAGAA', 'ATTTCAA', 'CTTACAA', 'TTTTCAA', 'CTTAGAA', 'CTTTTAA', 'CTTTCAA', 'TTTCAAA', 'CTTGGAA', 'GTTTGAA', 'TTTGAAA', 'GTTTTAA', 'CTTTGAA', 'ATTACAA', 'CTTGAAA', 'CTTCTAA', 'TTTTGAA', 'CTTAGAA', 'ATTGCAA', 'CTTGCAA', 'GTTACAA', 'ATTTCAA', 'TTTGTAA', 'GTTATAA', 'TTTTGAA', 'TTTGAAA', 'CTTGTAA', 'ATTCTAA', 'CTTGAAA', 'TTTTCAA', 'TTTCAAA', 'CTTCAAA', 'GTTTTAA', 'GTTCTAA', 'TTTGGAA', 'TTTAGAA', 'TTTGTAA', 'ATTGTAA', 'TTTGCAA', 'TTTTCAA', 'GTTAAAA', 'CTTGCAA', 'TTTGCAA', 'CTTGCAA', 'CTTAGAA', 'CTTCGAA', 'TTTGTAA', 'TTTACAA', 'GTTTTAA', 'CTTGGAA', 'CTTCTAA', 'TTTCTAA', 'CTTTAAA', 'TTTGCAA', 'CTTCAAA', 'ATTGTAA', 'TTTAGAA', 'TTTGCAA', 'ATTACAA', 'ATTGAAA', 'ATTTGAA', 'GTTACAA', 'GTTAAAA', 'ATTTGAA', 'ATTCTAA', 'TTTCTAA', 'ATTCAAA', 'TTTTCAA', 'CTTCTAA', 'ATTCTAA', 'CTTGGAA', 'GTTCAAA', 'GTTTGAA', 'TTTTCAA', 'TTTGGAA', 'CTTACAA', 'TTTGGAA', 'TTTTGAA', 'TTTGAAA', 'ATTGAAA', 'TTTGTAA', 'CTTTCAA', 'CTTTTAA', 'ATTCGAA', 'GTTCCAA', 'ATTCGAA', 'ATTCTAA', 'CTTTGAA', 'GTTGAAA', 'CTTAAAA', 'TTTGTAA', 'GTTACAA', 'GTTCGAA', 'CTTACAA', 'CTTCTAA', 'CTTCTAA', 'CTTGGAA', 'CTTAGAA', 'CTTCGAA', 'CTTTGAA', 'ATTGCAA', 'TTTCCAA', 'ATTGGAA', 'TTTTCAA', 'CTTGCAA', 'GTTGAAA', 'ATTCCAA', 'TTTGTAA', 'CTTGAAA', 'TTTCTAA', 'GTTGTAA', 'GTTTCAA', 'GTTCAAA', 'ATTGAAA', 'CTTCAAA', 'ATTTCAA', 'TTTACAA', 'TTTTGAA', 'CTTTGAA', 'GTTTCAA', 'TTTCAAA', 'GTTACAA', 'CTTCTAA', 'CTTCTAA', 'CTTCCAA', 'ATTGCAA', 'TTTAGAA', 'TTTTGAA', 'TTTGAAA', 'TTTCTAA', 'GTTCCAA', 'TTTGGAA', 'CTTGGAA', 'CTTAAAA', 'TTTAGAA', 'TTTTGAA', 'TTTGAAA', 'GTTAAAA', 'GTTTGAA', 'TTTGAAA', 'GTTATAA', 'ATTGTAA', 'GTTGGAA', 'TTTAGAA', 'GTTCTAA', 'GTTTTAA', 'TTTGGAA', 'ATTTCAA', 'TTTCAAA', 'TTTCTAA', 'CTTTCAA', 'CTTTCAA', 'CTTTGAA', 'TTTTCAA', 'TTTTCAA', 'CTTCCAA', 'TTTGCAA', 'ATTCAAA', 'ATTCAAA', 'ATTGGAA', 'ATTTGAA', 'GTTGTAA', 'CTTGCAA', 'TTTTCAA', 'ATTGCAA', 'TTTAGAA', 'CTTTGAA', 'TTTGAAA', 'ATTTCAA', 'TTTCAAA', 'CTTGAAA', 'CTTACAA', 'ATTCAAA', 'GTTTGAA', 'CTTGCAA', 'CTTGTAA', 'CTTGAAA', 'CTTTCAA', 'TTTCAAA', 'ATTGTAA', 'TTTGGAA', 'CTTGTAA', 'GTTGGAA', 'TTTAGAA', 'CTTAAAA', 'GTTTTAA', 'TTTAGAA', 'ATTGGAA', 'GTTAGAA', 'TTTCGAA', 'CTTCGAA', 'GTTACAA', 'TTTAGAA', 'ATTCAAA', 'GTTCAAA', 'CTTACAA', 'GTTTAAA', 'TTTGCAA', 'TTTCTAA', 'TTTGGAA', 'GTTTCAA', 'ATTCTAA', 'GTTAAAA', 'ATTGGAA', 'CTTTGAA', 'TTTGAAA', 'ATTTCAA', 'ATTACAA', 'GTTAAAA', 'ATTTGAA', 'TTTGAAA', 'ATTTGAA', 'ATTTCAA', 'CTTGAAA', 'TTTTCAA', 'TTTCAAA', 'CTTAAAA', 'ATTTGAA', 'TTTGAAA', 'ATTTGAA', 'ATTTCAA', 'TTTTCAA', 'TTTCAAA', 'TTTCGAA', 'ATTGCAA', 'GTTACAA', 'GTTATAA', 'ATTTGAA', 'TTTGAAA', 'ATTAGAA', 'ATTACAA', 'GTTCAAA', 'GTTGGAA', 'TTTTCAA', 'TTTCAAA', 'CTTGGAA', 'ATTGAAA', 'GTTCTAA', 'TTTACAA', 'ATTGTAA', 'TTTCTAA', 'GTTGAAA', 'GTTAAAA', 'GTTTGAA', 'TTTGAAA']\n"
          ]
        }
      ],
      "source": [
        "k=7; p=4; n=80\n",
        "\n",
        "def readFasta(genome, n):\n",
        "    sequence = []\n",
        "    file = open(genome, \"r\")\n",
        "    sequence = []\n",
        "    for s in file:\n",
        "        if s[0] != \">\":\n",
        "            sequence.append(s.strip().upper())\n",
        "    sequenceStr = \"\".join(sequence)\n",
        "    #sequence = [sequenceStr]\n",
        "    sequence = [sequenceStr[i:i+n] for i in range(0, len(sequenceStr), n)]\n",
        "    sequenceRet = [x for x in sequence if x]\n",
        "    return sequenceRet\n",
        "\n",
        "genome = \"Sequence_by_Peaks_1.fasta\"\n",
        "\n",
        "sequencesChip   = readFasta(genome, n)\n",
        "t = len(sequencesChip)\n",
        "print (sequencesChip[8], t, n, k)\n",
        "revSequences = [reverseComplement(m) for m in sequencesChip]\n",
        "\n",
        "sequences = sequencesChip + revSequences\n",
        "\n",
        "score, seqsMotif = randomProjIt(sequences, k, p, nuc, 100)\n",
        "\n",
        "print(score, seqsMotif)\n"
      ]
    },
    {
      "cell_type": "code",
      "execution_count": null,
      "metadata": {},
      "outputs": [],
      "source": []
    }
  ],
  "metadata": {
    "celltoolbar": "Raw Cell Format",
    "colab": {
      "provenance": []
    },
    "kernelspec": {
      "display_name": "Python 3",
      "language": "python",
      "name": "python3"
    },
    "language_info": {
      "codemirror_mode": {
        "name": "ipython",
        "version": 3
      },
      "file_extension": ".py",
      "mimetype": "text/x-python",
      "name": "python",
      "nbconvert_exporter": "python",
      "pygments_lexer": "ipython3",
      "version": "3.9.13"
    },
    "vscode": {
      "interpreter": {
        "hash": "e7370f93d1d0cde622a1f8e1c04877d8463912d04d973331ad4851f04de6915a"
      }
    }
  },
  "nbformat": 4,
  "nbformat_minor": 0
}
