{
  "cells": [
    {
      "cell_type": "markdown",
      "source": [
        "Nom Etudiant 1:\n",
        "<br>\n",
        "Nom Etudiant 2:"
      ],
      "metadata": {
        "id": "e6SSCja7My_c"
      }
    },
    {
      "cell_type": "markdown",
      "metadata": {
        "id": "Rx466dVIpn3_"
      },
      "source": [
        "# TME 2 : Brute Force - Bonnus\n",
        "\n",
        "\n",
        "## Recheche de pattern (motifs) en permettant des variations\n",
        "\n",
        "Les motifs que nous cherchons dans les sequences d'ADN peuvent contenir quelques variations ou mutations. Nous allons developpé dans cet partie differents algoritmes pour la recherche de motifs variables. "
      ]
    },
    {
      "cell_type": "markdown",
      "metadata": {
        "id": "fdcJxBtVpn4F"
      },
      "source": [
        "1\\. Comme dans le TME precedent, nous alons d'abord générer des données atificielles pour pouvoir tester les algorithmes. Faire une fonction pour générer `t` séquences artificielles de taille `n`. Implantez dans chaque séquence un motif de taille `k` à des positions aléatoires avec `v` substitutions choisies aléatoirement."
      ]
    },
    {
      "cell_type": "code",
      "execution_count": null,
      "metadata": {
        "id": "LSz7T4a3pn4G"
      },
      "outputs": [],
      "source": [
        "import random\n",
        "\n",
        "nuc = ('A', 'C', 'G', 'T')\n",
        "\n",
        "k=4 #taille de motif\n",
        "v=1 #nb de positions variable dans le motif\n",
        "t=3 #nb de sequences\n",
        "n=10 #longuer des sequence\n",
        "\n",
        "def insertMotif(sequence, motif, position):\n",
        "    return sequence[:position] + motif + sequence[position:]\n",
        "\n",
        "def generateRandomSequence(n, upper=False):\n",
        "    \"\"\"\n",
        "    Génère une séquence nucléotidique aléatoire \n",
        "    entrée n : longueur de la sequence\n",
        "    entrée upper : bool, si True les nucléotides seront minuscule, False majuscule\n",
        "    sortie sequence : une séquence nucléotidique aléatoire \n",
        "    \"\"\"\n",
        "    sequence = \"\"\n",
        "   \n",
        "    return sequence\n",
        "\n",
        "def modifierMotif(motif, nbpos,  upper=False):\n",
        "    \"\"\"\n",
        "    Modifie nbpos positions d'un motif aléatoirement \n",
        "    entrée motif: motif à modifier\n",
        "    entrée nbpos: nombre de positions\n",
        "    entrée upper : bool, si True les nucléotides modifiés seront minuscule, False majuscule\n",
        "    sortie motifM: motif modifié\n",
        "    \"\"\"\n",
        "    motifM = list(motif)\n",
        "   \n",
        "    return \"\".join(motifM)\n",
        "\n",
        "#tester modifMotif\n",
        "#print (modifMotif(\"acg\", 2))\n",
        "\n",
        "\n",
        "def implantMotifVar(k, v, t, n):\n",
        "    \"\"\"\n",
        "    Génère des séquences aléatoires et les implante des motifs variables (un motif par séquence)\n",
        "    entrée k: taille du motif\n",
        "    entrée v: nombre de variations\n",
        "    entrée t : nombre de séquences \n",
        "    entrée n : longueur des séquences\n",
        "    sortie DNA : matrice de dimension txn avec les motifs implantés\n",
        "    REMARQUE : La taille totale des séquences plus motif doit être égal à t, pensez à générer de séquence aléatoire de taille t-k pour pouvoir implanter un motif de taille k\n",
        "    \"\"\"\n",
        "    motif = generateRandomSequence(k, True)\n",
        "    print(motif)\n",
        "    sequences = []\n",
        "   \n",
        "    return sequences\n",
        "\n",
        "adn = implantMotifVar(k, v, t, n)\n",
        "print (adn)\n"
      ]
    },
    {
      "cell_type": "markdown",
      "metadata": {
        "id": "s-z3kpompn4K"
      },
      "source": [
        "2\\. Préparation pour l'algorithme _\"Brute Force Motif Search\"_. Avant d'implementer  l'algorithme _\"Brute Force Motif Search\"_, faites une fonction pour calculer le score `score(s, seqs)`, où `s` est un ensemble de position initiales `s`$=(s_1,s_2,...,s_k)$  et `seqs` est une matrice de taille `t x n`  (`t` est le nombre de séquences et `n` la taille de ces séquences), pour tester votre fonction utiliser la matrice et les valeurs ci-dessous (voir aussi les slides du cours).\n"
      ]
    },
    {
      "cell_type": "code",
      "execution_count": null,
      "metadata": {
        "id": "-T6aOpNxpn4L"
      },
      "outputs": [],
      "source": [
        "import numpy as np\n",
        "\n",
        "k =8\n",
        "n = 68 # length of each DNA sequence\n",
        "t = 5 # number of  DNA sequence samples\n",
        "\n",
        "s=(25,20,2,55,59)\n",
        "\n",
        "adn = [\n",
        "'CCTGATAGACGCTATCTGGCTATCCAGGTACTTAGGTCCTCTGTGCGAATCTATGCGTTTCCAACCAT',\n",
        "'AGTACTGGTGTACATTTGATCCATACGTACACCGGCAACCTGAAACAAACGCTCAGAACCAGAAGTGC',\n",
        "'AAACGTTAGTGCACCCTCTTTCTTCGTGGCTCTGGCCAACGAGGGCTGATGTATAAGACGAAAATTTT',\n",
        "'AGCCTCCGATGTAAGTCATAGCTGTAACTATTACCTGCCACCCCTATTACATCTTACGTCCATATACA',\n",
        "'CTGTTATACAACGCGTCATGGCGGGGTATGCGTTTTGGTCGTCGTACGCTCGATCGTTACCGTACGGC'\n",
        "]\n",
        "\n",
        "adn= ['GCTGACTCGC', 'CGTGGTATCT', 'CGAGAGTGCG']\n",
        "k = 4\n",
        "n= 10\n",
        "t = 3\n",
        "\n",
        "s=(1, 1, 5)\n",
        "#extract sequences from seqs\n",
        "def extractSeqs(s, seqs, k):\n",
        "    \"\"\"\n",
        "    Extraire les motifs des séquences à l'aide de positions s\n",
        "    entrée s: vecteur contenant les positions de départs\n",
        "    entrée seqs: matrice de dimension txn avec les séquences\n",
        "    entrée k: taille du motif\n",
        "    sortie motifs: liste de motifs\n",
        "    \"\"\"\n",
        "    motifs = []    \n",
        "   \n",
        "    return motifs\n",
        "\n",
        "\n",
        "\n",
        "\n",
        "#construct Profiles\n",
        "def profile(motifs, k, nuc):\n",
        "    \"\"\"\n",
        "    Construire une PWM (position weight matrix)\n",
        "    entrée motifs: liste de motifs\n",
        "    entrée k: taille du motif\n",
        "    entrée nuc: alphabet\n",
        "    sortie PWM: position weight matrix\n",
        "    \"\"\"\n",
        "    q = len(nuc)\n",
        "    PWM = np.zeros((q, k))\n",
        "    \n",
        "    return PWM\n",
        "\n",
        "\n",
        "def score(prof, k):\n",
        "    \"\"\"\n",
        "    Calcul le score d'un PWM, la somme de max de chaque colonne\n",
        "    entrée PWM: position weight matrix\n",
        "    entrée k: taille du motif\n",
        "    sortie score: la somme de max de chaque colonne\n",
        "    \"\"\"\n",
        "   \n",
        "    sc = 0\n",
        "    \n",
        "    return (sc)\n",
        "\n",
        "motifs = extractSeqs(s, adn, k)\n",
        "print (motifs)\n",
        "PWM = profile(motifs, k, nuc)\n",
        "\n",
        "sc = score(PWM, k)\n",
        "print (sc)\n",
        "assert sc==9\n",
        "#teste, sc doit etre egalle à 9\n",
        "\n",
        "\n"
      ]
    },
    {
      "cell_type": "markdown",
      "metadata": {
        "id": "el72GsH1pn4N"
      },
      "source": [
        "3\\. Implementer l'algoritme _\"Brute Force Motif Search\"_ pour chercher des motifs de taille variable. Attention, la complexité de cet algorithme est trop importante, car il enumère toutes les positions intiales possibles, nous allons donc le tester seulement sur de petits jeux de données."
      ]
    },
    {
      "cell_type": "code",
      "execution_count": null,
      "metadata": {
        "id": "QSkaofoopn4N"
      },
      "outputs": [],
      "source": [
        "from itertools import product\n",
        "\n",
        "\n",
        "#enumeration all initial positions\n",
        "def initialPosition(k, n, t):\n",
        "\t\"\"\"\n",
        "  Génère des vecteurs avec tous les positions de départ possible\n",
        "  entrée k: taille du motif\n",
        "  entrée n : longueur des séquences \n",
        "  entrée t : nombre de séquences \n",
        "\t\"\"\"\n",
        "\tallIniPos = [];\n",
        "\n",
        "\treturn allIniPos\n",
        "\n",
        "def bruteForceMotifSearch(sequences, t, n, k):\n",
        "\t\"\"\"\n",
        "\tImplémente l'algorithme bruteForceMotifSearch \n",
        "\tentrée séquences: matrice de dimension txn avec les séquences \n",
        "\tentrée t : nombre de séquences \n",
        "\tentrée n : longueur des séquences \n",
        "\tentrée k: taille du motif \n",
        "\tsortie bestMotif: vecteur de positions de départ contenant le motif de meilleur score \n",
        "\tsortie bestscore: score associé au meilleur motif\n",
        "\t\"\"\"\n",
        "\tbestscore = 0; bestMotif=''\n",
        "\t\n",
        "\treturn bestMotif, bestscore\n",
        "\n",
        "#test\n",
        "k=4; v=1; t=3; n=10\n",
        "sequences = implantMotifVar(k, v, t, n)\n",
        "print (sequences)\n",
        "bestMotif, bestscore = bruteForceMotifSearch(sequences, t, n, k)\n",
        "print (bestMotif, bestscore)\n",
        "\n",
        "print (extractSeqs(bestMotif, sequences, k))"
      ]
    },
    {
      "cell_type": "markdown",
      "metadata": {
        "id": "b3vOwna_pn4O"
      },
      "source": [
        "4\\. L'algorithme est-il performant sur ce jeu de données ? Sinon, pourquoi ?"
      ]
    },
    {
      "cell_type": "markdown",
      "metadata": {
        "id": "-9yTcFHXpn4P"
      },
      "source": [
        "# <font color='blue'>\n",
        "Votre reponse\n",
        "</font>"
      ]
    },
    {
      "cell_type": "markdown",
      "metadata": {
        "id": "WHvbzhvupn4P"
      },
      "source": [
        "5\\. Tester l'agorithme avec les paramètres suivants `k=7`, `v=1`, `t=5`, et `n=20`. Avez vous de meilleurs performances ?"
      ]
    },
    {
      "cell_type": "code",
      "execution_count": null,
      "metadata": {
        "id": "2NOxfDYppn4P"
      },
      "outputs": [],
      "source": [
        "k=7; v=1; t=5; n=20\n",
        "\n"
      ]
    }
  ],
  "metadata": {
    "colab": {
      "provenance": []
    },
    "kernelspec": {
      "display_name": "Python 3",
      "language": "python",
      "name": "python3"
    },
    "language_info": {
      "codemirror_mode": {
        "name": "ipython",
        "version": 3
      },
      "file_extension": ".py",
      "mimetype": "text/x-python",
      "name": "python",
      "nbconvert_exporter": "python",
      "pygments_lexer": "ipython3",
      "version": "3.7.4"
    }
  },
  "nbformat": 4,
  "nbformat_minor": 0
}