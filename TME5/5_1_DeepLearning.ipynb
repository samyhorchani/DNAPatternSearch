{
  "cells": [
    {
      "cell_type": "markdown",
      "metadata": {},
      "source": [
        "<font color='lightblue'>Nom Etudiant 1: ELLIETHY Ossama 28712429\n",
        "<br>\n",
        "Nom Etudiant 2: HORCHANI Samy 28706765 </font>"
      ]
    },
    {
      "cell_type": "markdown",
      "metadata": {
        "id": "kZ4C6ycPO5V4"
      },
      "source": [
        "# TME 5.1 : Deep Learning - programmer et entraîner un neurone artificiel\n",
        "\n",
        "\n",
        "## Recherche de pattern (motifs) en utilisant de réseau de neurones\n",
        "\n",
        "Nous allons reprogrammer un neurone artificiel et l'algorithme de back propagation pour reconnaître un motif particulier \n",
        "Pour comprendre le principe nous utiliserons des données simulées générées à partir de matrice de fréquences d'un motif d'intérêt,\n",
        "étiquetées avec 1 (les séquences ne contiennent le motif) et des séquences aléatoires, étiquetées avec 0 (les séquences ne contiennent pas le motif).\n",
        "Notre objectif est de construire un classifieur capable de prédire si une séquence particulière contient le motif d'intérêt."
      ]
    },
    {
      "cell_type": "markdown",
      "metadata": {
        "id": "b9R-3AeT6_y8"
      },
      "source": [
        "## 1. Préparation de données\n",
        "1.1 Nous allons d'abord générer des données artificielles, un jeu de données de séquences ayant le motif (positives = label 1) et un jeu de données de séquences aléatoires (négatives = label 0). Pour générer les séquences positives, utilisez la matrice de fréquence du motif AGTATAG.Pour générer les séquences négatives une distribution uniforme ou les nucléotides sont choisis aléatoirement.Générer 100 séquences positives et 100 séquences négatives. "
      ]
    },
    {
      "cell_type": "code",
      "execution_count": 1,
      "metadata": {
        "id": "H8NocqR00-Nh"
      },
      "outputs": [
        {
          "name": "stdout",
          "output_type": "stream",
          "text": [
            "[[9.80392157e-01 1.16504854e-02 2.97619048e-03 9.85221675e-01\n",
            "  4.95049505e-03 9.71817298e-01 9.97008973e-04]\n",
            " [9.80392157e-03 7.76699029e-03 2.97619048e-03 2.95566502e-03\n",
            "  0.00000000e+00 9.71817298e-03 9.97008973e-04]\n",
            " [3.92156863e-03 9.70873786e-01 1.98412698e-03 6.89655172e-03\n",
            "  4.95049505e-03 1.26336249e-02 9.97008973e-01]\n",
            " [5.88235294e-03 9.70873786e-03 9.92063492e-01 4.92610837e-03\n",
            "  9.90099010e-01 5.83090379e-03 9.97008973e-04]]\n"
          ]
        }
      ],
      "source": [
        "import numpy as np\n",
        "import matplotlib.pyplot as plt\n",
        "\n",
        "motif_length = 7\n",
        "num_sample = 100\n",
        "\n",
        "nuc = ('A', 'C', 'T', 'G')\n",
        "MotifConsensus = \"AGTATAG\"\n",
        "\n",
        "\n",
        "freq = np.array([\n",
        "  [1000,  12,   3,  1000,   5,   1000,   1],\n",
        "  [10,    8,   3,   3,   0,    10,   1],\n",
        "  [4,   1000,   2,   7,   5,    13,   1000],\n",
        "  [6,    10,  1000,   5,   1000,   6,   1]])\n",
        "\n",
        "\n",
        "#Transformer freq en matrice de poids position\n",
        "\n",
        "def generatePWM(MF):\n",
        "  \n",
        "  tmp = 0\n",
        "  PWM = (len(MF), len(MF[0]))\n",
        "  PWM = np.zeros(PWM)\n",
        "\n",
        "  for i in range(len(MF[0])):\n",
        "    for j in range(len(MF)):\n",
        "      tmp = MF[0][i] + MF[1][i] + MF[2][i] + MF[3][i] \n",
        "      for j in range(4):\n",
        "        PWM[j][i] = MF[j][i]/tmp\n",
        "  return PWM\n",
        "\n",
        "PWM = generatePWM(freq)\n",
        "print(PWM)\n",
        "\n",
        "\n"
      ]
    },
    {
      "cell_type": "code",
      "execution_count": 2,
      "metadata": {
        "id": "fKLBM2sT3Ga7"
      },
      "outputs": [
        {
          "name": "stdout",
          "output_type": "stream",
          "text": [
            "['ATGAGAT', 'ATGAGAT', 'ATGAGAT', 'ATGAGAT', 'ATGAGAT', 'ATGAGAT', 'ATGAGAT', 'ATGAGAT', 'ATGAGAT', 'ATGAGAT', 'ATGAGAT', 'ATGAGAT', 'ATGAGAT', 'ATGAGAT', 'ATGAGAT', 'ATGAGAT', 'ATGGGAT', 'ATGAGAT', 'ATTAGAT', 'ATGAGAT', 'ATGAGAT', 'ATGAGAT', 'ATGAGAT', 'ATGAGAT', 'ATGAGAT', 'ATGAGAT', 'ATGAGAT', 'ATGAGAT', 'ATGAGAT', 'ATGAGTT', 'ATGAGAT', 'ATGAGAT', 'ATGAGAT', 'ATGAGAT', 'ATGAGAT', 'ATGAGAT', 'ATGAGAT', 'ATGAGAT', 'ATGAGAT', 'ATGAGAT', 'ATGAGAT', 'ATGAGAT', 'ATGAGAT', 'ATGAGAT', 'ATGAGAT', 'ATGAGAT', 'ATGAGAT', 'ATGAGAT', 'ATGAGAT', 'ATGAGAT', 'ATGAGAT', 'ATGAGAT', 'ATGAGAT', 'ATGAGAT', 'ATGAGAT', 'AAGAGAT', 'ATGAGAT', 'ATGAGAA', 'ATGAGAT', 'ATGAGAT', 'ATGAGAT', 'ATGAGAT', 'ATGAGAT', 'ATGAGAT', 'ATGAGAT', 'ATGAGAT', 'ATGAGAT', 'ATGAGAT', 'ATGAGAT', 'ATGAGAT', 'ATGAGAT', 'ATGAGAT', 'ATGAGAT', 'ATGAGAT', 'ATGAGAT', 'ATGAGAT', 'ATGAGAT', 'ATGAGAT', 'ATGAGAT', 'ATGAGAT', 'ATGAGAT', 'ATGAGAT', 'ATGAGAT', 'AGGAGAT', 'ATGAGAT', 'ATGAGAT', 'ATGAGAT', 'ATGAGAT', 'ATGAGAT', 'ATGAGAT', 'ATGAGAT', 'ATGAGAT', 'ATGAGAT', 'ATGAGAT', 'GTGAGAT', 'ATGAGAT', 'ATGAGAT', 'ATGAGAT', 'ATGAGAT', 'ATGAGAT']\n",
            "['GAGTACT', 'CAGCACC', 'TGGTGTG', 'GGCCATG', 'GACGAAA', 'GGTTAAT', 'TGTGTGC', 'ATTTGTG', 'TTCGCGG', 'CCAGCCT', 'TGTTCAC', 'TCAGAGC', 'AGTGTAT', 'CCACCGG', 'GGGGACA', 'ATAGATA', 'ACAGTTA', 'ATGAATT', 'AAAGCCG', 'AAGTCTT', 'CGAAAGA', 'ATGGTAT', 'CAGCAAG', 'CAATCTT', 'CGCAAGG', 'TCACATA', 'GTTTGAG', 'GATGCGA', 'TCGTCTG', 'TACGTGG', 'GCGGGGA', 'GAACGAG', 'GCACTCT', 'GACACTA', 'GACCGTG', 'GGGGTCG', 'CGAGGAG', 'AGTTTTA', 'CGATTTC', 'AAACTCT', 'AATTCAA', 'CGAATCA', 'CTTTGTC', 'ACGAGAC', 'CATAAAA', 'TACCAAA', 'ATGCTGA', 'TCGTGGA', 'CGACAGC', 'CGCAAGA', 'TCAGATG', 'GGCATTC', 'TCCACGC', 'CGCTAGA', 'AACTGTC', 'CTACCTG', 'AGAATGC', 'CCCAAAC', 'TTCTGGG', 'CCTCTTC', 'CCTGAGT', 'CGCTCGA', 'TTGCACG', 'AACTATT', 'TGCTCCT', 'CCAGGAC', 'TAAGCAG', 'ATTCATC', 'CCCGCAG', 'ACCTACT', 'GATCATC', 'ACTCACC', 'ACCGTTC', 'GGTACTA', 'CGTCGAA', 'ACCAAAA', 'CCCTCCG', 'CCAGGTC', 'GGAACTA', 'GGCCGTG', 'TCCTTAC', 'ATTGTGG', 'GACCCGC', 'TAGGCTT', 'GCGCGTC', 'GGGTCTC', 'TCTTGGG', 'TAGATTA', 'TACCCAG', 'CATATGA', 'ATTCTGC', 'TTTGGAA', 'TATCAGG', 'GTCAACG', 'CACTTTG', 'GCCGTCT', 'ATCTCCA', 'CTGTTCG', 'CCCAGTG', 'AGTGATC']\n"
          ]
        }
      ],
      "source": [
        "def createArtSequences(freq, num_sample=100):\n",
        "  \"\"\"\n",
        "  Genere deux jeux de sequences: positives (ayant le motif) et negatives (aleatoires)\n",
        "  entrée PWM : matrice de poids position qui represent le motif d'interet\n",
        "  entrée num_sample : int, nombre d'echantillons\n",
        "  sortie pos : list contenant les sequences positives\n",
        "  sortie neg : list contenant les sequences negatives\n",
        "  \"\"\"\n",
        "  pos = []\n",
        "  neg = []\n",
        "\n",
        "  for i in range(num_sample):\n",
        "    current_pos = \"\"\n",
        "    current_neg = \"\"\n",
        "    for j in PWM.T:\n",
        "      tirage = np.random.choice(nuc, replace = False, p=j)\n",
        "      current_pos = current_pos + tirage\n",
        "      current_neg = current_neg + np.random.choice(nuc)\n",
        "    pos.append(current_pos)\n",
        "    neg.append(current_neg)\n",
        "  return pos, neg\n",
        "\n",
        "pos, neg  = createArtSequences(PWM, num_sample)\n",
        "\n",
        "print(pos)\n",
        "print(neg)\n"
      ]
    },
    {
      "cell_type": "markdown",
      "metadata": {
        "id": "tCr-0uaz3WXr"
      },
      "source": [
        "1.2 Générer le vecteur y contenant les labels de séquences générer à la question précédente, séquences positives = label 1, et négatives = label 0. Pour simplifier les prochain calculs y doit être un numpy array de dimension (num_sample*2, 1)"
      ]
    },
    {
      "cell_type": "code",
      "execution_count": 3,
      "metadata": {
        "id": "TLSWIMGR3Z1I"
      },
      "outputs": [
        {
          "name": "stdout",
          "output_type": "stream",
          "text": [
            "(200, 1)\n"
          ]
        }
      ],
      "source": [
        "y_pos = np.ones((num_sample, 1))\n",
        "y_neg = np.zeros((num_sample, 1))\n",
        "y = np.vstack((y_pos, y_neg))\n",
        "\n",
        "indices  =np.arange(num_sample*2)\n",
        "np.random.shuffle(indices)\n",
        "\n",
        "y=y[indices]\n",
        "\n",
        "print(y.shape)\n"
      ]
    },
    {
      "cell_type": "markdown",
      "metadata": {
        "id": "3E_GVK6_Ac3w"
      },
      "source": [
        "1.3 Nous allons créer notre matrice X contenant deux features, pour simplifier x1 sera le nombre de AG et x2 le nombre de TA. Par exemple, pour la séquence AGAGTAG, x1 = 3 et x2=1"
      ]
    },
    {
      "cell_type": "code",
      "execution_count": 36,
      "metadata": {
        "id": "jxZ69YUP3eaJ"
      },
      "outputs": [
        {
          "data": {
            "image/png": "[encoded data removed]",
            "text/plain": [
              "<Figure size 640x480 with 1 Axes>"
            ]
          },
          "metadata": {},
          "output_type": "display_data"
        },
        {
          "data": {
            "image/png": "[encoded data removed]",
            "text/plain": [
              "<Figure size 640x480 with 1 Axes>"
            ]
          },
          "metadata": {},
          "output_type": "display_data"
        },
        {
          "name": "stdout",
          "output_type": "stream",
          "text": [
            "(200, 2)\n",
            "[[0.5 0.5]\n",
            " [0.5 0.5]\n",
            " [0.5 0.5]\n",
            " [0.5 0.5]\n",
            " [0.5 0.5]\n",
            " [0.5 0.5]\n",
            " [0.5 0.5]\n",
            " [0.5 0.5]\n",
            " [0.5 0.5]\n",
            " [0.5 0.5]\n",
            " [0.5 0.5]\n",
            " [0.5 0.5]\n",
            " [0.5 0.5]\n",
            " [0.5 0.5]\n",
            " [0.5 0.5]\n",
            " [0.5 0.5]\n",
            " [0.  0. ]\n",
            " [0.5 0.5]\n",
            " [0.5 0.5]\n",
            " [0.5 0.5]\n",
            " [0.5 0.5]\n",
            " [0.5 0.5]\n",
            " [0.5 0.5]\n",
            " [0.5 0.5]\n",
            " [0.5 0.5]\n",
            " [0.5 0.5]\n",
            " [0.5 0.5]\n",
            " [0.5 0.5]\n",
            " [0.5 0.5]\n",
            " [0.5 0.5]\n",
            " [0.5 0.5]\n",
            " [0.5 0.5]\n",
            " [0.5 0.5]\n",
            " [0.5 0.5]\n",
            " [0.5 0.5]\n",
            " [0.5 0.5]\n",
            " [0.5 0.5]\n",
            " [0.5 0.5]\n",
            " [0.5 0.5]\n",
            " [0.5 0.5]\n",
            " [0.5 0.5]\n",
            " [0.5 0.5]\n",
            " [0.5 0.5]\n",
            " [0.5 0.5]\n",
            " [0.5 0.5]\n",
            " [0.5 0.5]\n",
            " [0.5 0.5]\n",
            " [0.5 0.5]\n",
            " [0.5 0.5]\n",
            " [0.5 0.5]\n",
            " [0.5 0.5]\n",
            " [0.5 0.5]\n",
            " [0.5 0.5]\n",
            " [0.5 0.5]\n",
            " [0.5 0.5]\n",
            " [1.  1. ]\n",
            " [0.5 0.5]\n",
            " [0.5 0.5]\n",
            " [0.5 0.5]\n",
            " [0.5 0.5]\n",
            " [0.5 0.5]\n",
            " [0.5 0.5]\n",
            " [0.5 0.5]\n",
            " [0.5 0.5]\n",
            " [0.5 0.5]\n",
            " [0.5 0.5]\n",
            " [0.5 0.5]\n",
            " [0.5 0.5]\n",
            " [0.5 0.5]\n",
            " [0.5 0.5]\n",
            " [0.5 0.5]\n",
            " [0.5 0.5]\n",
            " [0.5 0.5]\n",
            " [0.5 0.5]\n",
            " [0.5 0.5]\n",
            " [0.5 0.5]\n",
            " [0.5 0.5]\n",
            " [0.5 0.5]\n",
            " [0.5 0.5]\n",
            " [0.5 0.5]\n",
            " [0.5 0.5]\n",
            " [0.5 0.5]\n",
            " [0.5 0.5]\n",
            " [1.  1. ]\n",
            " [0.5 0.5]\n",
            " [0.5 0.5]\n",
            " [0.5 0.5]\n",
            " [0.5 0.5]\n",
            " [0.5 0.5]\n",
            " [0.5 0.5]\n",
            " [0.5 0.5]\n",
            " [0.5 0.5]\n",
            " [0.5 0.5]\n",
            " [0.5 0.5]\n",
            " [0.5 0.5]\n",
            " [0.5 0.5]\n",
            " [0.5 0.5]\n",
            " [0.5 0.5]\n",
            " [0.5 0.5]\n",
            " [0.5 0.5]\n",
            " [0.5 0.5]\n",
            " [0.5 0.5]\n",
            " [0.  0. ]\n",
            " [0.  0. ]\n",
            " [0.  0. ]\n",
            " [0.  0. ]\n",
            " [0.  0. ]\n",
            " [0.  0. ]\n",
            " [0.  0. ]\n",
            " [0.5 0.5]\n",
            " [0.  0. ]\n",
            " [1.  1. ]\n",
            " [0.5 0.5]\n",
            " [0.  0. ]\n",
            " [0.  0. ]\n",
            " [0.5 0.5]\n",
            " [0.5 0.5]\n",
            " [0.  0. ]\n",
            " [0.5 0.5]\n",
            " [0.5 0.5]\n",
            " [0.5 0.5]\n",
            " [0.  0. ]\n",
            " [1.  1. ]\n",
            " [0.  0. ]\n",
            " [0.5 0.5]\n",
            " [0.  0. ]\n",
            " [0.5 0.5]\n",
            " [0.  0. ]\n",
            " [0.  0. ]\n",
            " [0.  0. ]\n",
            " [0.  0. ]\n",
            " [0.5 0.5]\n",
            " [0.  0. ]\n",
            " [0.  0. ]\n",
            " [0.  0. ]\n",
            " [0.  0. ]\n",
            " [1.  1. ]\n",
            " [0.5 0.5]\n",
            " [0.  0. ]\n",
            " [0.  0. ]\n",
            " [0.  0. ]\n",
            " [0.  0. ]\n",
            " [0.  0. ]\n",
            " [0.5 0.5]\n",
            " [0.  0. ]\n",
            " [0.  0. ]\n",
            " [0.  0. ]\n",
            " [0.  0. ]\n",
            " [0.5 0.5]\n",
            " [0.5 0.5]\n",
            " [0.5 0.5]\n",
            " [0.  0. ]\n",
            " [0.  0. ]\n",
            " [0.5 0.5]\n",
            " [0.  0. ]\n",
            " [0.  0. ]\n",
            " [0.5 0.5]\n",
            " [0.  0. ]\n",
            " [0.  0. ]\n",
            " [0.  0. ]\n",
            " [0.5 0.5]\n",
            " [0.  0. ]\n",
            " [0.  0. ]\n",
            " [0.  0. ]\n",
            " [0.  0. ]\n",
            " [0.5 0.5]\n",
            " [1.  1. ]\n",
            " [0.  0. ]\n",
            " [0.5 0.5]\n",
            " [0.  0. ]\n",
            " [0.  0. ]\n",
            " [0.  0. ]\n",
            " [0.  0. ]\n",
            " [0.  0. ]\n",
            " [0.  0. ]\n",
            " [0.  0. ]\n",
            " [0.  0. ]\n",
            " [0.5 0.5]\n",
            " [0.  0. ]\n",
            " [0.  0. ]\n",
            " [0.  0. ]\n",
            " [0.  0. ]\n",
            " [0.  0. ]\n",
            " [0.5 0.5]\n",
            " [0.  0. ]\n",
            " [0.  0. ]\n",
            " [0.  0. ]\n",
            " [0.5 0.5]\n",
            " [0.5 0.5]\n",
            " [0.  0. ]\n",
            " [0.  0. ]\n",
            " [0.  0. ]\n",
            " [0.5 0.5]\n",
            " [0.  0. ]\n",
            " [0.  0. ]\n",
            " [0.  0. ]\n",
            " [0.  0. ]\n",
            " [0.  0. ]\n",
            " [0.5 0.5]\n",
            " [0.5 0.5]]\n"
          ]
        }
      ],
      "source": [
        "def createFeatures(trainSeqs:list, num_sample=100):\n",
        "  \"\"\"\n",
        "  Crrer deux features pour chaque séquence: x1 = nombre de AG et x2 = nombre de TA \n",
        "  entrée trainSeqs : list de séquences \n",
        "  entrée num_sample : nombre d'échantillons \n",
        "  sortie X : numpy array contenant deux feature pour chaque séquence\n",
        "  \"\"\"\n",
        "  dim = (num_sample, 2)\n",
        "  \n",
        "  X = np.zeros(dim)\n",
        "  x1 = \"AG\"\n",
        "  x2 = \"TA\"\n",
        "  for i in range(num_sample):\n",
        "    count_x1 = 0\n",
        "    count_x2 = 0\n",
        "    for j in range(len(trainSeqs[i])-1):\n",
        "      test  = trainSeqs[i][j] + trainSeqs[i][j+1]\n",
        "      if test == x1:\n",
        "        count_x1 += 1\n",
        "      if test == x2:\n",
        "        count_x2 +=1\n",
        "      X[i,0] = count_x1\n",
        "      X[i,1] = count_x1\n",
        "  return X\n",
        "\n",
        "\n",
        "Xpos = createFeatures(pos)\n",
        "Xneg = createFeatures(neg)\n",
        "\n",
        "\n",
        "yPos = np.ones(num_sample)\n",
        "yNeg = np.zeros(num_sample)\n",
        "\n",
        "#Ploter les données\n",
        "\n",
        "plt.scatter(Xpos[:,0], Xpos[:, 1], c=yPos, s=15)\n",
        "plt.show()\n",
        "\n",
        "plt.scatter(Xneg[:,0], Xneg[:, 1], c=yNeg, marker='x', cmap='summer')\n",
        "plt.show()\n",
        "\n",
        "#Normaliser les données entre 0 et 1\n",
        "X = np.vstack((Xpos, Xneg))\n",
        "\n",
        "x_norm = (X-np.min(X))/(np.max(X)-np.min(X))\n",
        "\n",
        "X = x_norm\n",
        "\n",
        "print(X.shape)\n",
        "print(X)"
      ]
    },
    {
      "cell_type": "markdown",
      "metadata": {
        "id": "OMQhDkPTC1XD"
      },
      "source": [
        "## 2. Construction d'un neurone artificiel\n",
        "2.1 Faire une fonction pour initialiser avec des valeurs aléatoires la matrice W et b"
      ]
    },
    {
      "cell_type": "code",
      "execution_count": 37,
      "metadata": {
        "id": "tG3YFKd6Y3jj"
      },
      "outputs": [
        {
          "name": "stdout",
          "output_type": "stream",
          "text": [
            "[[-0.58115834]\n",
            " [-0.44888623]]\n",
            "[-0.0747653]\n"
          ]
        }
      ],
      "source": [
        "def initialisation(X):\n",
        "  \"\"\"\n",
        "  Initialiser avec des valeurs aléatoires la matrice W et b\n",
        "  entrée X: matrice de features\n",
        "  sortie W: matrice de poids du reseau\n",
        "  sortie b: bias\n",
        "  \"\"\"\n",
        "\n",
        "  #determination du nombre de features dans X et du nombre de neurones dans la couche cachée\n",
        "  n_features = X.shape[1]\n",
        "  \n",
        "  #Initialisation de W avec des valeurs aléatoires tirées de la distribution normale\n",
        "\n",
        "  W = np.random.randn(X.shape[1],1)\n",
        "\n",
        "  b = np.random.randn(1)    \n",
        "\n",
        "  return (W, b)\n",
        "\n",
        "W, b = initialisation(X)\n",
        "\n",
        "print(W)\n",
        "print(b)"
      ]
    },
    {
      "cell_type": "markdown",
      "metadata": {
        "id": "VAuvpzWKD6r7"
      },
      "source": [
        "2.2 Faire une fonction qui calcule la fonction d'ativation du neurone "
      ]
    },
    {
      "cell_type": "code",
      "execution_count": 38,
      "metadata": {
        "id": "O7GP4WQOZ5RY"
      },
      "outputs": [
        {
          "name": "stdout",
          "output_type": "stream",
          "text": [
            "(200, 1)\n"
          ]
        }
      ],
      "source": [
        "def model(X, W, b):\n",
        "    \"\"\"\n",
        "    Calcule Z puis A\n",
        "    entrée X: matrice de features\n",
        "    entrée W: matrice de poids du reseau\n",
        "    entrée b: bias\n",
        "    sortie A: valeur de la fonction d'ativation\n",
        "    \"\"\"\n",
        "    \n",
        "    Z = X.dot(W) +b #produit matriciel de X et W\n",
        "    A = 1/(1+np.exp(-Z))\n",
        "    return A\n",
        "\n",
        "A = model(X, W, b)\n",
        "\n",
        "print(A.shape)"
      ]
    },
    {
      "cell_type": "markdown",
      "metadata": {
        "id": "8nhsFjyOFLid"
      },
      "source": [
        "2.2 Faire la fonction logLoss"
      ]
    },
    {
      "cell_type": "code",
      "execution_count": 39,
      "metadata": {
        "id": "ygDaoWenbUPA"
      },
      "outputs": [
        {
          "name": "stdout",
          "output_type": "stream",
          "text": [
            "0.7221764846718256\n"
          ]
        }
      ],
      "source": [
        "def log_loss(A, y):\n",
        "    \"\"\"\n",
        "    Calcule log_loss basée en A et y\n",
        "    entrée A: vecteur contenant les valeurs de fonctions d'activation pour les num_sample*2\n",
        "    entrée y: vecteur de labels\n",
        "    sortie ll: logLoss\n",
        "    \"\"\"\n",
        "    ll = 1/len(y) * np.sum(-y * np.log(A) - (1 - y) * np.log(1 - A))\n",
        "    return ll\n",
        "\n",
        "logloss = log_loss(A,y)\n",
        "print(logloss)"
      ]
    },
    {
      "cell_type": "markdown",
      "metadata": {
        "id": "Dc7ppmE9F6In"
      },
      "source": [
        "2.3 Faire la fonction qui calcule les gradients"
      ]
    },
    {
      "cell_type": "code",
      "execution_count": 40,
      "metadata": {
        "id": "F5ALRcpTcQSz"
      },
      "outputs": [
        {
          "name": "stdout",
          "output_type": "stream",
          "text": [
            "[[-0.05017947]\n",
            " [-0.05017947]]\n",
            "-0.10417623402796848\n"
          ]
        }
      ],
      "source": [
        "def gradients(A, X, y):\n",
        "    \"\"\"\n",
        "    Calcule les gradients dW et db\n",
        "    entrée A: vecteur contenant les valeurs de fonctions d'activation pour num_sample*2\n",
        "    entrée X: matrice de features\n",
        "    entrée y: vecteur de labels\n",
        "    sortie dW: les gradients de W\n",
        "    sortie db: le gradients de b\n",
        "    \"\"\"\n",
        "\n",
        "    dW = 1 / len(y) * np.dot(X.T, A - y)\n",
        "    db = 1 / len(y) * np.sum(A - y)\n",
        "\n",
        "    return (dW, db)\n",
        "\n",
        "dW, db = gradients(A, X, y)\n",
        "print(dW)\n",
        "print(db)"
      ]
    },
    {
      "cell_type": "markdown",
      "metadata": {
        "id": "QvbcNvmPGd4b"
      },
      "source": [
        "2.4 Faire la fonction pour mettre à jours les parametre W et b"
      ]
    },
    {
      "cell_type": "code",
      "execution_count": 41,
      "metadata": {
        "id": "dxGJyWq_dKMe"
      },
      "outputs": [],
      "source": [
        "def update(dW, db, W, b, learning_rate):\n",
        "    \"\"\"\n",
        "    Mettre à jour W et b\n",
        "    entrée dW: les gradients de W\n",
        "    entrée db: le gradient de b\n",
        "    entrée W: matrice de poids W\n",
        "    entrée b: bias\n",
        "    entrée learning_rate: pas d'aprentissage\n",
        "    sortie W: W mis à jour\n",
        "    sortie b: b mis à jour\n",
        "    \"\"\"\n",
        "    W = W - dW\n",
        "    b = b - db\n",
        "    return (W, b)"
      ]
    },
    {
      "cell_type": "markdown",
      "metadata": {
        "id": "yV4chOnlHQCH"
      },
      "source": [
        "2.5 Faire la fonction pour entraîner un neurone artificiel"
      ]
    },
    {
      "cell_type": "code",
      "execution_count": 42,
      "metadata": {
        "id": "BE89yQopd5cf"
      },
      "outputs": [
        {
          "name": "stdout",
          "output_type": "stream",
          "text": [
            "(200, 2)\n"
          ]
        }
      ],
      "source": [
        "def backPropagation(X, y, learning_rate = 0.08, n_iter = 30):\n",
        "    \"\"\"\n",
        "    Implemente l'algorithme backpropagation\n",
        "    entrée X: matrice de features\n",
        "    entrée y: vecteur de labels\n",
        "    entrée learning_rate: pas d'aprentissage\n",
        "    entrée n_iter: nombre d'iteration ou epoch\n",
        "    sortie W: W à la fin de l'entrainement \n",
        "    sortie b: b à la fin de l'entrainement \n",
        "    sortie Loss: List contenant les valeur de la fonction logLoss à chaque iteration\n",
        "    \"\"\" \n",
        "    # initialisation W, b\n",
        "    W, b = initialisation(X)\n",
        "\n",
        "    Loss = []\n",
        "\n",
        "    for i in range(n_iter):\n",
        "        A = model(X,W,b)\n",
        "        Loss.append(log_loss(A,y))\n",
        "        dW, db = gradients(A, X, y)\n",
        "        W, b = update(dW, db, W, b, learning_rate)\n",
        "\n",
        "    return (W, b, Loss)\n",
        "\n",
        "W, b, Loss = backPropagation(X, y, 0.5, 600)\n",
        "print (X.shape)"
      ]
    },
    {
      "cell_type": "markdown",
      "metadata": {
        "id": "ir4Pl195LDaD"
      },
      "source": [
        "2.6 Ploter les valeurs de LogLoss pour voir si ça diminue au cours des epochs"
      ]
    },
    {
      "cell_type": "code",
      "execution_count": 43,
      "metadata": {
        "id": "uRbcSdfsyYlg"
      },
      "outputs": [
        {
          "data": {
            "text/plain": [
              "[<matplotlib.lines.Line2D at 0x7f8919a26ee0>]"
            ]
          },
          "execution_count": 43,
          "metadata": {},
          "output_type": "execute_result"
        },
        {
          "data": {
            "image/png": "[encoded data removed]",
            "text/plain": [
              "<Figure size 640x480 with 1 Axes>"
            ]
          },
          "metadata": {},
          "output_type": "display_data"
        }
      ],
      "source": [
        "plt.plot(Loss)\n"
      ]
    },
    {
      "cell_type": "markdown",
      "metadata": {
        "id": "KZvBv8AmLToj"
      },
      "source": [
        "2.7 Faire une fonction Predict qui renvoie 1 si la probabilité donnée par le model est supérieure ou égale à 0.5, 0 sinon"
      ]
    },
    {
      "cell_type": "code",
      "execution_count": 79,
      "metadata": {
        "id": "iJM_WeCurSuF"
      },
      "outputs": [
        {
          "name": "stdout",
          "output_type": "stream",
          "text": [
            "[[0]\n",
            " [0]\n",
            " [0]\n",
            " [0]\n",
            " [0]\n",
            " [0]\n",
            " [0]\n",
            " [0]\n",
            " [0]\n",
            " [0]\n",
            " [0]\n",
            " [0]\n",
            " [0]\n",
            " [0]\n",
            " [0]\n",
            " [0]\n",
            " [0]\n",
            " [0]\n",
            " [0]\n",
            " [0]\n",
            " [0]\n",
            " [0]\n",
            " [0]\n",
            " [0]\n",
            " [0]\n",
            " [0]\n",
            " [0]\n",
            " [0]\n",
            " [0]\n",
            " [0]\n",
            " [0]\n",
            " [0]\n",
            " [0]\n",
            " [0]\n",
            " [0]\n",
            " [0]\n",
            " [0]\n",
            " [0]\n",
            " [0]\n",
            " [0]\n",
            " [0]\n",
            " [0]\n",
            " [0]\n",
            " [0]\n",
            " [0]\n",
            " [0]\n",
            " [0]\n",
            " [0]\n",
            " [0]\n",
            " [0]\n",
            " [0]\n",
            " [0]\n",
            " [0]\n",
            " [0]\n",
            " [0]\n",
            " [0]\n",
            " [0]\n",
            " [0]\n",
            " [0]\n",
            " [0]\n",
            " [0]\n",
            " [0]\n",
            " [0]\n",
            " [0]\n",
            " [0]\n",
            " [0]\n",
            " [0]\n",
            " [0]\n",
            " [0]\n",
            " [0]\n",
            " [0]\n",
            " [0]\n",
            " [0]\n",
            " [0]\n",
            " [0]\n",
            " [0]\n",
            " [0]\n",
            " [0]\n",
            " [0]\n",
            " [0]\n",
            " [0]\n",
            " [0]\n",
            " [0]\n",
            " [0]\n",
            " [0]\n",
            " [0]\n",
            " [0]\n",
            " [0]\n",
            " [0]\n",
            " [0]\n",
            " [0]\n",
            " [0]\n",
            " [0]\n",
            " [0]\n",
            " [0]\n",
            " [0]\n",
            " [0]\n",
            " [0]\n",
            " [0]\n",
            " [0]\n",
            " [0]\n",
            " [1]\n",
            " [0]\n",
            " [1]\n",
            " [0]\n",
            " [0]\n",
            " [1]\n",
            " [0]\n",
            " [0]\n",
            " [1]\n",
            " [0]\n",
            " [0]\n",
            " [0]\n",
            " [1]\n",
            " [0]\n",
            " [0]\n",
            " [0]\n",
            " [0]\n",
            " [1]\n",
            " [0]\n",
            " [0]\n",
            " [0]\n",
            " [0]\n",
            " [0]\n",
            " [0]\n",
            " [0]\n",
            " [0]\n",
            " [1]\n",
            " [0]\n",
            " [0]\n",
            " [0]\n",
            " [0]\n",
            " [0]\n",
            " [0]\n",
            " [1]\n",
            " [0]\n",
            " [0]\n",
            " [0]\n",
            " [0]\n",
            " [0]\n",
            " [0]\n",
            " [0]\n",
            " [0]\n",
            " [0]\n",
            " [0]\n",
            " [1]\n",
            " [1]\n",
            " [0]\n",
            " [0]\n",
            " [0]\n",
            " [0]\n",
            " [0]\n",
            " [1]\n",
            " [0]\n",
            " [0]\n",
            " [1]\n",
            " [1]\n",
            " [1]\n",
            " [0]\n",
            " [1]\n",
            " [1]\n",
            " [0]\n",
            " [1]\n",
            " [0]\n",
            " [1]\n",
            " [1]\n",
            " [0]\n",
            " [0]\n",
            " [1]\n",
            " [0]\n",
            " [0]\n",
            " [0]\n",
            " [1]\n",
            " [0]\n",
            " [0]\n",
            " [1]\n",
            " [1]\n",
            " [1]\n",
            " [0]\n",
            " [1]\n",
            " [1]\n",
            " [0]\n",
            " [1]\n",
            " [0]\n",
            " [0]\n",
            " [0]\n",
            " [0]\n",
            " [0]\n",
            " [1]\n",
            " [0]\n",
            " [1]\n",
            " [0]\n",
            " [0]\n",
            " [0]\n",
            " [0]\n",
            " [1]\n",
            " [1]\n",
            " [0]\n",
            " [1]\n",
            " [0]]\n"
          ]
        }
      ],
      "source": [
        "def predict(X, W, b):\n",
        "    \"\"\"\n",
        "    Predire le label de donnees X en ulisant parametre W, b\n",
        "    entrée X: matrice de features\n",
        "    entrée W: matrice de poids W\n",
        "    entrée b: bias\n",
        "    sortie A: 1 si la probalité donnee par le model est superieur ou egale à 0.5, 0 sinon \n",
        "    \"\"\" \n",
        "    A = 0\n",
        "    #Calcule de la sortie de la couche cachée\n",
        "    z = np.dot(X, W) + b\n",
        "    a = 1 / (1 + np.exp(-z))\n",
        "    #print(a)\n",
        "\n",
        "    #convertir les probabilités en labels binaires\n",
        "    A = np.where( a >= 0.5, 1, 0)\n",
        "   \n",
        "    return A\n",
        "\n",
        "A = predict(X, W, b)\n",
        "print(A)"
      ]
    },
    {
      "cell_type": "markdown",
      "metadata": {
        "id": "U2Iv6tbRTlYO"
      },
      "source": [
        "2.8 Afficher l'accuracy du model sur les données d'entrainement."
      ]
    },
    {
      "cell_type": "code",
      "execution_count": 80,
      "metadata": {
        "id": "4CSwS5fUvd1M"
      },
      "outputs": [
        {
          "name": "stdout",
          "output_type": "stream",
          "text": [
            "0.52\n"
          ]
        }
      ],
      "source": [
        "from sklearn.metrics import accuracy_score\n",
        "\n",
        "y_pred = predict(X, W, b)\n",
        "print(accuracy_score(y, y_pred))\n",
        "\n",
        "\n",
        "    "
      ]
    },
    {
      "cell_type": "markdown",
      "metadata": {
        "id": "KL2bxGemo8N8"
      },
      "source": [
        "## 3. Amelioration du modèle"
      ]
    },
    {
      "cell_type": "markdown",
      "metadata": {
        "id": "HRnEzgUhn0FX"
      },
      "source": [
        "3.1 Quel est la performance du modèle? Changer les paramètres learning_rate et n_iter pour améliorer la performance. Comment ces deux paramètres influencent la accuracy?"
      ]
    },
    {
      "attachments": {},
      "cell_type": "markdown",
      "metadata": {
        "id": "2wWpeEoTovnX"
      },
      "source": [
        "0.5"
      ]
    },
    {
      "cell_type": "markdown",
      "metadata": {
        "id": "Xd61l95ApbZc"
      },
      "source": [
        "3.2 Ajouter d'autre features comme par exemple d'autre dinucléotides, ou trinucleotides et réentraîner le modèle. "
      ]
    },
    {
      "cell_type": "code",
      "execution_count": 81,
      "metadata": {
        "id": "TuNxNkaRp7EV"
      },
      "outputs": [],
      "source": [
        "def createFeatures(trainSeqs:list, num_sample=100):\n",
        "  \"\"\"\n",
        "  Create plusieurs features pour représenter le motif\n",
        "  entrée trainSeqs : list de séquences d'entrainement\n",
        "  entrée num_sample : nombre d'échantillons \n",
        "  sortie X : numpy array contenant plusieurs features pour chaque séquence\n",
        "  \"\"\"\n",
        "  dim = (num_sample, 3)\n",
        "  X = np.zeros(dim)\n",
        "  x1 = \"AG\"\n",
        "  x2 = \"TA\"\n",
        "  x3 = \"AGT\"\n",
        "\n",
        "  for i in range(num_sample):\n",
        "    X[i, 0] = trainSeqs[i].count(x1)\n",
        "    X[i, 1] = trainSeqs[i].count(x2)\n",
        "    X[i, 2] = trainSeqs[i].count(x3)\n",
        "  return X\n",
        "\n",
        "Xpos = createFeatures(pos)\n",
        "Xneg = createFeatures(neg)\n",
        "X = np.vstack((Xpos, Xneg))\n",
        "\n",
        "x_norm = (X-np.min(X))/(np.max(X)-np.min(X))\n",
        "\n",
        "X = x_norm"
      ]
    },
    {
      "cell_type": "markdown",
      "metadata": {
        "id": "qjr9Cj5RzYwu"
      },
      "source": [
        "3.3 Réentraîner le modèle et comparer les performances."
      ]
    },
    {
      "cell_type": "code",
      "execution_count": 82,
      "metadata": {
        "id": "VO0w8_feqxup"
      },
      "outputs": [
        {
          "data": {
            "text/plain": [
              "[<matplotlib.lines.Line2D at 0x7f88c843e220>]"
            ]
          },
          "execution_count": 82,
          "metadata": {},
          "output_type": "execute_result"
        },
        {
          "data": {
            "image/png": "[encoded data removed]",
            "text/plain": [
              "<Figure size 640x480 with 1 Axes>"
            ]
          },
          "metadata": {},
          "output_type": "display_data"
        }
      ],
      "source": [
        "W, b, Loss2 = backPropagation(X, y, 0.5, 600)\n",
        "plt.plot(Loss2,\n",
        " color='red', label='y2')\n",
        "plt.plot(Loss, color = 'blue', label='y1')"
      ]
    },
    {
      "cell_type": "markdown",
      "metadata": {
        "id": "G8w7E3QAR6Y2"
      },
      "source": [
        "## 4. Tester sur vous données de chip-seq\n",
        "4.1 Vous avez peut-être une idée du motif caché dans vos données.\n",
        "Entraîner un modèle spécifique pour reconnaître le motif d'intérêt.\n",
        "Telechargé la matrice de frequence du motif d'intérêt sur le site https://jaspar.genereg.net/, chercher par le nom du motif, puis copie sa matrice de frequence. Voici un exemple pour le motif AFT1"
      ]
    },
    {
      "cell_type": "code",
      "execution_count": 83,
      "metadata": {
        "id": "AKMhXjeHWKME"
      },
      "outputs": [],
      "source": [
        "#>AFT1 à remplacer par la matrice du motif d'interet\n",
        "freq = np.array([[106,155,362,179,426,136,716,145,34,160,10,961,8,25,19,181,265,287,276,123,154\t],\n",
        "                 [205,249,197,396,231,78,25,31,47,10,966,9,972,955,740,257,252,155,180,225,236],\n",
        "                 [231,220,221,222,154,142,31,288,39,812,11,15,9,2,13,494,241,183,68,357,458],\n",
        "                 [456,374,218,200,187,641,226,535,878,16,10,14,10,16,225,65,240,373,474,292,150]\n",
        "])\n",
        "\n",
        "motif_length = 7 # à remplacer par taille de la matrice du motif d'interet\n",
        "num_sample = 100\n",
        "\n",
        "\n",
        "\n",
        "posTest, negTest  = createArtSequences(freq, num_sample)\n",
        "\n"
      ]
    },
    {
      "cell_type": "markdown",
      "metadata": {
        "id": "HO-OzXaaCELo"
      },
      "source": [
        "4.2 Recoder la fonction ``createFeatures`` pour créer un ensemble de features qui représentent bien le motif d'intérêt. Vous  pouvez utiliser autant de features qui vous souhaitez."
      ]
    },
    {
      "cell_type": "code",
      "execution_count": 84,
      "metadata": {
        "id": "WsHgc3N7z6jG"
      },
      "outputs": [],
      "source": [
        "def createFeatures(trainSeqs:list, num_sample=100):\n",
        "  \"\"\"\n",
        "  Create features pour representer le motif d'interet\n",
        "  entrée trainSeqs : list de séquences \n",
        "  entrée num_sample : nombre d'échantillons \n",
        "  sortie X : numpy array contenant deux feature pour chaque séquence\n",
        "  \"\"\"\n",
        "  dim = (num_sample , 5)\n",
        "  X = np.zeros(dim)\n",
        "  features = [\"TGC\",\"AC\", \"CC\"]\n",
        "  for i in range(num_sample):\n",
        "    for j in range(len(features)):\n",
        "      X[i][j] = trainSeqs[i].count(features[j])\n",
        "  return X"
      ]
    },
    {
      "cell_type": "code",
      "execution_count": 85,
      "metadata": {
        "id": "CRvVZb2_z7np"
      },
      "outputs": [],
      "source": [
        "Xpos = createFeatures(pos)\n",
        "Xneg = createFeatures(neg)\n",
        "X = np.vstack((Xpos, Xneg))\n",
        "\n",
        "x_norm = (X-np.min(X))/(np.max(X)-np.min(X))\n",
        "\n",
        "X = x_norm"
      ]
    },
    {
      "cell_type": "code",
      "execution_count": 86,
      "metadata": {
        "id": "h2_kAQPYWu55"
      },
      "outputs": [
        {
          "data": {
            "text/plain": [
              "(200, 1)"
            ]
          },
          "execution_count": 86,
          "metadata": {},
          "output_type": "execute_result"
        }
      ],
      "source": [
        "yTest = np.concatenate((np.ones(num_sample), np.zeros(num_sample)))\n",
        "yTest = yTest.reshape((yTest.shape[0], 1))\n",
        "y.shape"
      ]
    },
    {
      "cell_type": "markdown",
      "metadata": {
        "id": "7LNh55CADEq2"
      },
      "source": [
        "4.4 Réentraîner le modèle et ajuster les paramètres à fin d'obtenir la meilleure performance."
      ]
    },
    {
      "cell_type": "code",
      "execution_count": 87,
      "metadata": {
        "id": "oK6MJAvkECp4"
      },
      "outputs": [
        {
          "data": {
            "image/png": "[encoded data removed]",
            "text/plain": [
              "<Figure size 640x480 with 1 Axes>"
            ]
          },
          "metadata": {},
          "output_type": "display_data"
        }
      ],
      "source": [
        "W, b, Loss3 = backPropagation(X, y, 0.5, 10000)\n",
        "plt.plot(Loss3, color='green')\n",
        "plt.show()"
      ]
    },
    {
      "cell_type": "markdown",
      "metadata": {
        "id": "O5J-eHZIC5Nv"
      },
      "source": [
        "4.5 Lire votre fichier et charger les séquences."
      ]
    },
    {
      "cell_type": "code",
      "execution_count": 88,
      "metadata": {
        "id": "8lhMiYmJ0zI8"
      },
      "outputs": [],
      "source": [
        "def reversecompl(seq): #repris du TME 2\n",
        "    compl = {'A': 'T', 'C': 'G', 'G': 'C', 'T':'A'}\n",
        "    res = ''\n",
        "    for index in range(len(seq)):\n",
        "        res += compl[seq[index].upper()]\n",
        "    return res[::-1]\n",
        "\n",
        "def reversecompl_list(sequences): #repris du TME 2\n",
        "    res = []\n",
        "    for sequence in sequences:\n",
        "        res.append(reversecompl(sequence))\n",
        "    return res\n",
        "\n",
        "\n",
        "def readFasta(genome):\n",
        "    sequence = []\n",
        "    file = open(genome, \"r\")\n",
        "    sequences = []\n",
        "    seq = \"\"\n",
        "    for s in file:\n",
        "        if s[0] != \">\":\n",
        "            seq += s.strip().upper()\n",
        "        else:\n",
        "            sequences.append(seq)\n",
        "            seq = \"\"\n",
        "    return sequences[1:]\n",
        "genome = \"Sequence_by_Peaks_1.fasta\"\n",
        "sequence = readFasta(genome)[0]\n",
        "#brincompl = reversecompl_list(sequence)\n",
        "#brin1_et_brin2 = sequence + brincompl\n",
        "\n"
      ]
    },
    {
      "cell_type": "markdown",
      "metadata": {
        "id": "_AY6wWUWDXeu"
      },
      "source": [
        "4.6 Faire une fonction pour parcourir votre séquence et conter combien de fois le modèle prédire le motif, exprimer en pourcentage."
      ]
    },
    {
      "cell_type": "code",
      "execution_count": 89,
      "metadata": {
        "id": "8CKHHvz21ePg"
      },
      "outputs": [
        {
          "name": "stdout",
          "output_type": "stream",
          "text": [
            "0.25207100591715975\n"
          ]
        }
      ],
      "source": [
        "def predireMotif(sequence:str, motif_length:int, W, b):\n",
        "  \"\"\"\n",
        "  Prédire les positions des motifs et calculer le pourcentage d'apparition du motif.\n",
        "  entrée sequence : sequence de nucleotides \n",
        "  entrée motif_length : taille du motif\n",
        "  entrée W: matrice de poids W\n",
        "  entrée b: bias\n",
        "  sortie perc : pourcentage d'aparission du motif\n",
        "\n",
        "  \"\"\"\n",
        "\n",
        "  countMotif =0; countTotal = 0\n",
        "  \n",
        "  for i in range(len(sequence)-motif_length+1):\n",
        "    seq = sequence[i:i+motif_length]\n",
        "    XTest = createFeatures([seq], 1)\n",
        "    yTest = predict(XTest, W, b)\n",
        "    if yTest == 1:\n",
        "      countMotif+=1\n",
        "    countTotal+=1\n",
        "  return  (countMotif/countTotal)\n",
        "\n",
        "\n",
        "percMotif = predireMotif(sequence, 7, W, b)\n",
        "print(percMotif)\n"
      ]
    },
    {
      "cell_type": "markdown",
      "metadata": {
        "id": "DUZefMwa195Z"
      },
      "source": [
        "4.7 Pour contrôler que le pourcentage d'apparition du motif d'intérêt et pas du au hasard, entraîner un modèle avec un autre motif et vérifier si le pourcentage du motif d'intérêt est supérieur."
      ]
    },
    {
      "cell_type": "code",
      "execution_count": null,
      "metadata": {
        "id": "MjOAIDIK20bP"
      },
      "outputs": [],
      "source": []
    }
  ],
  "metadata": {
    "colab": {
      "provenance": []
    },
    "kernelspec": {
      "display_name": "Python 3",
      "name": "python3"
    },
    "language_info": {
      "codemirror_mode": {
        "name": "ipython",
        "version": 3
      },
      "file_extension": ".py",
      "mimetype": "text/x-python",
      "name": "python",
      "nbconvert_exporter": "python",
      "pygments_lexer": "ipython3",
      "version": "3.9.13"
    }
  },
  "nbformat": 4,
  "nbformat_minor": 0
}
